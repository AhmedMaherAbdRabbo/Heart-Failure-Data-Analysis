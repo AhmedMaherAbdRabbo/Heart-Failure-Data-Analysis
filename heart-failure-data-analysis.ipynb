{
 "cells": [
  {
   "cell_type": "markdown",
   "id": "adae1ec9",
   "metadata": {
    "papermill": {
     "duration": 0.023676,
     "end_time": "2025-01-30T01:16:13.578166",
     "exception": false,
     "start_time": "2025-01-30T01:16:13.554490",
     "status": "completed"
    },
    "tags": []
   },
   "source": [
    "### import libraries"
   ]
  },
  {
   "cell_type": "code",
   "execution_count": 1,
   "id": "da7d90de",
   "metadata": {
    "execution": {
     "iopub.execute_input": "2025-01-30T01:16:13.625215Z",
     "iopub.status.busy": "2025-01-30T01:16:13.624817Z",
     "iopub.status.idle": "2025-01-30T01:16:14.583642Z",
     "shell.execute_reply": "2025-01-30T01:16:14.582126Z"
    },
    "papermill": {
     "duration": 0.98571,
     "end_time": "2025-01-30T01:16:14.586195",
     "exception": false,
     "start_time": "2025-01-30T01:16:13.600485",
     "status": "completed"
    },
    "tags": []
   },
   "outputs": [],
   "source": [
    "import numpy as np \n",
    "import pandas as pd \n",
    "import matplotlib.pyplot as plt"
   ]
  },
  {
   "cell_type": "markdown",
   "id": "4760c2c8",
   "metadata": {
    "papermill": {
     "duration": 0.021834,
     "end_time": "2025-01-30T01:16:14.630005",
     "exception": false,
     "start_time": "2025-01-30T01:16:14.608171",
     "status": "completed"
    },
    "tags": []
   },
   "source": [
    "### Data Representation"
   ]
  },
  {
   "cell_type": "code",
   "execution_count": 2,
   "id": "48c5ed1d",
   "metadata": {
    "execution": {
     "iopub.execute_input": "2025-01-30T01:16:14.676150Z",
     "iopub.status.busy": "2025-01-30T01:16:14.675651Z",
     "iopub.status.idle": "2025-01-30T01:16:14.702031Z",
     "shell.execute_reply": "2025-01-30T01:16:14.700884Z"
    },
    "papermill": {
     "duration": 0.052519,
     "end_time": "2025-01-30T01:16:14.704696",
     "exception": false,
     "start_time": "2025-01-30T01:16:14.652177",
     "status": "completed"
    },
    "tags": []
   },
   "outputs": [],
   "source": [
    "df = pd.read_csv('/kaggle/input/heart-failure-prediction/heart.csv')"
   ]
  },
  {
   "cell_type": "code",
   "execution_count": 3,
   "id": "a3de16e9",
   "metadata": {
    "execution": {
     "iopub.execute_input": "2025-01-30T01:16:14.750385Z",
     "iopub.status.busy": "2025-01-30T01:16:14.749958Z",
     "iopub.status.idle": "2025-01-30T01:16:14.781569Z",
     "shell.execute_reply": "2025-01-30T01:16:14.780399Z"
    },
    "papermill": {
     "duration": 0.057052,
     "end_time": "2025-01-30T01:16:14.783797",
     "exception": false,
     "start_time": "2025-01-30T01:16:14.726745",
     "status": "completed"
    },
    "tags": []
   },
   "outputs": [
    {
     "data": {
      "text/html": [
       "<div>\n",
       "<style scoped>\n",
       "    .dataframe tbody tr th:only-of-type {\n",
       "        vertical-align: middle;\n",
       "    }\n",
       "\n",
       "    .dataframe tbody tr th {\n",
       "        vertical-align: top;\n",
       "    }\n",
       "\n",
       "    .dataframe thead th {\n",
       "        text-align: right;\n",
       "    }\n",
       "</style>\n",
       "<table border=\"1\" class=\"dataframe\">\n",
       "  <thead>\n",
       "    <tr style=\"text-align: right;\">\n",
       "      <th></th>\n",
       "      <th>Age</th>\n",
       "      <th>Sex</th>\n",
       "      <th>ChestPainType</th>\n",
       "      <th>RestingBP</th>\n",
       "      <th>Cholesterol</th>\n",
       "      <th>FastingBS</th>\n",
       "      <th>RestingECG</th>\n",
       "      <th>MaxHR</th>\n",
       "      <th>ExerciseAngina</th>\n",
       "      <th>Oldpeak</th>\n",
       "      <th>ST_Slope</th>\n",
       "      <th>HeartDisease</th>\n",
       "    </tr>\n",
       "  </thead>\n",
       "  <tbody>\n",
       "    <tr>\n",
       "      <th>0</th>\n",
       "      <td>40</td>\n",
       "      <td>M</td>\n",
       "      <td>ATA</td>\n",
       "      <td>140</td>\n",
       "      <td>289</td>\n",
       "      <td>0</td>\n",
       "      <td>Normal</td>\n",
       "      <td>172</td>\n",
       "      <td>N</td>\n",
       "      <td>0.0</td>\n",
       "      <td>Up</td>\n",
       "      <td>0</td>\n",
       "    </tr>\n",
       "    <tr>\n",
       "      <th>1</th>\n",
       "      <td>49</td>\n",
       "      <td>F</td>\n",
       "      <td>NAP</td>\n",
       "      <td>160</td>\n",
       "      <td>180</td>\n",
       "      <td>0</td>\n",
       "      <td>Normal</td>\n",
       "      <td>156</td>\n",
       "      <td>N</td>\n",
       "      <td>1.0</td>\n",
       "      <td>Flat</td>\n",
       "      <td>1</td>\n",
       "    </tr>\n",
       "    <tr>\n",
       "      <th>2</th>\n",
       "      <td>37</td>\n",
       "      <td>M</td>\n",
       "      <td>ATA</td>\n",
       "      <td>130</td>\n",
       "      <td>283</td>\n",
       "      <td>0</td>\n",
       "      <td>ST</td>\n",
       "      <td>98</td>\n",
       "      <td>N</td>\n",
       "      <td>0.0</td>\n",
       "      <td>Up</td>\n",
       "      <td>0</td>\n",
       "    </tr>\n",
       "    <tr>\n",
       "      <th>3</th>\n",
       "      <td>48</td>\n",
       "      <td>F</td>\n",
       "      <td>ASY</td>\n",
       "      <td>138</td>\n",
       "      <td>214</td>\n",
       "      <td>0</td>\n",
       "      <td>Normal</td>\n",
       "      <td>108</td>\n",
       "      <td>Y</td>\n",
       "      <td>1.5</td>\n",
       "      <td>Flat</td>\n",
       "      <td>1</td>\n",
       "    </tr>\n",
       "    <tr>\n",
       "      <th>4</th>\n",
       "      <td>54</td>\n",
       "      <td>M</td>\n",
       "      <td>NAP</td>\n",
       "      <td>150</td>\n",
       "      <td>195</td>\n",
       "      <td>0</td>\n",
       "      <td>Normal</td>\n",
       "      <td>122</td>\n",
       "      <td>N</td>\n",
       "      <td>0.0</td>\n",
       "      <td>Up</td>\n",
       "      <td>0</td>\n",
       "    </tr>\n",
       "    <tr>\n",
       "      <th>...</th>\n",
       "      <td>...</td>\n",
       "      <td>...</td>\n",
       "      <td>...</td>\n",
       "      <td>...</td>\n",
       "      <td>...</td>\n",
       "      <td>...</td>\n",
       "      <td>...</td>\n",
       "      <td>...</td>\n",
       "      <td>...</td>\n",
       "      <td>...</td>\n",
       "      <td>...</td>\n",
       "      <td>...</td>\n",
       "    </tr>\n",
       "    <tr>\n",
       "      <th>913</th>\n",
       "      <td>45</td>\n",
       "      <td>M</td>\n",
       "      <td>TA</td>\n",
       "      <td>110</td>\n",
       "      <td>264</td>\n",
       "      <td>0</td>\n",
       "      <td>Normal</td>\n",
       "      <td>132</td>\n",
       "      <td>N</td>\n",
       "      <td>1.2</td>\n",
       "      <td>Flat</td>\n",
       "      <td>1</td>\n",
       "    </tr>\n",
       "    <tr>\n",
       "      <th>914</th>\n",
       "      <td>68</td>\n",
       "      <td>M</td>\n",
       "      <td>ASY</td>\n",
       "      <td>144</td>\n",
       "      <td>193</td>\n",
       "      <td>1</td>\n",
       "      <td>Normal</td>\n",
       "      <td>141</td>\n",
       "      <td>N</td>\n",
       "      <td>3.4</td>\n",
       "      <td>Flat</td>\n",
       "      <td>1</td>\n",
       "    </tr>\n",
       "    <tr>\n",
       "      <th>915</th>\n",
       "      <td>57</td>\n",
       "      <td>M</td>\n",
       "      <td>ASY</td>\n",
       "      <td>130</td>\n",
       "      <td>131</td>\n",
       "      <td>0</td>\n",
       "      <td>Normal</td>\n",
       "      <td>115</td>\n",
       "      <td>Y</td>\n",
       "      <td>1.2</td>\n",
       "      <td>Flat</td>\n",
       "      <td>1</td>\n",
       "    </tr>\n",
       "    <tr>\n",
       "      <th>916</th>\n",
       "      <td>57</td>\n",
       "      <td>F</td>\n",
       "      <td>ATA</td>\n",
       "      <td>130</td>\n",
       "      <td>236</td>\n",
       "      <td>0</td>\n",
       "      <td>LVH</td>\n",
       "      <td>174</td>\n",
       "      <td>N</td>\n",
       "      <td>0.0</td>\n",
       "      <td>Flat</td>\n",
       "      <td>1</td>\n",
       "    </tr>\n",
       "    <tr>\n",
       "      <th>917</th>\n",
       "      <td>38</td>\n",
       "      <td>M</td>\n",
       "      <td>NAP</td>\n",
       "      <td>138</td>\n",
       "      <td>175</td>\n",
       "      <td>0</td>\n",
       "      <td>Normal</td>\n",
       "      <td>173</td>\n",
       "      <td>N</td>\n",
       "      <td>0.0</td>\n",
       "      <td>Up</td>\n",
       "      <td>0</td>\n",
       "    </tr>\n",
       "  </tbody>\n",
       "</table>\n",
       "<p>918 rows × 12 columns</p>\n",
       "</div>"
      ],
      "text/plain": [
       "     Age Sex ChestPainType  RestingBP  Cholesterol  FastingBS RestingECG  \\\n",
       "0     40   M           ATA        140          289          0     Normal   \n",
       "1     49   F           NAP        160          180          0     Normal   \n",
       "2     37   M           ATA        130          283          0         ST   \n",
       "3     48   F           ASY        138          214          0     Normal   \n",
       "4     54   M           NAP        150          195          0     Normal   \n",
       "..   ...  ..           ...        ...          ...        ...        ...   \n",
       "913   45   M            TA        110          264          0     Normal   \n",
       "914   68   M           ASY        144          193          1     Normal   \n",
       "915   57   M           ASY        130          131          0     Normal   \n",
       "916   57   F           ATA        130          236          0        LVH   \n",
       "917   38   M           NAP        138          175          0     Normal   \n",
       "\n",
       "     MaxHR ExerciseAngina  Oldpeak ST_Slope  HeartDisease  \n",
       "0      172              N      0.0       Up             0  \n",
       "1      156              N      1.0     Flat             1  \n",
       "2       98              N      0.0       Up             0  \n",
       "3      108              Y      1.5     Flat             1  \n",
       "4      122              N      0.0       Up             0  \n",
       "..     ...            ...      ...      ...           ...  \n",
       "913    132              N      1.2     Flat             1  \n",
       "914    141              N      3.4     Flat             1  \n",
       "915    115              Y      1.2     Flat             1  \n",
       "916    174              N      0.0     Flat             1  \n",
       "917    173              N      0.0       Up             0  \n",
       "\n",
       "[918 rows x 12 columns]"
      ]
     },
     "execution_count": 3,
     "metadata": {},
     "output_type": "execute_result"
    }
   ],
   "source": [
    "df"
   ]
  },
  {
   "cell_type": "code",
   "execution_count": 4,
   "id": "fdea08eb",
   "metadata": {
    "execution": {
     "iopub.execute_input": "2025-01-30T01:16:14.829881Z",
     "iopub.status.busy": "2025-01-30T01:16:14.829521Z",
     "iopub.status.idle": "2025-01-30T01:16:14.854353Z",
     "shell.execute_reply": "2025-01-30T01:16:14.853101Z"
    },
    "papermill": {
     "duration": 0.050808,
     "end_time": "2025-01-30T01:16:14.856693",
     "exception": false,
     "start_time": "2025-01-30T01:16:14.805885",
     "status": "completed"
    },
    "tags": []
   },
   "outputs": [
    {
     "name": "stdout",
     "output_type": "stream",
     "text": [
      "<class 'pandas.core.frame.DataFrame'>\n",
      "RangeIndex: 918 entries, 0 to 917\n",
      "Data columns (total 12 columns):\n",
      " #   Column          Non-Null Count  Dtype  \n",
      "---  ------          --------------  -----  \n",
      " 0   Age             918 non-null    int64  \n",
      " 1   Sex             918 non-null    object \n",
      " 2   ChestPainType   918 non-null    object \n",
      " 3   RestingBP       918 non-null    int64  \n",
      " 4   Cholesterol     918 non-null    int64  \n",
      " 5   FastingBS       918 non-null    int64  \n",
      " 6   RestingECG      918 non-null    object \n",
      " 7   MaxHR           918 non-null    int64  \n",
      " 8   ExerciseAngina  918 non-null    object \n",
      " 9   Oldpeak         918 non-null    float64\n",
      " 10  ST_Slope        918 non-null    object \n",
      " 11  HeartDisease    918 non-null    int64  \n",
      "dtypes: float64(1), int64(6), object(5)\n",
      "memory usage: 86.2+ KB\n"
     ]
    }
   ],
   "source": [
    "df.info()"
   ]
  },
  {
   "cell_type": "code",
   "execution_count": 5,
   "id": "aba23e13",
   "metadata": {
    "execution": {
     "iopub.execute_input": "2025-01-30T01:16:14.903855Z",
     "iopub.status.busy": "2025-01-30T01:16:14.903493Z",
     "iopub.status.idle": "2025-01-30T01:16:14.910731Z",
     "shell.execute_reply": "2025-01-30T01:16:14.909369Z"
    },
    "papermill": {
     "duration": 0.034196,
     "end_time": "2025-01-30T01:16:14.912932",
     "exception": false,
     "start_time": "2025-01-30T01:16:14.878736",
     "status": "completed"
    },
    "tags": []
   },
   "outputs": [
    {
     "data": {
      "text/plain": [
       "RangeIndex(start=0, stop=918, step=1)"
      ]
     },
     "execution_count": 5,
     "metadata": {},
     "output_type": "execute_result"
    }
   ],
   "source": [
    "df.index"
   ]
  },
  {
   "cell_type": "code",
   "execution_count": 6,
   "id": "723a7b3b",
   "metadata": {
    "execution": {
     "iopub.execute_input": "2025-01-30T01:16:14.959230Z",
     "iopub.status.busy": "2025-01-30T01:16:14.958887Z",
     "iopub.status.idle": "2025-01-30T01:16:14.989499Z",
     "shell.execute_reply": "2025-01-30T01:16:14.988316Z"
    },
    "papermill": {
     "duration": 0.056175,
     "end_time": "2025-01-30T01:16:14.991800",
     "exception": false,
     "start_time": "2025-01-30T01:16:14.935625",
     "status": "completed"
    },
    "tags": []
   },
   "outputs": [
    {
     "data": {
      "text/html": [
       "<div>\n",
       "<style scoped>\n",
       "    .dataframe tbody tr th:only-of-type {\n",
       "        vertical-align: middle;\n",
       "    }\n",
       "\n",
       "    .dataframe tbody tr th {\n",
       "        vertical-align: top;\n",
       "    }\n",
       "\n",
       "    .dataframe thead th {\n",
       "        text-align: right;\n",
       "    }\n",
       "</style>\n",
       "<table border=\"1\" class=\"dataframe\">\n",
       "  <thead>\n",
       "    <tr style=\"text-align: right;\">\n",
       "      <th></th>\n",
       "      <th>Age</th>\n",
       "      <th>RestingBP</th>\n",
       "      <th>Cholesterol</th>\n",
       "      <th>FastingBS</th>\n",
       "      <th>MaxHR</th>\n",
       "      <th>Oldpeak</th>\n",
       "      <th>HeartDisease</th>\n",
       "    </tr>\n",
       "  </thead>\n",
       "  <tbody>\n",
       "    <tr>\n",
       "      <th>count</th>\n",
       "      <td>918.000000</td>\n",
       "      <td>918.000000</td>\n",
       "      <td>918.000000</td>\n",
       "      <td>918.000000</td>\n",
       "      <td>918.000000</td>\n",
       "      <td>918.000000</td>\n",
       "      <td>918.000000</td>\n",
       "    </tr>\n",
       "    <tr>\n",
       "      <th>mean</th>\n",
       "      <td>53.510893</td>\n",
       "      <td>132.396514</td>\n",
       "      <td>198.799564</td>\n",
       "      <td>0.233115</td>\n",
       "      <td>136.809368</td>\n",
       "      <td>0.887364</td>\n",
       "      <td>0.553377</td>\n",
       "    </tr>\n",
       "    <tr>\n",
       "      <th>std</th>\n",
       "      <td>9.432617</td>\n",
       "      <td>18.514154</td>\n",
       "      <td>109.384145</td>\n",
       "      <td>0.423046</td>\n",
       "      <td>25.460334</td>\n",
       "      <td>1.066570</td>\n",
       "      <td>0.497414</td>\n",
       "    </tr>\n",
       "    <tr>\n",
       "      <th>min</th>\n",
       "      <td>28.000000</td>\n",
       "      <td>0.000000</td>\n",
       "      <td>0.000000</td>\n",
       "      <td>0.000000</td>\n",
       "      <td>60.000000</td>\n",
       "      <td>-2.600000</td>\n",
       "      <td>0.000000</td>\n",
       "    </tr>\n",
       "    <tr>\n",
       "      <th>25%</th>\n",
       "      <td>47.000000</td>\n",
       "      <td>120.000000</td>\n",
       "      <td>173.250000</td>\n",
       "      <td>0.000000</td>\n",
       "      <td>120.000000</td>\n",
       "      <td>0.000000</td>\n",
       "      <td>0.000000</td>\n",
       "    </tr>\n",
       "    <tr>\n",
       "      <th>50%</th>\n",
       "      <td>54.000000</td>\n",
       "      <td>130.000000</td>\n",
       "      <td>223.000000</td>\n",
       "      <td>0.000000</td>\n",
       "      <td>138.000000</td>\n",
       "      <td>0.600000</td>\n",
       "      <td>1.000000</td>\n",
       "    </tr>\n",
       "    <tr>\n",
       "      <th>75%</th>\n",
       "      <td>60.000000</td>\n",
       "      <td>140.000000</td>\n",
       "      <td>267.000000</td>\n",
       "      <td>0.000000</td>\n",
       "      <td>156.000000</td>\n",
       "      <td>1.500000</td>\n",
       "      <td>1.000000</td>\n",
       "    </tr>\n",
       "    <tr>\n",
       "      <th>max</th>\n",
       "      <td>77.000000</td>\n",
       "      <td>200.000000</td>\n",
       "      <td>603.000000</td>\n",
       "      <td>1.000000</td>\n",
       "      <td>202.000000</td>\n",
       "      <td>6.200000</td>\n",
       "      <td>1.000000</td>\n",
       "    </tr>\n",
       "  </tbody>\n",
       "</table>\n",
       "</div>"
      ],
      "text/plain": [
       "              Age   RestingBP  Cholesterol   FastingBS       MaxHR  \\\n",
       "count  918.000000  918.000000   918.000000  918.000000  918.000000   \n",
       "mean    53.510893  132.396514   198.799564    0.233115  136.809368   \n",
       "std      9.432617   18.514154   109.384145    0.423046   25.460334   \n",
       "min     28.000000    0.000000     0.000000    0.000000   60.000000   \n",
       "25%     47.000000  120.000000   173.250000    0.000000  120.000000   \n",
       "50%     54.000000  130.000000   223.000000    0.000000  138.000000   \n",
       "75%     60.000000  140.000000   267.000000    0.000000  156.000000   \n",
       "max     77.000000  200.000000   603.000000    1.000000  202.000000   \n",
       "\n",
       "          Oldpeak  HeartDisease  \n",
       "count  918.000000    918.000000  \n",
       "mean     0.887364      0.553377  \n",
       "std      1.066570      0.497414  \n",
       "min     -2.600000      0.000000  \n",
       "25%      0.000000      0.000000  \n",
       "50%      0.600000      1.000000  \n",
       "75%      1.500000      1.000000  \n",
       "max      6.200000      1.000000  "
      ]
     },
     "execution_count": 6,
     "metadata": {},
     "output_type": "execute_result"
    }
   ],
   "source": [
    "df.describe()"
   ]
  },
  {
   "cell_type": "code",
   "execution_count": 7,
   "id": "2ae2af2b",
   "metadata": {
    "execution": {
     "iopub.execute_input": "2025-01-30T01:16:15.039771Z",
     "iopub.status.busy": "2025-01-30T01:16:15.038849Z",
     "iopub.status.idle": "2025-01-30T01:16:15.067793Z",
     "shell.execute_reply": "2025-01-30T01:16:15.066753Z"
    },
    "papermill": {
     "duration": 0.055329,
     "end_time": "2025-01-30T01:16:15.070065",
     "exception": false,
     "start_time": "2025-01-30T01:16:15.014736",
     "status": "completed"
    },
    "tags": []
   },
   "outputs": [
    {
     "data": {
      "text/html": [
       "<div>\n",
       "<style scoped>\n",
       "    .dataframe tbody tr th:only-of-type {\n",
       "        vertical-align: middle;\n",
       "    }\n",
       "\n",
       "    .dataframe tbody tr th {\n",
       "        vertical-align: top;\n",
       "    }\n",
       "\n",
       "    .dataframe thead th {\n",
       "        text-align: right;\n",
       "    }\n",
       "</style>\n",
       "<table border=\"1\" class=\"dataframe\">\n",
       "  <thead>\n",
       "    <tr style=\"text-align: right;\">\n",
       "      <th></th>\n",
       "      <th>count</th>\n",
       "      <th>mean</th>\n",
       "      <th>std</th>\n",
       "      <th>min</th>\n",
       "      <th>25%</th>\n",
       "      <th>50%</th>\n",
       "      <th>75%</th>\n",
       "      <th>max</th>\n",
       "    </tr>\n",
       "  </thead>\n",
       "  <tbody>\n",
       "    <tr>\n",
       "      <th>Age</th>\n",
       "      <td>918.0</td>\n",
       "      <td>53.510893</td>\n",
       "      <td>9.432617</td>\n",
       "      <td>28.0</td>\n",
       "      <td>47.00</td>\n",
       "      <td>54.0</td>\n",
       "      <td>60.0</td>\n",
       "      <td>77.0</td>\n",
       "    </tr>\n",
       "    <tr>\n",
       "      <th>RestingBP</th>\n",
       "      <td>918.0</td>\n",
       "      <td>132.396514</td>\n",
       "      <td>18.514154</td>\n",
       "      <td>0.0</td>\n",
       "      <td>120.00</td>\n",
       "      <td>130.0</td>\n",
       "      <td>140.0</td>\n",
       "      <td>200.0</td>\n",
       "    </tr>\n",
       "    <tr>\n",
       "      <th>Cholesterol</th>\n",
       "      <td>918.0</td>\n",
       "      <td>198.799564</td>\n",
       "      <td>109.384145</td>\n",
       "      <td>0.0</td>\n",
       "      <td>173.25</td>\n",
       "      <td>223.0</td>\n",
       "      <td>267.0</td>\n",
       "      <td>603.0</td>\n",
       "    </tr>\n",
       "    <tr>\n",
       "      <th>FastingBS</th>\n",
       "      <td>918.0</td>\n",
       "      <td>0.233115</td>\n",
       "      <td>0.423046</td>\n",
       "      <td>0.0</td>\n",
       "      <td>0.00</td>\n",
       "      <td>0.0</td>\n",
       "      <td>0.0</td>\n",
       "      <td>1.0</td>\n",
       "    </tr>\n",
       "    <tr>\n",
       "      <th>MaxHR</th>\n",
       "      <td>918.0</td>\n",
       "      <td>136.809368</td>\n",
       "      <td>25.460334</td>\n",
       "      <td>60.0</td>\n",
       "      <td>120.00</td>\n",
       "      <td>138.0</td>\n",
       "      <td>156.0</td>\n",
       "      <td>202.0</td>\n",
       "    </tr>\n",
       "    <tr>\n",
       "      <th>Oldpeak</th>\n",
       "      <td>918.0</td>\n",
       "      <td>0.887364</td>\n",
       "      <td>1.066570</td>\n",
       "      <td>-2.6</td>\n",
       "      <td>0.00</td>\n",
       "      <td>0.6</td>\n",
       "      <td>1.5</td>\n",
       "      <td>6.2</td>\n",
       "    </tr>\n",
       "    <tr>\n",
       "      <th>HeartDisease</th>\n",
       "      <td>918.0</td>\n",
       "      <td>0.553377</td>\n",
       "      <td>0.497414</td>\n",
       "      <td>0.0</td>\n",
       "      <td>0.00</td>\n",
       "      <td>1.0</td>\n",
       "      <td>1.0</td>\n",
       "      <td>1.0</td>\n",
       "    </tr>\n",
       "  </tbody>\n",
       "</table>\n",
       "</div>"
      ],
      "text/plain": [
       "              count        mean         std   min     25%    50%    75%    max\n",
       "Age           918.0   53.510893    9.432617  28.0   47.00   54.0   60.0   77.0\n",
       "RestingBP     918.0  132.396514   18.514154   0.0  120.00  130.0  140.0  200.0\n",
       "Cholesterol   918.0  198.799564  109.384145   0.0  173.25  223.0  267.0  603.0\n",
       "FastingBS     918.0    0.233115    0.423046   0.0    0.00    0.0    0.0    1.0\n",
       "MaxHR         918.0  136.809368   25.460334  60.0  120.00  138.0  156.0  202.0\n",
       "Oldpeak       918.0    0.887364    1.066570  -2.6    0.00    0.6    1.5    6.2\n",
       "HeartDisease  918.0    0.553377    0.497414   0.0    0.00    1.0    1.0    1.0"
      ]
     },
     "execution_count": 7,
     "metadata": {},
     "output_type": "execute_result"
    }
   ],
   "source": [
    "df.describe().T"
   ]
  },
  {
   "cell_type": "code",
   "execution_count": 8,
   "id": "47551de7",
   "metadata": {
    "execution": {
     "iopub.execute_input": "2025-01-30T01:16:15.117711Z",
     "iopub.status.busy": "2025-01-30T01:16:15.116758Z",
     "iopub.status.idle": "2025-01-30T01:16:15.130959Z",
     "shell.execute_reply": "2025-01-30T01:16:15.129835Z"
    },
    "papermill": {
     "duration": 0.040147,
     "end_time": "2025-01-30T01:16:15.133103",
     "exception": false,
     "start_time": "2025-01-30T01:16:15.092956",
     "status": "completed"
    },
    "tags": []
   },
   "outputs": [
    {
     "data": {
      "text/html": [
       "<div>\n",
       "<style scoped>\n",
       "    .dataframe tbody tr th:only-of-type {\n",
       "        vertical-align: middle;\n",
       "    }\n",
       "\n",
       "    .dataframe tbody tr th {\n",
       "        vertical-align: top;\n",
       "    }\n",
       "\n",
       "    .dataframe thead th {\n",
       "        text-align: right;\n",
       "    }\n",
       "</style>\n",
       "<table border=\"1\" class=\"dataframe\">\n",
       "  <thead>\n",
       "    <tr style=\"text-align: right;\">\n",
       "      <th></th>\n",
       "      <th>Age</th>\n",
       "      <th>Sex</th>\n",
       "      <th>ChestPainType</th>\n",
       "      <th>RestingBP</th>\n",
       "      <th>Cholesterol</th>\n",
       "      <th>FastingBS</th>\n",
       "      <th>RestingECG</th>\n",
       "      <th>MaxHR</th>\n",
       "      <th>ExerciseAngina</th>\n",
       "      <th>Oldpeak</th>\n",
       "      <th>ST_Slope</th>\n",
       "      <th>HeartDisease</th>\n",
       "    </tr>\n",
       "  </thead>\n",
       "  <tbody>\n",
       "    <tr>\n",
       "      <th>0</th>\n",
       "      <td>40</td>\n",
       "      <td>M</td>\n",
       "      <td>ATA</td>\n",
       "      <td>140</td>\n",
       "      <td>289</td>\n",
       "      <td>0</td>\n",
       "      <td>Normal</td>\n",
       "      <td>172</td>\n",
       "      <td>N</td>\n",
       "      <td>0.0</td>\n",
       "      <td>Up</td>\n",
       "      <td>0</td>\n",
       "    </tr>\n",
       "    <tr>\n",
       "      <th>1</th>\n",
       "      <td>49</td>\n",
       "      <td>F</td>\n",
       "      <td>NAP</td>\n",
       "      <td>160</td>\n",
       "      <td>180</td>\n",
       "      <td>0</td>\n",
       "      <td>Normal</td>\n",
       "      <td>156</td>\n",
       "      <td>N</td>\n",
       "      <td>1.0</td>\n",
       "      <td>Flat</td>\n",
       "      <td>1</td>\n",
       "    </tr>\n",
       "    <tr>\n",
       "      <th>2</th>\n",
       "      <td>37</td>\n",
       "      <td>M</td>\n",
       "      <td>ATA</td>\n",
       "      <td>130</td>\n",
       "      <td>283</td>\n",
       "      <td>0</td>\n",
       "      <td>ST</td>\n",
       "      <td>98</td>\n",
       "      <td>N</td>\n",
       "      <td>0.0</td>\n",
       "      <td>Up</td>\n",
       "      <td>0</td>\n",
       "    </tr>\n",
       "    <tr>\n",
       "      <th>3</th>\n",
       "      <td>48</td>\n",
       "      <td>F</td>\n",
       "      <td>ASY</td>\n",
       "      <td>138</td>\n",
       "      <td>214</td>\n",
       "      <td>0</td>\n",
       "      <td>Normal</td>\n",
       "      <td>108</td>\n",
       "      <td>Y</td>\n",
       "      <td>1.5</td>\n",
       "      <td>Flat</td>\n",
       "      <td>1</td>\n",
       "    </tr>\n",
       "    <tr>\n",
       "      <th>4</th>\n",
       "      <td>54</td>\n",
       "      <td>M</td>\n",
       "      <td>NAP</td>\n",
       "      <td>150</td>\n",
       "      <td>195</td>\n",
       "      <td>0</td>\n",
       "      <td>Normal</td>\n",
       "      <td>122</td>\n",
       "      <td>N</td>\n",
       "      <td>0.0</td>\n",
       "      <td>Up</td>\n",
       "      <td>0</td>\n",
       "    </tr>\n",
       "  </tbody>\n",
       "</table>\n",
       "</div>"
      ],
      "text/plain": [
       "   Age Sex ChestPainType  RestingBP  Cholesterol  FastingBS RestingECG  MaxHR  \\\n",
       "0   40   M           ATA        140          289          0     Normal    172   \n",
       "1   49   F           NAP        160          180          0     Normal    156   \n",
       "2   37   M           ATA        130          283          0         ST     98   \n",
       "3   48   F           ASY        138          214          0     Normal    108   \n",
       "4   54   M           NAP        150          195          0     Normal    122   \n",
       "\n",
       "  ExerciseAngina  Oldpeak ST_Slope  HeartDisease  \n",
       "0              N      0.0       Up             0  \n",
       "1              N      1.0     Flat             1  \n",
       "2              N      0.0       Up             0  \n",
       "3              Y      1.5     Flat             1  \n",
       "4              N      0.0       Up             0  "
      ]
     },
     "execution_count": 8,
     "metadata": {},
     "output_type": "execute_result"
    }
   ],
   "source": [
    "df.head()"
   ]
  },
  {
   "cell_type": "code",
   "execution_count": 9,
   "id": "0579b346",
   "metadata": {
    "execution": {
     "iopub.execute_input": "2025-01-30T01:16:15.179871Z",
     "iopub.status.busy": "2025-01-30T01:16:15.179463Z",
     "iopub.status.idle": "2025-01-30T01:16:15.194918Z",
     "shell.execute_reply": "2025-01-30T01:16:15.193641Z"
    },
    "papermill": {
     "duration": 0.041673,
     "end_time": "2025-01-30T01:16:15.197308",
     "exception": false,
     "start_time": "2025-01-30T01:16:15.155635",
     "status": "completed"
    },
    "tags": []
   },
   "outputs": [
    {
     "data": {
      "text/html": [
       "<div>\n",
       "<style scoped>\n",
       "    .dataframe tbody tr th:only-of-type {\n",
       "        vertical-align: middle;\n",
       "    }\n",
       "\n",
       "    .dataframe tbody tr th {\n",
       "        vertical-align: top;\n",
       "    }\n",
       "\n",
       "    .dataframe thead th {\n",
       "        text-align: right;\n",
       "    }\n",
       "</style>\n",
       "<table border=\"1\" class=\"dataframe\">\n",
       "  <thead>\n",
       "    <tr style=\"text-align: right;\">\n",
       "      <th></th>\n",
       "      <th>Age</th>\n",
       "      <th>Sex</th>\n",
       "      <th>ChestPainType</th>\n",
       "      <th>RestingBP</th>\n",
       "      <th>Cholesterol</th>\n",
       "      <th>FastingBS</th>\n",
       "      <th>RestingECG</th>\n",
       "      <th>MaxHR</th>\n",
       "      <th>ExerciseAngina</th>\n",
       "      <th>Oldpeak</th>\n",
       "      <th>ST_Slope</th>\n",
       "      <th>HeartDisease</th>\n",
       "    </tr>\n",
       "  </thead>\n",
       "  <tbody>\n",
       "    <tr>\n",
       "      <th>913</th>\n",
       "      <td>45</td>\n",
       "      <td>M</td>\n",
       "      <td>TA</td>\n",
       "      <td>110</td>\n",
       "      <td>264</td>\n",
       "      <td>0</td>\n",
       "      <td>Normal</td>\n",
       "      <td>132</td>\n",
       "      <td>N</td>\n",
       "      <td>1.2</td>\n",
       "      <td>Flat</td>\n",
       "      <td>1</td>\n",
       "    </tr>\n",
       "    <tr>\n",
       "      <th>914</th>\n",
       "      <td>68</td>\n",
       "      <td>M</td>\n",
       "      <td>ASY</td>\n",
       "      <td>144</td>\n",
       "      <td>193</td>\n",
       "      <td>1</td>\n",
       "      <td>Normal</td>\n",
       "      <td>141</td>\n",
       "      <td>N</td>\n",
       "      <td>3.4</td>\n",
       "      <td>Flat</td>\n",
       "      <td>1</td>\n",
       "    </tr>\n",
       "    <tr>\n",
       "      <th>915</th>\n",
       "      <td>57</td>\n",
       "      <td>M</td>\n",
       "      <td>ASY</td>\n",
       "      <td>130</td>\n",
       "      <td>131</td>\n",
       "      <td>0</td>\n",
       "      <td>Normal</td>\n",
       "      <td>115</td>\n",
       "      <td>Y</td>\n",
       "      <td>1.2</td>\n",
       "      <td>Flat</td>\n",
       "      <td>1</td>\n",
       "    </tr>\n",
       "    <tr>\n",
       "      <th>916</th>\n",
       "      <td>57</td>\n",
       "      <td>F</td>\n",
       "      <td>ATA</td>\n",
       "      <td>130</td>\n",
       "      <td>236</td>\n",
       "      <td>0</td>\n",
       "      <td>LVH</td>\n",
       "      <td>174</td>\n",
       "      <td>N</td>\n",
       "      <td>0.0</td>\n",
       "      <td>Flat</td>\n",
       "      <td>1</td>\n",
       "    </tr>\n",
       "    <tr>\n",
       "      <th>917</th>\n",
       "      <td>38</td>\n",
       "      <td>M</td>\n",
       "      <td>NAP</td>\n",
       "      <td>138</td>\n",
       "      <td>175</td>\n",
       "      <td>0</td>\n",
       "      <td>Normal</td>\n",
       "      <td>173</td>\n",
       "      <td>N</td>\n",
       "      <td>0.0</td>\n",
       "      <td>Up</td>\n",
       "      <td>0</td>\n",
       "    </tr>\n",
       "  </tbody>\n",
       "</table>\n",
       "</div>"
      ],
      "text/plain": [
       "     Age Sex ChestPainType  RestingBP  Cholesterol  FastingBS RestingECG  \\\n",
       "913   45   M            TA        110          264          0     Normal   \n",
       "914   68   M           ASY        144          193          1     Normal   \n",
       "915   57   M           ASY        130          131          0     Normal   \n",
       "916   57   F           ATA        130          236          0        LVH   \n",
       "917   38   M           NAP        138          175          0     Normal   \n",
       "\n",
       "     MaxHR ExerciseAngina  Oldpeak ST_Slope  HeartDisease  \n",
       "913    132              N      1.2     Flat             1  \n",
       "914    141              N      3.4     Flat             1  \n",
       "915    115              Y      1.2     Flat             1  \n",
       "916    174              N      0.0     Flat             1  \n",
       "917    173              N      0.0       Up             0  "
      ]
     },
     "execution_count": 9,
     "metadata": {},
     "output_type": "execute_result"
    }
   ],
   "source": [
    "df.tail()"
   ]
  },
  {
   "cell_type": "code",
   "execution_count": 10,
   "id": "ad5bc4f3",
   "metadata": {
    "execution": {
     "iopub.execute_input": "2025-01-30T01:16:15.246786Z",
     "iopub.status.busy": "2025-01-30T01:16:15.246250Z",
     "iopub.status.idle": "2025-01-30T01:16:15.263039Z",
     "shell.execute_reply": "2025-01-30T01:16:15.261893Z"
    },
    "papermill": {
     "duration": 0.04361,
     "end_time": "2025-01-30T01:16:15.265255",
     "exception": false,
     "start_time": "2025-01-30T01:16:15.221645",
     "status": "completed"
    },
    "tags": []
   },
   "outputs": [
    {
     "data": {
      "text/html": [
       "<div>\n",
       "<style scoped>\n",
       "    .dataframe tbody tr th:only-of-type {\n",
       "        vertical-align: middle;\n",
       "    }\n",
       "\n",
       "    .dataframe tbody tr th {\n",
       "        vertical-align: top;\n",
       "    }\n",
       "\n",
       "    .dataframe thead th {\n",
       "        text-align: right;\n",
       "    }\n",
       "</style>\n",
       "<table border=\"1\" class=\"dataframe\">\n",
       "  <thead>\n",
       "    <tr style=\"text-align: right;\">\n",
       "      <th></th>\n",
       "      <th>Age</th>\n",
       "      <th>Sex</th>\n",
       "      <th>ChestPainType</th>\n",
       "      <th>RestingBP</th>\n",
       "      <th>Cholesterol</th>\n",
       "      <th>FastingBS</th>\n",
       "      <th>RestingECG</th>\n",
       "      <th>MaxHR</th>\n",
       "      <th>ExerciseAngina</th>\n",
       "      <th>Oldpeak</th>\n",
       "      <th>ST_Slope</th>\n",
       "      <th>HeartDisease</th>\n",
       "    </tr>\n",
       "  </thead>\n",
       "  <tbody>\n",
       "    <tr>\n",
       "      <th>563</th>\n",
       "      <td>55</td>\n",
       "      <td>M</td>\n",
       "      <td>ASY</td>\n",
       "      <td>135</td>\n",
       "      <td>204</td>\n",
       "      <td>1</td>\n",
       "      <td>ST</td>\n",
       "      <td>126</td>\n",
       "      <td>Y</td>\n",
       "      <td>1.1</td>\n",
       "      <td>Flat</td>\n",
       "      <td>1</td>\n",
       "    </tr>\n",
       "    <tr>\n",
       "      <th>9</th>\n",
       "      <td>48</td>\n",
       "      <td>F</td>\n",
       "      <td>ATA</td>\n",
       "      <td>120</td>\n",
       "      <td>284</td>\n",
       "      <td>0</td>\n",
       "      <td>Normal</td>\n",
       "      <td>120</td>\n",
       "      <td>N</td>\n",
       "      <td>0.0</td>\n",
       "      <td>Up</td>\n",
       "      <td>0</td>\n",
       "    </tr>\n",
       "    <tr>\n",
       "      <th>546</th>\n",
       "      <td>48</td>\n",
       "      <td>M</td>\n",
       "      <td>NAP</td>\n",
       "      <td>132</td>\n",
       "      <td>220</td>\n",
       "      <td>1</td>\n",
       "      <td>ST</td>\n",
       "      <td>162</td>\n",
       "      <td>N</td>\n",
       "      <td>0.0</td>\n",
       "      <td>Flat</td>\n",
       "      <td>1</td>\n",
       "    </tr>\n",
       "    <tr>\n",
       "      <th>571</th>\n",
       "      <td>69</td>\n",
       "      <td>M</td>\n",
       "      <td>ASY</td>\n",
       "      <td>140</td>\n",
       "      <td>110</td>\n",
       "      <td>1</td>\n",
       "      <td>Normal</td>\n",
       "      <td>109</td>\n",
       "      <td>Y</td>\n",
       "      <td>1.5</td>\n",
       "      <td>Flat</td>\n",
       "      <td>1</td>\n",
       "    </tr>\n",
       "    <tr>\n",
       "      <th>858</th>\n",
       "      <td>62</td>\n",
       "      <td>F</td>\n",
       "      <td>ASY</td>\n",
       "      <td>140</td>\n",
       "      <td>268</td>\n",
       "      <td>0</td>\n",
       "      <td>LVH</td>\n",
       "      <td>160</td>\n",
       "      <td>N</td>\n",
       "      <td>3.6</td>\n",
       "      <td>Down</td>\n",
       "      <td>1</td>\n",
       "    </tr>\n",
       "  </tbody>\n",
       "</table>\n",
       "</div>"
      ],
      "text/plain": [
       "     Age Sex ChestPainType  RestingBP  Cholesterol  FastingBS RestingECG  \\\n",
       "563   55   M           ASY        135          204          1         ST   \n",
       "9     48   F           ATA        120          284          0     Normal   \n",
       "546   48   M           NAP        132          220          1         ST   \n",
       "571   69   M           ASY        140          110          1     Normal   \n",
       "858   62   F           ASY        140          268          0        LVH   \n",
       "\n",
       "     MaxHR ExerciseAngina  Oldpeak ST_Slope  HeartDisease  \n",
       "563    126              Y      1.1     Flat             1  \n",
       "9      120              N      0.0       Up             0  \n",
       "546    162              N      0.0     Flat             1  \n",
       "571    109              Y      1.5     Flat             1  \n",
       "858    160              N      3.6     Down             1  "
      ]
     },
     "execution_count": 10,
     "metadata": {},
     "output_type": "execute_result"
    }
   ],
   "source": [
    "df.sample(5)"
   ]
  },
  {
   "cell_type": "code",
   "execution_count": 11,
   "id": "21be30b8",
   "metadata": {
    "execution": {
     "iopub.execute_input": "2025-01-30T01:16:15.368342Z",
     "iopub.status.busy": "2025-01-30T01:16:15.367404Z",
     "iopub.status.idle": "2025-01-30T01:16:15.379765Z",
     "shell.execute_reply": "2025-01-30T01:16:15.378668Z"
    },
    "papermill": {
     "duration": 0.038896,
     "end_time": "2025-01-30T01:16:15.381755",
     "exception": false,
     "start_time": "2025-01-30T01:16:15.342859",
     "status": "completed"
    },
    "tags": []
   },
   "outputs": [
    {
     "data": {
      "text/plain": [
       "Age                50\n",
       "Sex                 2\n",
       "ChestPainType       4\n",
       "RestingBP          67\n",
       "Cholesterol       222\n",
       "FastingBS           2\n",
       "RestingECG          3\n",
       "MaxHR             119\n",
       "ExerciseAngina      2\n",
       "Oldpeak            53\n",
       "ST_Slope            3\n",
       "HeartDisease        2\n",
       "dtype: int64"
      ]
     },
     "execution_count": 11,
     "metadata": {},
     "output_type": "execute_result"
    }
   ],
   "source": [
    "df.nunique()"
   ]
  },
  {
   "cell_type": "markdown",
   "id": "fc3e2dfa",
   "metadata": {
    "papermill": {
     "duration": 0.023364,
     "end_time": "2025-01-30T01:16:15.428972",
     "exception": false,
     "start_time": "2025-01-30T01:16:15.405608",
     "status": "completed"
    },
    "tags": []
   },
   "source": [
    "**Missing Values**"
   ]
  },
  {
   "cell_type": "code",
   "execution_count": 12,
   "id": "1039b535",
   "metadata": {
    "execution": {
     "iopub.execute_input": "2025-01-30T01:16:15.477890Z",
     "iopub.status.busy": "2025-01-30T01:16:15.477449Z",
     "iopub.status.idle": "2025-01-30T01:16:15.486947Z",
     "shell.execute_reply": "2025-01-30T01:16:15.485730Z"
    },
    "papermill": {
     "duration": 0.036667,
     "end_time": "2025-01-30T01:16:15.489084",
     "exception": false,
     "start_time": "2025-01-30T01:16:15.452417",
     "status": "completed"
    },
    "tags": []
   },
   "outputs": [
    {
     "data": {
      "text/plain": [
       "Age               0\n",
       "Sex               0\n",
       "ChestPainType     0\n",
       "RestingBP         0\n",
       "Cholesterol       0\n",
       "FastingBS         0\n",
       "RestingECG        0\n",
       "MaxHR             0\n",
       "ExerciseAngina    0\n",
       "Oldpeak           0\n",
       "ST_Slope          0\n",
       "HeartDisease      0\n",
       "dtype: int64"
      ]
     },
     "execution_count": 12,
     "metadata": {},
     "output_type": "execute_result"
    }
   ],
   "source": [
    "df.isna().sum()"
   ]
  },
  {
   "cell_type": "markdown",
   "id": "7eeaa592",
   "metadata": {
    "papermill": {
     "duration": 0.023372,
     "end_time": "2025-01-30T01:16:15.537320",
     "exception": false,
     "start_time": "2025-01-30T01:16:15.513948",
     "status": "completed"
    },
    "tags": []
   },
   "source": [
    "**Duplicates**"
   ]
  },
  {
   "cell_type": "code",
   "execution_count": 13,
   "id": "f242edb3",
   "metadata": {
    "execution": {
     "iopub.execute_input": "2025-01-30T01:16:15.586201Z",
     "iopub.status.busy": "2025-01-30T01:16:15.585807Z",
     "iopub.status.idle": "2025-01-30T01:16:15.596116Z",
     "shell.execute_reply": "2025-01-30T01:16:15.595009Z"
    },
    "papermill": {
     "duration": 0.037726,
     "end_time": "2025-01-30T01:16:15.598674",
     "exception": false,
     "start_time": "2025-01-30T01:16:15.560948",
     "status": "completed"
    },
    "tags": []
   },
   "outputs": [
    {
     "data": {
      "text/plain": [
       "0"
      ]
     },
     "execution_count": 13,
     "metadata": {},
     "output_type": "execute_result"
    }
   ],
   "source": [
    "df.duplicated().sum()"
   ]
  },
  {
   "cell_type": "markdown",
   "id": "6cd6f5ca",
   "metadata": {
    "papermill": {
     "duration": 0.023761,
     "end_time": "2025-01-30T01:16:15.645951",
     "exception": false,
     "start_time": "2025-01-30T01:16:15.622190",
     "status": "completed"
    },
    "tags": []
   },
   "source": [
    "**Outliers**"
   ]
  },
  {
   "cell_type": "code",
   "execution_count": 14,
   "id": "4971c644",
   "metadata": {
    "execution": {
     "iopub.execute_input": "2025-01-30T01:16:15.696946Z",
     "iopub.status.busy": "2025-01-30T01:16:15.696563Z",
     "iopub.status.idle": "2025-01-30T01:16:15.708029Z",
     "shell.execute_reply": "2025-01-30T01:16:15.706704Z"
    },
    "papermill": {
     "duration": 0.040349,
     "end_time": "2025-01-30T01:16:15.710368",
     "exception": false,
     "start_time": "2025-01-30T01:16:15.670019",
     "status": "completed"
    },
    "tags": []
   },
   "outputs": [
    {
     "data": {
      "text/plain": [
       "count    918.000000\n",
       "mean     136.809368\n",
       "std       25.460334\n",
       "min       60.000000\n",
       "25%      120.000000\n",
       "50%      138.000000\n",
       "75%      156.000000\n",
       "max      202.000000\n",
       "Name: MaxHR, dtype: float64"
      ]
     },
     "execution_count": 14,
     "metadata": {},
     "output_type": "execute_result"
    }
   ],
   "source": [
    "df.MaxHR.describe()"
   ]
  },
  {
   "cell_type": "code",
   "execution_count": 15,
   "id": "dc3af3c6",
   "metadata": {
    "execution": {
     "iopub.execute_input": "2025-01-30T01:16:15.759908Z",
     "iopub.status.busy": "2025-01-30T01:16:15.759507Z",
     "iopub.status.idle": "2025-01-30T01:16:15.767423Z",
     "shell.execute_reply": "2025-01-30T01:16:15.766515Z"
    },
    "papermill": {
     "duration": 0.034931,
     "end_time": "2025-01-30T01:16:15.769546",
     "exception": false,
     "start_time": "2025-01-30T01:16:15.734615",
     "status": "completed"
    },
    "tags": []
   },
   "outputs": [],
   "source": [
    "Q1 = df['MaxHR'].quantile(0.25)\n",
    "Q3 = df['MaxHR'].quantile(0.75)\n",
    "IQR = Q3 - Q1"
   ]
  },
  {
   "cell_type": "code",
   "execution_count": 16,
   "id": "72fbaa03",
   "metadata": {
    "execution": {
     "iopub.execute_input": "2025-01-30T01:16:15.819365Z",
     "iopub.status.busy": "2025-01-30T01:16:15.818935Z",
     "iopub.status.idle": "2025-01-30T01:16:15.823945Z",
     "shell.execute_reply": "2025-01-30T01:16:15.822770Z"
    },
    "papermill": {
     "duration": 0.031983,
     "end_time": "2025-01-30T01:16:15.825885",
     "exception": false,
     "start_time": "2025-01-30T01:16:15.793902",
     "status": "completed"
    },
    "tags": []
   },
   "outputs": [],
   "source": [
    "lower_bound = Q1 - 1.5 * IQR\n",
    "upper_bound = Q3 + 1.5 * IQR"
   ]
  },
  {
   "cell_type": "code",
   "execution_count": 17,
   "id": "beb63c01",
   "metadata": {
    "execution": {
     "iopub.execute_input": "2025-01-30T01:16:15.879363Z",
     "iopub.status.busy": "2025-01-30T01:16:15.878934Z",
     "iopub.status.idle": "2025-01-30T01:16:15.894350Z",
     "shell.execute_reply": "2025-01-30T01:16:15.893353Z"
    },
    "papermill": {
     "duration": 0.042416,
     "end_time": "2025-01-30T01:16:15.896481",
     "exception": false,
     "start_time": "2025-01-30T01:16:15.854065",
     "status": "completed"
    },
    "tags": []
   },
   "outputs": [
    {
     "data": {
      "text/html": [
       "<div>\n",
       "<style scoped>\n",
       "    .dataframe tbody tr th:only-of-type {\n",
       "        vertical-align: middle;\n",
       "    }\n",
       "\n",
       "    .dataframe tbody tr th {\n",
       "        vertical-align: top;\n",
       "    }\n",
       "\n",
       "    .dataframe thead th {\n",
       "        text-align: right;\n",
       "    }\n",
       "</style>\n",
       "<table border=\"1\" class=\"dataframe\">\n",
       "  <thead>\n",
       "    <tr style=\"text-align: right;\">\n",
       "      <th></th>\n",
       "      <th>Age</th>\n",
       "      <th>Sex</th>\n",
       "      <th>ChestPainType</th>\n",
       "      <th>RestingBP</th>\n",
       "      <th>Cholesterol</th>\n",
       "      <th>FastingBS</th>\n",
       "      <th>RestingECG</th>\n",
       "      <th>MaxHR</th>\n",
       "      <th>ExerciseAngina</th>\n",
       "      <th>Oldpeak</th>\n",
       "      <th>ST_Slope</th>\n",
       "      <th>HeartDisease</th>\n",
       "    </tr>\n",
       "  </thead>\n",
       "  <tbody>\n",
       "    <tr>\n",
       "      <th>370</th>\n",
       "      <td>60</td>\n",
       "      <td>M</td>\n",
       "      <td>ASY</td>\n",
       "      <td>135</td>\n",
       "      <td>0</td>\n",
       "      <td>0</td>\n",
       "      <td>Normal</td>\n",
       "      <td>63</td>\n",
       "      <td>Y</td>\n",
       "      <td>0.5</td>\n",
       "      <td>Up</td>\n",
       "      <td>1</td>\n",
       "    </tr>\n",
       "    <tr>\n",
       "      <th>390</th>\n",
       "      <td>51</td>\n",
       "      <td>M</td>\n",
       "      <td>ASY</td>\n",
       "      <td>140</td>\n",
       "      <td>0</td>\n",
       "      <td>0</td>\n",
       "      <td>Normal</td>\n",
       "      <td>60</td>\n",
       "      <td>N</td>\n",
       "      <td>0.0</td>\n",
       "      <td>Flat</td>\n",
       "      <td>1</td>\n",
       "    </tr>\n",
       "  </tbody>\n",
       "</table>\n",
       "</div>"
      ],
      "text/plain": [
       "     Age Sex ChestPainType  RestingBP  Cholesterol  FastingBS RestingECG  \\\n",
       "370   60   M           ASY        135            0          0     Normal   \n",
       "390   51   M           ASY        140            0          0     Normal   \n",
       "\n",
       "     MaxHR ExerciseAngina  Oldpeak ST_Slope  HeartDisease  \n",
       "370     63              Y      0.5       Up             1  \n",
       "390     60              N      0.0     Flat             1  "
      ]
     },
     "execution_count": 17,
     "metadata": {},
     "output_type": "execute_result"
    }
   ],
   "source": [
    "df[(df['MaxHR'] < lower_bound) | (df['MaxHR'] > upper_bound)]"
   ]
  },
  {
   "cell_type": "code",
   "execution_count": 18,
   "id": "18df2349",
   "metadata": {
    "execution": {
     "iopub.execute_input": "2025-01-30T01:16:15.947413Z",
     "iopub.status.busy": "2025-01-30T01:16:15.947011Z",
     "iopub.status.idle": "2025-01-30T01:16:15.953724Z",
     "shell.execute_reply": "2025-01-30T01:16:15.952652Z"
    },
    "papermill": {
     "duration": 0.035491,
     "end_time": "2025-01-30T01:16:15.955906",
     "exception": false,
     "start_time": "2025-01-30T01:16:15.920415",
     "status": "completed"
    },
    "tags": []
   },
   "outputs": [],
   "source": [
    "Outliers = df[(df['MaxHR'] < lower_bound) | (df['MaxHR'] > upper_bound)].index"
   ]
  },
  {
   "cell_type": "code",
   "execution_count": 19,
   "id": "01c3d77c",
   "metadata": {
    "execution": {
     "iopub.execute_input": "2025-01-30T01:16:16.005122Z",
     "iopub.status.busy": "2025-01-30T01:16:16.004738Z",
     "iopub.status.idle": "2025-01-30T01:16:16.011937Z",
     "shell.execute_reply": "2025-01-30T01:16:16.010702Z"
    },
    "papermill": {
     "duration": 0.034555,
     "end_time": "2025-01-30T01:16:16.014245",
     "exception": false,
     "start_time": "2025-01-30T01:16:15.979690",
     "status": "completed"
    },
    "tags": []
   },
   "outputs": [
    {
     "data": {
      "text/plain": [
       "Index([370, 390], dtype='int64')"
      ]
     },
     "execution_count": 19,
     "metadata": {},
     "output_type": "execute_result"
    }
   ],
   "source": [
    "Outliers"
   ]
  },
  {
   "cell_type": "markdown",
   "id": "96492d26",
   "metadata": {
    "papermill": {
     "duration": 0.023436,
     "end_time": "2025-01-30T01:16:16.061423",
     "exception": false,
     "start_time": "2025-01-30T01:16:16.037987",
     "status": "completed"
    },
    "tags": []
   },
   "source": [
    "**STD**"
   ]
  },
  {
   "cell_type": "code",
   "execution_count": 20,
   "id": "f07b18d2",
   "metadata": {
    "execution": {
     "iopub.execute_input": "2025-01-30T01:16:16.110781Z",
     "iopub.status.busy": "2025-01-30T01:16:16.110359Z",
     "iopub.status.idle": "2025-01-30T01:16:16.115213Z",
     "shell.execute_reply": "2025-01-30T01:16:16.114307Z"
    },
    "papermill": {
     "duration": 0.032522,
     "end_time": "2025-01-30T01:16:16.117433",
     "exception": false,
     "start_time": "2025-01-30T01:16:16.084911",
     "status": "completed"
    },
    "tags": []
   },
   "outputs": [],
   "source": [
    "Outliers_list = []"
   ]
  },
  {
   "cell_type": "code",
   "execution_count": 21,
   "id": "fb7f5cfc",
   "metadata": {
    "execution": {
     "iopub.execute_input": "2025-01-30T01:16:16.167539Z",
     "iopub.status.busy": "2025-01-30T01:16:16.167129Z",
     "iopub.status.idle": "2025-01-30T01:16:16.174741Z",
     "shell.execute_reply": "2025-01-30T01:16:16.173656Z"
    },
    "papermill": {
     "duration": 0.034991,
     "end_time": "2025-01-30T01:16:16.177018",
     "exception": false,
     "start_time": "2025-01-30T01:16:16.142027",
     "status": "completed"
    },
    "tags": []
   },
   "outputs": [
    {
     "data": {
      "text/plain": [
       "213.19037060647202"
      ]
     },
     "execution_count": 21,
     "metadata": {},
     "output_type": "execute_result"
    }
   ],
   "source": [
    "Outliers_STD_upper_bound = df.MaxHR.mean() + (3 * df.MaxHR.std() )\n",
    "Outliers_STD_upper_bound"
   ]
  },
  {
   "cell_type": "code",
   "execution_count": 22,
   "id": "61973a0d",
   "metadata": {
    "execution": {
     "iopub.execute_input": "2025-01-30T01:16:16.228055Z",
     "iopub.status.busy": "2025-01-30T01:16:16.227675Z",
     "iopub.status.idle": "2025-01-30T01:16:16.239153Z",
     "shell.execute_reply": "2025-01-30T01:16:16.237940Z"
    },
    "papermill": {
     "duration": 0.040249,
     "end_time": "2025-01-30T01:16:16.241215",
     "exception": false,
     "start_time": "2025-01-30T01:16:16.200966",
     "status": "completed"
    },
    "tags": []
   },
   "outputs": [
    {
     "data": {
      "text/html": [
       "<div>\n",
       "<style scoped>\n",
       "    .dataframe tbody tr th:only-of-type {\n",
       "        vertical-align: middle;\n",
       "    }\n",
       "\n",
       "    .dataframe tbody tr th {\n",
       "        vertical-align: top;\n",
       "    }\n",
       "\n",
       "    .dataframe thead th {\n",
       "        text-align: right;\n",
       "    }\n",
       "</style>\n",
       "<table border=\"1\" class=\"dataframe\">\n",
       "  <thead>\n",
       "    <tr style=\"text-align: right;\">\n",
       "      <th></th>\n",
       "      <th>Age</th>\n",
       "      <th>Sex</th>\n",
       "      <th>ChestPainType</th>\n",
       "      <th>RestingBP</th>\n",
       "      <th>Cholesterol</th>\n",
       "      <th>FastingBS</th>\n",
       "      <th>RestingECG</th>\n",
       "      <th>MaxHR</th>\n",
       "      <th>ExerciseAngina</th>\n",
       "      <th>Oldpeak</th>\n",
       "      <th>ST_Slope</th>\n",
       "      <th>HeartDisease</th>\n",
       "    </tr>\n",
       "  </thead>\n",
       "  <tbody>\n",
       "  </tbody>\n",
       "</table>\n",
       "</div>"
      ],
      "text/plain": [
       "Empty DataFrame\n",
       "Columns: [Age, Sex, ChestPainType, RestingBP, Cholesterol, FastingBS, RestingECG, MaxHR, ExerciseAngina, Oldpeak, ST_Slope, HeartDisease]\n",
       "Index: []"
      ]
     },
     "execution_count": 22,
     "metadata": {},
     "output_type": "execute_result"
    }
   ],
   "source": [
    "df[df.MaxHR > Outliers_STD_upper_bound ]"
   ]
  },
  {
   "cell_type": "code",
   "execution_count": 23,
   "id": "2b4a90cc",
   "metadata": {
    "execution": {
     "iopub.execute_input": "2025-01-30T01:16:16.291363Z",
     "iopub.status.busy": "2025-01-30T01:16:16.290925Z",
     "iopub.status.idle": "2025-01-30T01:16:16.297344Z",
     "shell.execute_reply": "2025-01-30T01:16:16.296312Z"
    },
    "papermill": {
     "duration": 0.034057,
     "end_time": "2025-01-30T01:16:16.299460",
     "exception": false,
     "start_time": "2025-01-30T01:16:16.265403",
     "status": "completed"
    },
    "tags": []
   },
   "outputs": [],
   "source": [
    "Outliers_list.append(df[df.MaxHR > Outliers_STD_upper_bound ].index)"
   ]
  },
  {
   "cell_type": "code",
   "execution_count": 24,
   "id": "17b1eeee",
   "metadata": {
    "execution": {
     "iopub.execute_input": "2025-01-30T01:16:16.349278Z",
     "iopub.status.busy": "2025-01-30T01:16:16.348874Z",
     "iopub.status.idle": "2025-01-30T01:16:16.356792Z",
     "shell.execute_reply": "2025-01-30T01:16:16.355739Z"
    },
    "papermill": {
     "duration": 0.035456,
     "end_time": "2025-01-30T01:16:16.358950",
     "exception": false,
     "start_time": "2025-01-30T01:16:16.323494",
     "status": "completed"
    },
    "tags": []
   },
   "outputs": [
    {
     "data": {
      "text/plain": [
       "60.428365776970224"
      ]
     },
     "execution_count": 24,
     "metadata": {},
     "output_type": "execute_result"
    }
   ],
   "source": [
    "Outliers_STD_lower_bound = df.MaxHR.mean() - (3 * df.MaxHR.std() )\n",
    "Outliers_STD_lower_bound"
   ]
  },
  {
   "cell_type": "code",
   "execution_count": 25,
   "id": "7ce7ea4d",
   "metadata": {
    "execution": {
     "iopub.execute_input": "2025-01-30T01:16:16.410449Z",
     "iopub.status.busy": "2025-01-30T01:16:16.410051Z",
     "iopub.status.idle": "2025-01-30T01:16:16.424959Z",
     "shell.execute_reply": "2025-01-30T01:16:16.423821Z"
    },
    "papermill": {
     "duration": 0.043136,
     "end_time": "2025-01-30T01:16:16.427051",
     "exception": false,
     "start_time": "2025-01-30T01:16:16.383915",
     "status": "completed"
    },
    "tags": []
   },
   "outputs": [
    {
     "data": {
      "text/html": [
       "<div>\n",
       "<style scoped>\n",
       "    .dataframe tbody tr th:only-of-type {\n",
       "        vertical-align: middle;\n",
       "    }\n",
       "\n",
       "    .dataframe tbody tr th {\n",
       "        vertical-align: top;\n",
       "    }\n",
       "\n",
       "    .dataframe thead th {\n",
       "        text-align: right;\n",
       "    }\n",
       "</style>\n",
       "<table border=\"1\" class=\"dataframe\">\n",
       "  <thead>\n",
       "    <tr style=\"text-align: right;\">\n",
       "      <th></th>\n",
       "      <th>Age</th>\n",
       "      <th>Sex</th>\n",
       "      <th>ChestPainType</th>\n",
       "      <th>RestingBP</th>\n",
       "      <th>Cholesterol</th>\n",
       "      <th>FastingBS</th>\n",
       "      <th>RestingECG</th>\n",
       "      <th>MaxHR</th>\n",
       "      <th>ExerciseAngina</th>\n",
       "      <th>Oldpeak</th>\n",
       "      <th>ST_Slope</th>\n",
       "      <th>HeartDisease</th>\n",
       "    </tr>\n",
       "  </thead>\n",
       "  <tbody>\n",
       "    <tr>\n",
       "      <th>390</th>\n",
       "      <td>51</td>\n",
       "      <td>M</td>\n",
       "      <td>ASY</td>\n",
       "      <td>140</td>\n",
       "      <td>0</td>\n",
       "      <td>0</td>\n",
       "      <td>Normal</td>\n",
       "      <td>60</td>\n",
       "      <td>N</td>\n",
       "      <td>0.0</td>\n",
       "      <td>Flat</td>\n",
       "      <td>1</td>\n",
       "    </tr>\n",
       "  </tbody>\n",
       "</table>\n",
       "</div>"
      ],
      "text/plain": [
       "     Age Sex ChestPainType  RestingBP  Cholesterol  FastingBS RestingECG  \\\n",
       "390   51   M           ASY        140            0          0     Normal   \n",
       "\n",
       "     MaxHR ExerciseAngina  Oldpeak ST_Slope  HeartDisease  \n",
       "390     60              N      0.0     Flat             1  "
      ]
     },
     "execution_count": 25,
     "metadata": {},
     "output_type": "execute_result"
    }
   ],
   "source": [
    "df[df.MaxHR < Outliers_STD_lower_bound ]"
   ]
  },
  {
   "cell_type": "code",
   "execution_count": 26,
   "id": "ed336c24",
   "metadata": {
    "execution": {
     "iopub.execute_input": "2025-01-30T01:16:16.481642Z",
     "iopub.status.busy": "2025-01-30T01:16:16.481215Z",
     "iopub.status.idle": "2025-01-30T01:16:16.487913Z",
     "shell.execute_reply": "2025-01-30T01:16:16.486605Z"
    },
    "papermill": {
     "duration": 0.036933,
     "end_time": "2025-01-30T01:16:16.490274",
     "exception": false,
     "start_time": "2025-01-30T01:16:16.453341",
     "status": "completed"
    },
    "tags": []
   },
   "outputs": [],
   "source": [
    "Outliers_list.append(df[df.MaxHR < Outliers_STD_lower_bound ].index)"
   ]
  },
  {
   "cell_type": "code",
   "execution_count": 27,
   "id": "4f64886d",
   "metadata": {
    "execution": {
     "iopub.execute_input": "2025-01-30T01:16:16.546757Z",
     "iopub.status.busy": "2025-01-30T01:16:16.546374Z",
     "iopub.status.idle": "2025-01-30T01:16:16.551921Z",
     "shell.execute_reply": "2025-01-30T01:16:16.550653Z"
    },
    "papermill": {
     "duration": 0.03611,
     "end_time": "2025-01-30T01:16:16.554250",
     "exception": false,
     "start_time": "2025-01-30T01:16:16.518140",
     "status": "completed"
    },
    "tags": []
   },
   "outputs": [
    {
     "name": "stdout",
     "output_type": "stream",
     "text": [
      "[Index([], dtype='int64'), Index([390], dtype='int64')]\n"
     ]
    }
   ],
   "source": [
    "print(Outliers_list)"
   ]
  },
  {
   "cell_type": "markdown",
   "id": "76bf4aa1",
   "metadata": {
    "papermill": {
     "duration": 0.024324,
     "end_time": "2025-01-30T01:16:16.603224",
     "exception": false,
     "start_time": "2025-01-30T01:16:16.578900",
     "status": "completed"
    },
    "tags": []
   },
   "source": [
    "**delete outliers**"
   ]
  },
  {
   "cell_type": "code",
   "execution_count": 28,
   "id": "ec6ef361",
   "metadata": {
    "execution": {
     "iopub.execute_input": "2025-01-30T01:16:16.655109Z",
     "iopub.status.busy": "2025-01-30T01:16:16.654739Z",
     "iopub.status.idle": "2025-01-30T01:16:16.671177Z",
     "shell.execute_reply": "2025-01-30T01:16:16.670143Z"
    },
    "papermill": {
     "duration": 0.04442,
     "end_time": "2025-01-30T01:16:16.673317",
     "exception": false,
     "start_time": "2025-01-30T01:16:16.628897",
     "status": "completed"
    },
    "tags": []
   },
   "outputs": [
    {
     "data": {
      "text/html": [
       "<div>\n",
       "<style scoped>\n",
       "    .dataframe tbody tr th:only-of-type {\n",
       "        vertical-align: middle;\n",
       "    }\n",
       "\n",
       "    .dataframe tbody tr th {\n",
       "        vertical-align: top;\n",
       "    }\n",
       "\n",
       "    .dataframe thead th {\n",
       "        text-align: right;\n",
       "    }\n",
       "</style>\n",
       "<table border=\"1\" class=\"dataframe\">\n",
       "  <thead>\n",
       "    <tr style=\"text-align: right;\">\n",
       "      <th></th>\n",
       "      <th>Age</th>\n",
       "      <th>Sex</th>\n",
       "      <th>ChestPainType</th>\n",
       "      <th>RestingBP</th>\n",
       "      <th>Cholesterol</th>\n",
       "      <th>FastingBS</th>\n",
       "      <th>RestingECG</th>\n",
       "      <th>MaxHR</th>\n",
       "      <th>ExerciseAngina</th>\n",
       "      <th>Oldpeak</th>\n",
       "      <th>ST_Slope</th>\n",
       "      <th>HeartDisease</th>\n",
       "    </tr>\n",
       "  </thead>\n",
       "  <tbody>\n",
       "    <tr>\n",
       "      <th>0</th>\n",
       "      <td>40</td>\n",
       "      <td>M</td>\n",
       "      <td>ATA</td>\n",
       "      <td>140</td>\n",
       "      <td>289</td>\n",
       "      <td>0</td>\n",
       "      <td>Normal</td>\n",
       "      <td>172</td>\n",
       "      <td>N</td>\n",
       "      <td>0.0</td>\n",
       "      <td>Up</td>\n",
       "      <td>0</td>\n",
       "    </tr>\n",
       "    <tr>\n",
       "      <th>1</th>\n",
       "      <td>49</td>\n",
       "      <td>F</td>\n",
       "      <td>NAP</td>\n",
       "      <td>160</td>\n",
       "      <td>180</td>\n",
       "      <td>0</td>\n",
       "      <td>Normal</td>\n",
       "      <td>156</td>\n",
       "      <td>N</td>\n",
       "      <td>1.0</td>\n",
       "      <td>Flat</td>\n",
       "      <td>1</td>\n",
       "    </tr>\n",
       "    <tr>\n",
       "      <th>2</th>\n",
       "      <td>37</td>\n",
       "      <td>M</td>\n",
       "      <td>ATA</td>\n",
       "      <td>130</td>\n",
       "      <td>283</td>\n",
       "      <td>0</td>\n",
       "      <td>ST</td>\n",
       "      <td>98</td>\n",
       "      <td>N</td>\n",
       "      <td>0.0</td>\n",
       "      <td>Up</td>\n",
       "      <td>0</td>\n",
       "    </tr>\n",
       "    <tr>\n",
       "      <th>3</th>\n",
       "      <td>48</td>\n",
       "      <td>F</td>\n",
       "      <td>ASY</td>\n",
       "      <td>138</td>\n",
       "      <td>214</td>\n",
       "      <td>0</td>\n",
       "      <td>Normal</td>\n",
       "      <td>108</td>\n",
       "      <td>Y</td>\n",
       "      <td>1.5</td>\n",
       "      <td>Flat</td>\n",
       "      <td>1</td>\n",
       "    </tr>\n",
       "    <tr>\n",
       "      <th>4</th>\n",
       "      <td>54</td>\n",
       "      <td>M</td>\n",
       "      <td>NAP</td>\n",
       "      <td>150</td>\n",
       "      <td>195</td>\n",
       "      <td>0</td>\n",
       "      <td>Normal</td>\n",
       "      <td>122</td>\n",
       "      <td>N</td>\n",
       "      <td>0.0</td>\n",
       "      <td>Up</td>\n",
       "      <td>0</td>\n",
       "    </tr>\n",
       "    <tr>\n",
       "      <th>...</th>\n",
       "      <td>...</td>\n",
       "      <td>...</td>\n",
       "      <td>...</td>\n",
       "      <td>...</td>\n",
       "      <td>...</td>\n",
       "      <td>...</td>\n",
       "      <td>...</td>\n",
       "      <td>...</td>\n",
       "      <td>...</td>\n",
       "      <td>...</td>\n",
       "      <td>...</td>\n",
       "      <td>...</td>\n",
       "    </tr>\n",
       "    <tr>\n",
       "      <th>913</th>\n",
       "      <td>45</td>\n",
       "      <td>M</td>\n",
       "      <td>TA</td>\n",
       "      <td>110</td>\n",
       "      <td>264</td>\n",
       "      <td>0</td>\n",
       "      <td>Normal</td>\n",
       "      <td>132</td>\n",
       "      <td>N</td>\n",
       "      <td>1.2</td>\n",
       "      <td>Flat</td>\n",
       "      <td>1</td>\n",
       "    </tr>\n",
       "    <tr>\n",
       "      <th>914</th>\n",
       "      <td>68</td>\n",
       "      <td>M</td>\n",
       "      <td>ASY</td>\n",
       "      <td>144</td>\n",
       "      <td>193</td>\n",
       "      <td>1</td>\n",
       "      <td>Normal</td>\n",
       "      <td>141</td>\n",
       "      <td>N</td>\n",
       "      <td>3.4</td>\n",
       "      <td>Flat</td>\n",
       "      <td>1</td>\n",
       "    </tr>\n",
       "    <tr>\n",
       "      <th>915</th>\n",
       "      <td>57</td>\n",
       "      <td>M</td>\n",
       "      <td>ASY</td>\n",
       "      <td>130</td>\n",
       "      <td>131</td>\n",
       "      <td>0</td>\n",
       "      <td>Normal</td>\n",
       "      <td>115</td>\n",
       "      <td>Y</td>\n",
       "      <td>1.2</td>\n",
       "      <td>Flat</td>\n",
       "      <td>1</td>\n",
       "    </tr>\n",
       "    <tr>\n",
       "      <th>916</th>\n",
       "      <td>57</td>\n",
       "      <td>F</td>\n",
       "      <td>ATA</td>\n",
       "      <td>130</td>\n",
       "      <td>236</td>\n",
       "      <td>0</td>\n",
       "      <td>LVH</td>\n",
       "      <td>174</td>\n",
       "      <td>N</td>\n",
       "      <td>0.0</td>\n",
       "      <td>Flat</td>\n",
       "      <td>1</td>\n",
       "    </tr>\n",
       "    <tr>\n",
       "      <th>917</th>\n",
       "      <td>38</td>\n",
       "      <td>M</td>\n",
       "      <td>NAP</td>\n",
       "      <td>138</td>\n",
       "      <td>175</td>\n",
       "      <td>0</td>\n",
       "      <td>Normal</td>\n",
       "      <td>173</td>\n",
       "      <td>N</td>\n",
       "      <td>0.0</td>\n",
       "      <td>Up</td>\n",
       "      <td>0</td>\n",
       "    </tr>\n",
       "  </tbody>\n",
       "</table>\n",
       "<p>918 rows × 12 columns</p>\n",
       "</div>"
      ],
      "text/plain": [
       "     Age Sex ChestPainType  RestingBP  Cholesterol  FastingBS RestingECG  \\\n",
       "0     40   M           ATA        140          289          0     Normal   \n",
       "1     49   F           NAP        160          180          0     Normal   \n",
       "2     37   M           ATA        130          283          0         ST   \n",
       "3     48   F           ASY        138          214          0     Normal   \n",
       "4     54   M           NAP        150          195          0     Normal   \n",
       "..   ...  ..           ...        ...          ...        ...        ...   \n",
       "913   45   M            TA        110          264          0     Normal   \n",
       "914   68   M           ASY        144          193          1     Normal   \n",
       "915   57   M           ASY        130          131          0     Normal   \n",
       "916   57   F           ATA        130          236          0        LVH   \n",
       "917   38   M           NAP        138          175          0     Normal   \n",
       "\n",
       "     MaxHR ExerciseAngina  Oldpeak ST_Slope  HeartDisease  \n",
       "0      172              N      0.0       Up             0  \n",
       "1      156              N      1.0     Flat             1  \n",
       "2       98              N      0.0       Up             0  \n",
       "3      108              Y      1.5     Flat             1  \n",
       "4      122              N      0.0       Up             0  \n",
       "..     ...            ...      ...      ...           ...  \n",
       "913    132              N      1.2     Flat             1  \n",
       "914    141              N      3.4     Flat             1  \n",
       "915    115              Y      1.2     Flat             1  \n",
       "916    174              N      0.0     Flat             1  \n",
       "917    173              N      0.0       Up             0  \n",
       "\n",
       "[918 rows x 12 columns]"
      ]
     },
     "execution_count": 28,
     "metadata": {},
     "output_type": "execute_result"
    }
   ],
   "source": [
    "df"
   ]
  },
  {
   "cell_type": "code",
   "execution_count": 29,
   "id": "8c7bef87",
   "metadata": {
    "execution": {
     "iopub.execute_input": "2025-01-30T01:16:16.726050Z",
     "iopub.status.busy": "2025-01-30T01:16:16.725659Z",
     "iopub.status.idle": "2025-01-30T01:16:16.732232Z",
     "shell.execute_reply": "2025-01-30T01:16:16.731018Z"
    },
    "papermill": {
     "duration": 0.035556,
     "end_time": "2025-01-30T01:16:16.734487",
     "exception": false,
     "start_time": "2025-01-30T01:16:16.698931",
     "status": "completed"
    },
    "tags": []
   },
   "outputs": [],
   "source": [
    "df.drop(index= Outliers , inplace= True)"
   ]
  },
  {
   "cell_type": "code",
   "execution_count": 30,
   "id": "2f8fff11",
   "metadata": {
    "execution": {
     "iopub.execute_input": "2025-01-30T01:16:16.787146Z",
     "iopub.status.busy": "2025-01-30T01:16:16.786740Z",
     "iopub.status.idle": "2025-01-30T01:16:16.804231Z",
     "shell.execute_reply": "2025-01-30T01:16:16.803038Z"
    },
    "papermill": {
     "duration": 0.046853,
     "end_time": "2025-01-30T01:16:16.806631",
     "exception": false,
     "start_time": "2025-01-30T01:16:16.759778",
     "status": "completed"
    },
    "tags": []
   },
   "outputs": [
    {
     "data": {
      "text/html": [
       "<div>\n",
       "<style scoped>\n",
       "    .dataframe tbody tr th:only-of-type {\n",
       "        vertical-align: middle;\n",
       "    }\n",
       "\n",
       "    .dataframe tbody tr th {\n",
       "        vertical-align: top;\n",
       "    }\n",
       "\n",
       "    .dataframe thead th {\n",
       "        text-align: right;\n",
       "    }\n",
       "</style>\n",
       "<table border=\"1\" class=\"dataframe\">\n",
       "  <thead>\n",
       "    <tr style=\"text-align: right;\">\n",
       "      <th></th>\n",
       "      <th>Age</th>\n",
       "      <th>Sex</th>\n",
       "      <th>ChestPainType</th>\n",
       "      <th>RestingBP</th>\n",
       "      <th>Cholesterol</th>\n",
       "      <th>FastingBS</th>\n",
       "      <th>RestingECG</th>\n",
       "      <th>MaxHR</th>\n",
       "      <th>ExerciseAngina</th>\n",
       "      <th>Oldpeak</th>\n",
       "      <th>ST_Slope</th>\n",
       "      <th>HeartDisease</th>\n",
       "    </tr>\n",
       "  </thead>\n",
       "  <tbody>\n",
       "    <tr>\n",
       "      <th>0</th>\n",
       "      <td>40</td>\n",
       "      <td>M</td>\n",
       "      <td>ATA</td>\n",
       "      <td>140</td>\n",
       "      <td>289</td>\n",
       "      <td>0</td>\n",
       "      <td>Normal</td>\n",
       "      <td>172</td>\n",
       "      <td>N</td>\n",
       "      <td>0.0</td>\n",
       "      <td>Up</td>\n",
       "      <td>0</td>\n",
       "    </tr>\n",
       "    <tr>\n",
       "      <th>1</th>\n",
       "      <td>49</td>\n",
       "      <td>F</td>\n",
       "      <td>NAP</td>\n",
       "      <td>160</td>\n",
       "      <td>180</td>\n",
       "      <td>0</td>\n",
       "      <td>Normal</td>\n",
       "      <td>156</td>\n",
       "      <td>N</td>\n",
       "      <td>1.0</td>\n",
       "      <td>Flat</td>\n",
       "      <td>1</td>\n",
       "    </tr>\n",
       "    <tr>\n",
       "      <th>2</th>\n",
       "      <td>37</td>\n",
       "      <td>M</td>\n",
       "      <td>ATA</td>\n",
       "      <td>130</td>\n",
       "      <td>283</td>\n",
       "      <td>0</td>\n",
       "      <td>ST</td>\n",
       "      <td>98</td>\n",
       "      <td>N</td>\n",
       "      <td>0.0</td>\n",
       "      <td>Up</td>\n",
       "      <td>0</td>\n",
       "    </tr>\n",
       "    <tr>\n",
       "      <th>3</th>\n",
       "      <td>48</td>\n",
       "      <td>F</td>\n",
       "      <td>ASY</td>\n",
       "      <td>138</td>\n",
       "      <td>214</td>\n",
       "      <td>0</td>\n",
       "      <td>Normal</td>\n",
       "      <td>108</td>\n",
       "      <td>Y</td>\n",
       "      <td>1.5</td>\n",
       "      <td>Flat</td>\n",
       "      <td>1</td>\n",
       "    </tr>\n",
       "    <tr>\n",
       "      <th>4</th>\n",
       "      <td>54</td>\n",
       "      <td>M</td>\n",
       "      <td>NAP</td>\n",
       "      <td>150</td>\n",
       "      <td>195</td>\n",
       "      <td>0</td>\n",
       "      <td>Normal</td>\n",
       "      <td>122</td>\n",
       "      <td>N</td>\n",
       "      <td>0.0</td>\n",
       "      <td>Up</td>\n",
       "      <td>0</td>\n",
       "    </tr>\n",
       "    <tr>\n",
       "      <th>...</th>\n",
       "      <td>...</td>\n",
       "      <td>...</td>\n",
       "      <td>...</td>\n",
       "      <td>...</td>\n",
       "      <td>...</td>\n",
       "      <td>...</td>\n",
       "      <td>...</td>\n",
       "      <td>...</td>\n",
       "      <td>...</td>\n",
       "      <td>...</td>\n",
       "      <td>...</td>\n",
       "      <td>...</td>\n",
       "    </tr>\n",
       "    <tr>\n",
       "      <th>913</th>\n",
       "      <td>45</td>\n",
       "      <td>M</td>\n",
       "      <td>TA</td>\n",
       "      <td>110</td>\n",
       "      <td>264</td>\n",
       "      <td>0</td>\n",
       "      <td>Normal</td>\n",
       "      <td>132</td>\n",
       "      <td>N</td>\n",
       "      <td>1.2</td>\n",
       "      <td>Flat</td>\n",
       "      <td>1</td>\n",
       "    </tr>\n",
       "    <tr>\n",
       "      <th>914</th>\n",
       "      <td>68</td>\n",
       "      <td>M</td>\n",
       "      <td>ASY</td>\n",
       "      <td>144</td>\n",
       "      <td>193</td>\n",
       "      <td>1</td>\n",
       "      <td>Normal</td>\n",
       "      <td>141</td>\n",
       "      <td>N</td>\n",
       "      <td>3.4</td>\n",
       "      <td>Flat</td>\n",
       "      <td>1</td>\n",
       "    </tr>\n",
       "    <tr>\n",
       "      <th>915</th>\n",
       "      <td>57</td>\n",
       "      <td>M</td>\n",
       "      <td>ASY</td>\n",
       "      <td>130</td>\n",
       "      <td>131</td>\n",
       "      <td>0</td>\n",
       "      <td>Normal</td>\n",
       "      <td>115</td>\n",
       "      <td>Y</td>\n",
       "      <td>1.2</td>\n",
       "      <td>Flat</td>\n",
       "      <td>1</td>\n",
       "    </tr>\n",
       "    <tr>\n",
       "      <th>916</th>\n",
       "      <td>57</td>\n",
       "      <td>F</td>\n",
       "      <td>ATA</td>\n",
       "      <td>130</td>\n",
       "      <td>236</td>\n",
       "      <td>0</td>\n",
       "      <td>LVH</td>\n",
       "      <td>174</td>\n",
       "      <td>N</td>\n",
       "      <td>0.0</td>\n",
       "      <td>Flat</td>\n",
       "      <td>1</td>\n",
       "    </tr>\n",
       "    <tr>\n",
       "      <th>917</th>\n",
       "      <td>38</td>\n",
       "      <td>M</td>\n",
       "      <td>NAP</td>\n",
       "      <td>138</td>\n",
       "      <td>175</td>\n",
       "      <td>0</td>\n",
       "      <td>Normal</td>\n",
       "      <td>173</td>\n",
       "      <td>N</td>\n",
       "      <td>0.0</td>\n",
       "      <td>Up</td>\n",
       "      <td>0</td>\n",
       "    </tr>\n",
       "  </tbody>\n",
       "</table>\n",
       "<p>916 rows × 12 columns</p>\n",
       "</div>"
      ],
      "text/plain": [
       "     Age Sex ChestPainType  RestingBP  Cholesterol  FastingBS RestingECG  \\\n",
       "0     40   M           ATA        140          289          0     Normal   \n",
       "1     49   F           NAP        160          180          0     Normal   \n",
       "2     37   M           ATA        130          283          0         ST   \n",
       "3     48   F           ASY        138          214          0     Normal   \n",
       "4     54   M           NAP        150          195          0     Normal   \n",
       "..   ...  ..           ...        ...          ...        ...        ...   \n",
       "913   45   M            TA        110          264          0     Normal   \n",
       "914   68   M           ASY        144          193          1     Normal   \n",
       "915   57   M           ASY        130          131          0     Normal   \n",
       "916   57   F           ATA        130          236          0        LVH   \n",
       "917   38   M           NAP        138          175          0     Normal   \n",
       "\n",
       "     MaxHR ExerciseAngina  Oldpeak ST_Slope  HeartDisease  \n",
       "0      172              N      0.0       Up             0  \n",
       "1      156              N      1.0     Flat             1  \n",
       "2       98              N      0.0       Up             0  \n",
       "3      108              Y      1.5     Flat             1  \n",
       "4      122              N      0.0       Up             0  \n",
       "..     ...            ...      ...      ...           ...  \n",
       "913    132              N      1.2     Flat             1  \n",
       "914    141              N      3.4     Flat             1  \n",
       "915    115              Y      1.2     Flat             1  \n",
       "916    174              N      0.0     Flat             1  \n",
       "917    173              N      0.0       Up             0  \n",
       "\n",
       "[916 rows x 12 columns]"
      ]
     },
     "execution_count": 30,
     "metadata": {},
     "output_type": "execute_result"
    }
   ],
   "source": [
    "df"
   ]
  },
  {
   "cell_type": "code",
   "execution_count": 31,
   "id": "004bf0f1",
   "metadata": {
    "execution": {
     "iopub.execute_input": "2025-01-30T01:16:16.860140Z",
     "iopub.status.busy": "2025-01-30T01:16:16.859763Z",
     "iopub.status.idle": "2025-01-30T01:16:16.866913Z",
     "shell.execute_reply": "2025-01-30T01:16:16.865849Z"
    },
    "papermill": {
     "duration": 0.036335,
     "end_time": "2025-01-30T01:16:16.869201",
     "exception": false,
     "start_time": "2025-01-30T01:16:16.832866",
     "status": "completed"
    },
    "tags": []
   },
   "outputs": [
    {
     "data": {
      "text/plain": [
       "28"
      ]
     },
     "execution_count": 31,
     "metadata": {},
     "output_type": "execute_result"
    }
   ],
   "source": [
    "df.Age.min()"
   ]
  },
  {
   "cell_type": "code",
   "execution_count": 32,
   "id": "d18f8c81",
   "metadata": {
    "execution": {
     "iopub.execute_input": "2025-01-30T01:16:16.921996Z",
     "iopub.status.busy": "2025-01-30T01:16:16.921577Z",
     "iopub.status.idle": "2025-01-30T01:16:16.928827Z",
     "shell.execute_reply": "2025-01-30T01:16:16.927686Z"
    },
    "papermill": {
     "duration": 0.035905,
     "end_time": "2025-01-30T01:16:16.930909",
     "exception": false,
     "start_time": "2025-01-30T01:16:16.895004",
     "status": "completed"
    },
    "tags": []
   },
   "outputs": [
    {
     "data": {
      "text/plain": [
       "77"
      ]
     },
     "execution_count": 32,
     "metadata": {},
     "output_type": "execute_result"
    }
   ],
   "source": [
    "df.Age.max()"
   ]
  },
  {
   "cell_type": "code",
   "execution_count": 33,
   "id": "d6244b2d",
   "metadata": {
    "execution": {
     "iopub.execute_input": "2025-01-30T01:16:16.983366Z",
     "iopub.status.busy": "2025-01-30T01:16:16.982965Z",
     "iopub.status.idle": "2025-01-30T01:16:17.286111Z",
     "shell.execute_reply": "2025-01-30T01:16:17.284971Z"
    },
    "papermill": {
     "duration": 0.332446,
     "end_time": "2025-01-30T01:16:17.288762",
     "exception": false,
     "start_time": "2025-01-30T01:16:16.956316",
     "status": "completed"
    },
    "tags": []
   },
   "outputs": [
    {
     "data": {
      "image/png": "[encoded data removed]",
      "text/plain": [
       "<Figure size 1000x600 with 1 Axes>"
      ]
     },
     "metadata": {},
     "output_type": "display_data"
    }
   ],
   "source": [
    "age_counts = df['Age'].value_counts().sort_index()\n",
    "\n",
    "plt.figure(figsize=(10, 6))\n",
    "plt.plot(age_counts.index, age_counts.values, color='blue')\n",
    "plt.title('Distribution of Ages in the Dataset', fontsize=16)\n",
    "plt.xlabel('Age')\n",
    "plt.ylabel('Frequency')\n",
    "plt.show()"
   ]
  },
  {
   "cell_type": "code",
   "execution_count": 34,
   "id": "f3b734a0",
   "metadata": {
    "execution": {
     "iopub.execute_input": "2025-01-30T01:16:17.343099Z",
     "iopub.status.busy": "2025-01-30T01:16:17.342713Z",
     "iopub.status.idle": "2025-01-30T01:16:17.351942Z",
     "shell.execute_reply": "2025-01-30T01:16:17.350816Z"
    },
    "papermill": {
     "duration": 0.039272,
     "end_time": "2025-01-30T01:16:17.354460",
     "exception": false,
     "start_time": "2025-01-30T01:16:17.315188",
     "status": "completed"
    },
    "tags": []
   },
   "outputs": [
    {
     "data": {
      "text/plain": [
       "Age\n",
       "54    51\n",
       "58    42\n",
       "55    41\n",
       "56    38\n",
       "57    38\n",
       "52    36\n",
       "62    35\n",
       "59    35\n",
       "51    34\n",
       "53    33\n",
       "60    31\n",
       "48    31\n",
       "61    31\n",
       "63    30\n",
       "50    25\n",
       "46    24\n",
       "41    24\n",
       "43    24\n",
       "64    22\n",
       "65    21\n",
       "49    21\n",
       "47    19\n",
       "44    19\n",
       "42    18\n",
       "45    18\n",
       "38    16\n",
       "67    15\n",
       "39    15\n",
       "66    13\n",
       "69    13\n",
       "40    13\n",
       "35    11\n",
       "37    11\n",
       "68    10\n",
       "34     7\n",
       "74     7\n",
       "70     7\n",
       "36     6\n",
       "71     5\n",
       "32     5\n",
       "72     4\n",
       "29     3\n",
       "75     3\n",
       "33     2\n",
       "77     2\n",
       "76     2\n",
       "31     2\n",
       "30     1\n",
       "28     1\n",
       "73     1\n",
       "Name: count, dtype: int64"
      ]
     },
     "execution_count": 34,
     "metadata": {},
     "output_type": "execute_result"
    }
   ],
   "source": [
    "df['Age'].value_counts()"
   ]
  },
  {
   "cell_type": "code",
   "execution_count": 35,
   "id": "be701dab",
   "metadata": {
    "execution": {
     "iopub.execute_input": "2025-01-30T01:16:17.408445Z",
     "iopub.status.busy": "2025-01-30T01:16:17.408035Z",
     "iopub.status.idle": "2025-01-30T01:16:17.416824Z",
     "shell.execute_reply": "2025-01-30T01:16:17.415703Z"
    },
    "papermill": {
     "duration": 0.038195,
     "end_time": "2025-01-30T01:16:17.418851",
     "exception": false,
     "start_time": "2025-01-30T01:16:17.380656",
     "status": "completed"
    },
    "tags": []
   },
   "outputs": [
    {
     "data": {
      "text/plain": [
       "Age\n",
       "54    51\n",
       "58    42\n",
       "55    41\n",
       "56    38\n",
       "57    38\n",
       "52    36\n",
       "62    35\n",
       "Name: count, dtype: int64"
      ]
     },
     "execution_count": 35,
     "metadata": {},
     "output_type": "execute_result"
    }
   ],
   "source": [
    "df['Age'].value_counts().head(7)"
   ]
  },
  {
   "cell_type": "code",
   "execution_count": 36,
   "id": "2b18c05a",
   "metadata": {
    "execution": {
     "iopub.execute_input": "2025-01-30T01:16:17.473619Z",
     "iopub.status.busy": "2025-01-30T01:16:17.473199Z",
     "iopub.status.idle": "2025-01-30T01:16:17.483265Z",
     "shell.execute_reply": "2025-01-30T01:16:17.481860Z"
    },
    "papermill": {
     "duration": 0.040162,
     "end_time": "2025-01-30T01:16:17.485553",
     "exception": false,
     "start_time": "2025-01-30T01:16:17.445391",
     "status": "completed"
    },
    "tags": []
   },
   "outputs": [
    {
     "data": {
      "text/plain": [
       "Age\n",
       "28     1\n",
       "29     3\n",
       "30     1\n",
       "31     2\n",
       "32     5\n",
       "33     2\n",
       "34     7\n",
       "35    11\n",
       "36     6\n",
       "37    11\n",
       "38    16\n",
       "39    15\n",
       "40    13\n",
       "41    24\n",
       "42    18\n",
       "43    24\n",
       "44    19\n",
       "45    18\n",
       "46    24\n",
       "47    19\n",
       "48    31\n",
       "49    21\n",
       "50    25\n",
       "51    34\n",
       "52    36\n",
       "53    33\n",
       "54    51\n",
       "55    41\n",
       "56    38\n",
       "57    38\n",
       "58    42\n",
       "59    35\n",
       "60    31\n",
       "61    31\n",
       "62    35\n",
       "63    30\n",
       "64    22\n",
       "65    21\n",
       "66    13\n",
       "67    15\n",
       "68    10\n",
       "69    13\n",
       "70     7\n",
       "71     5\n",
       "72     4\n",
       "73     1\n",
       "74     7\n",
       "75     3\n",
       "76     2\n",
       "77     2\n",
       "Name: count, dtype: int64"
      ]
     },
     "execution_count": 36,
     "metadata": {},
     "output_type": "execute_result"
    }
   ],
   "source": [
    "df['Age'].value_counts().sort_index()"
   ]
  },
  {
   "cell_type": "code",
   "execution_count": 37,
   "id": "ac5eacdc",
   "metadata": {
    "execution": {
     "iopub.execute_input": "2025-01-30T01:16:17.561485Z",
     "iopub.status.busy": "2025-01-30T01:16:17.561061Z",
     "iopub.status.idle": "2025-01-30T01:16:17.568645Z",
     "shell.execute_reply": "2025-01-30T01:16:17.567536Z"
    },
    "papermill": {
     "duration": 0.046637,
     "end_time": "2025-01-30T01:16:17.570751",
     "exception": false,
     "start_time": "2025-01-30T01:16:17.524114",
     "status": "completed"
    },
    "tags": []
   },
   "outputs": [
    {
     "data": {
      "text/plain": [
       "916"
      ]
     },
     "execution_count": 37,
     "metadata": {},
     "output_type": "execute_result"
    }
   ],
   "source": [
    "df['Age'].value_counts().sum()"
   ]
  },
  {
   "cell_type": "code",
   "execution_count": 38,
   "id": "8b80e3f5",
   "metadata": {
    "execution": {
     "iopub.execute_input": "2025-01-30T01:16:17.644657Z",
     "iopub.status.busy": "2025-01-30T01:16:17.643546Z",
     "iopub.status.idle": "2025-01-30T01:16:17.653871Z",
     "shell.execute_reply": "2025-01-30T01:16:17.652614Z"
    },
    "papermill": {
     "duration": 0.058222,
     "end_time": "2025-01-30T01:16:17.657335",
     "exception": false,
     "start_time": "2025-01-30T01:16:17.599113",
     "status": "completed"
    },
    "tags": []
   },
   "outputs": [
    {
     "data": {
      "text/plain": [
       "51"
      ]
     },
     "execution_count": 38,
     "metadata": {},
     "output_type": "execute_result"
    }
   ],
   "source": [
    "df['Age'].value_counts().max()"
   ]
  },
  {
   "cell_type": "code",
   "execution_count": 39,
   "id": "54be1019",
   "metadata": {
    "execution": {
     "iopub.execute_input": "2025-01-30T01:16:17.723901Z",
     "iopub.status.busy": "2025-01-30T01:16:17.723452Z",
     "iopub.status.idle": "2025-01-30T01:16:17.731497Z",
     "shell.execute_reply": "2025-01-30T01:16:17.730527Z"
    },
    "papermill": {
     "duration": 0.038478,
     "end_time": "2025-01-30T01:16:17.733559",
     "exception": false,
     "start_time": "2025-01-30T01:16:17.695081",
     "status": "completed"
    },
    "tags": []
   },
   "outputs": [
    {
     "data": {
      "text/plain": [
       "1"
      ]
     },
     "execution_count": 39,
     "metadata": {},
     "output_type": "execute_result"
    }
   ],
   "source": [
    "df['Age'].value_counts().min()"
   ]
  },
  {
   "cell_type": "code",
   "execution_count": 40,
   "id": "96dd5b8e",
   "metadata": {
    "execution": {
     "iopub.execute_input": "2025-01-30T01:16:17.789244Z",
     "iopub.status.busy": "2025-01-30T01:16:17.788252Z",
     "iopub.status.idle": "2025-01-30T01:16:17.795944Z",
     "shell.execute_reply": "2025-01-30T01:16:17.794786Z"
    },
    "papermill": {
     "duration": 0.037979,
     "end_time": "2025-01-30T01:16:17.798187",
     "exception": false,
     "start_time": "2025-01-30T01:16:17.760208",
     "status": "completed"
    },
    "tags": []
   },
   "outputs": [
    {
     "data": {
      "text/plain": [
       "18.32"
      ]
     },
     "execution_count": 40,
     "metadata": {},
     "output_type": "execute_result"
    }
   ],
   "source": [
    "df['Age'].value_counts().mean()"
   ]
  },
  {
   "cell_type": "code",
   "execution_count": 41,
   "id": "621f3233",
   "metadata": {
    "execution": {
     "iopub.execute_input": "2025-01-30T01:16:17.853616Z",
     "iopub.status.busy": "2025-01-30T01:16:17.853207Z",
     "iopub.status.idle": "2025-01-30T01:16:17.861254Z",
     "shell.execute_reply": "2025-01-30T01:16:17.860135Z"
    },
    "papermill": {
     "duration": 0.038549,
     "end_time": "2025-01-30T01:16:17.863545",
     "exception": false,
     "start_time": "2025-01-30T01:16:17.824996",
     "status": "completed"
    },
    "tags": []
   },
   "outputs": [
    {
     "data": {
      "text/plain": [
       "13.444428327795292"
      ]
     },
     "execution_count": 41,
     "metadata": {},
     "output_type": "execute_result"
    }
   ],
   "source": [
    "df['Age'].value_counts().std()"
   ]
  },
  {
   "cell_type": "code",
   "execution_count": 42,
   "id": "1a05fe23",
   "metadata": {
    "execution": {
     "iopub.execute_input": "2025-01-30T01:16:17.934069Z",
     "iopub.status.busy": "2025-01-30T01:16:17.933620Z",
     "iopub.status.idle": "2025-01-30T01:16:17.946753Z",
     "shell.execute_reply": "2025-01-30T01:16:17.945516Z"
    },
    "papermill": {
     "duration": 0.057006,
     "end_time": "2025-01-30T01:16:17.949143",
     "exception": false,
     "start_time": "2025-01-30T01:16:17.892137",
     "status": "completed"
    },
    "tags": []
   },
   "outputs": [
    {
     "data": {
      "text/plain": [
       "count    50.000000\n",
       "mean     18.320000\n",
       "std      13.444428\n",
       "min       1.000000\n",
       "25%       6.250000\n",
       "50%      17.000000\n",
       "75%      30.750000\n",
       "max      51.000000\n",
       "Name: count, dtype: float64"
      ]
     },
     "execution_count": 42,
     "metadata": {},
     "output_type": "execute_result"
    }
   ],
   "source": [
    "df['Age'].value_counts().describe()"
   ]
  },
  {
   "cell_type": "code",
   "execution_count": 43,
   "id": "96532562",
   "metadata": {
    "execution": {
     "iopub.execute_input": "2025-01-30T01:16:18.008645Z",
     "iopub.status.busy": "2025-01-30T01:16:18.008219Z",
     "iopub.status.idle": "2025-01-30T01:16:18.016921Z",
     "shell.execute_reply": "2025-01-30T01:16:18.015698Z"
    },
    "papermill": {
     "duration": 0.042255,
     "end_time": "2025-01-30T01:16:18.019216",
     "exception": false,
     "start_time": "2025-01-30T01:16:17.976961",
     "status": "completed"
    },
    "tags": []
   },
   "outputs": [
    {
     "data": {
      "text/plain": [
       "Sex\n",
       "M    723\n",
       "F    193\n",
       "Name: count, dtype: int64"
      ]
     },
     "execution_count": 43,
     "metadata": {},
     "output_type": "execute_result"
    }
   ],
   "source": [
    "df['Sex'].value_counts()"
   ]
  },
  {
   "cell_type": "code",
   "execution_count": 44,
   "id": "a2dc92d7",
   "metadata": {
    "execution": {
     "iopub.execute_input": "2025-01-30T01:16:18.077912Z",
     "iopub.status.busy": "2025-01-30T01:16:18.076606Z",
     "iopub.status.idle": "2025-01-30T01:16:18.259014Z",
     "shell.execute_reply": "2025-01-30T01:16:18.257485Z"
    },
    "papermill": {
     "duration": 0.216286,
     "end_time": "2025-01-30T01:16:18.263556",
     "exception": false,
     "start_time": "2025-01-30T01:16:18.047270",
     "status": "completed"
    },
    "tags": []
   },
   "outputs": [
    {
     "data": {
      "image/png": "[encoded data removed]",
      "text/plain": [
       "<Figure size 800x800 with 1 Axes>"
      ]
     },
     "metadata": {},
     "output_type": "display_data"
    }
   ],
   "source": [
    "sex_counts = df['Sex'].value_counts()\n",
    "\n",
    "plt.figure(figsize=(8, 8))\n",
    "plt.pie(sex_counts, labels=sex_counts.index, autopct='%1.1f%%', startangle=90, colors=['lightblue', 'lightcoral'])\n",
    "plt.title('Distribution of Sex', fontsize=16)\n",
    "plt.show()"
   ]
  },
  {
   "cell_type": "code",
   "execution_count": 45,
   "id": "5adcf9b2",
   "metadata": {
    "execution": {
     "iopub.execute_input": "2025-01-30T01:16:18.334018Z",
     "iopub.status.busy": "2025-01-30T01:16:18.333583Z",
     "iopub.status.idle": "2025-01-30T01:16:18.345515Z",
     "shell.execute_reply": "2025-01-30T01:16:18.344388Z"
    },
    "papermill": {
     "duration": 0.043697,
     "end_time": "2025-01-30T01:16:18.348343",
     "exception": false,
     "start_time": "2025-01-30T01:16:18.304646",
     "status": "completed"
    },
    "tags": []
   },
   "outputs": [
    {
     "data": {
      "text/plain": [
       "Sex\n",
       "M    78.930131\n",
       "F    21.069869\n",
       "Name: proportion, dtype: float64"
      ]
     },
     "execution_count": 45,
     "metadata": {},
     "output_type": "execute_result"
    }
   ],
   "source": [
    "df['Sex'].value_counts(normalize=True) * 100"
   ]
  },
  {
   "cell_type": "code",
   "execution_count": 46,
   "id": "1f39d456",
   "metadata": {
    "execution": {
     "iopub.execute_input": "2025-01-30T01:16:18.413845Z",
     "iopub.status.busy": "2025-01-30T01:16:18.413284Z",
     "iopub.status.idle": "2025-01-30T01:16:18.420872Z",
     "shell.execute_reply": "2025-01-30T01:16:18.419865Z"
    },
    "papermill": {
     "duration": 0.039969,
     "end_time": "2025-01-30T01:16:18.422883",
     "exception": false,
     "start_time": "2025-01-30T01:16:18.382914",
     "status": "completed"
    },
    "tags": []
   },
   "outputs": [
    {
     "data": {
      "text/plain": [
       "4"
      ]
     },
     "execution_count": 46,
     "metadata": {},
     "output_type": "execute_result"
    }
   ],
   "source": [
    "df['ChestPainType'].value_counts().count()"
   ]
  },
  {
   "cell_type": "code",
   "execution_count": 47,
   "id": "3fbbb8ef",
   "metadata": {
    "execution": {
     "iopub.execute_input": "2025-01-30T01:16:18.479882Z",
     "iopub.status.busy": "2025-01-30T01:16:18.479480Z",
     "iopub.status.idle": "2025-01-30T01:16:18.486648Z",
     "shell.execute_reply": "2025-01-30T01:16:18.485537Z"
    },
    "papermill": {
     "duration": 0.038188,
     "end_time": "2025-01-30T01:16:18.488884",
     "exception": false,
     "start_time": "2025-01-30T01:16:18.450696",
     "status": "completed"
    },
    "tags": []
   },
   "outputs": [
    {
     "data": {
      "text/plain": [
       "array(['ATA', 'NAP', 'ASY', 'TA'], dtype=object)"
      ]
     },
     "execution_count": 47,
     "metadata": {},
     "output_type": "execute_result"
    }
   ],
   "source": [
    "df.ChestPainType.unique()"
   ]
  },
  {
   "cell_type": "code",
   "execution_count": 48,
   "id": "9789d1d4",
   "metadata": {
    "execution": {
     "iopub.execute_input": "2025-01-30T01:16:18.548040Z",
     "iopub.status.busy": "2025-01-30T01:16:18.547632Z",
     "iopub.status.idle": "2025-01-30T01:16:18.556638Z",
     "shell.execute_reply": "2025-01-30T01:16:18.555579Z"
    },
    "papermill": {
     "duration": 0.041329,
     "end_time": "2025-01-30T01:16:18.558754",
     "exception": false,
     "start_time": "2025-01-30T01:16:18.517425",
     "status": "completed"
    },
    "tags": []
   },
   "outputs": [
    {
     "data": {
      "text/plain": [
       "ChestPainType\n",
       "ASY    494\n",
       "NAP    203\n",
       "ATA    173\n",
       "TA      46\n",
       "Name: count, dtype: int64"
      ]
     },
     "execution_count": 48,
     "metadata": {},
     "output_type": "execute_result"
    }
   ],
   "source": [
    "df['ChestPainType'].value_counts()"
   ]
  },
  {
   "cell_type": "code",
   "execution_count": 49,
   "id": "35fdacc1",
   "metadata": {
    "execution": {
     "iopub.execute_input": "2025-01-30T01:16:18.616413Z",
     "iopub.status.busy": "2025-01-30T01:16:18.615995Z",
     "iopub.status.idle": "2025-01-30T01:16:18.880517Z",
     "shell.execute_reply": "2025-01-30T01:16:18.879404Z"
    },
    "papermill": {
     "duration": 0.296185,
     "end_time": "2025-01-30T01:16:18.882947",
     "exception": false,
     "start_time": "2025-01-30T01:16:18.586762",
     "status": "completed"
    },
    "tags": []
   },
   "outputs": [
    {
     "data": {
      "image/png": "[encoded data removed]",
      "text/plain": [
       "<Figure size 1000x600 with 1 Axes>"
      ]
     },
     "metadata": {},
     "output_type": "display_data"
    }
   ],
   "source": [
    "chest_pain_counts = df['ChestPainType'].value_counts()\n",
    "plt.figure(figsize=(10, 6))\n",
    "chest_pain_counts.plot(kind='bar', color=['lightblue', 'lightcoral', 'lightgreen', 'lightyellow'])\n",
    "plt.title('Distribution of ChestPainType', fontsize=16)\n",
    "plt.xlabel('Chest Pain Type', fontsize=14)\n",
    "plt.ylabel('Count', fontsize=14)\n",
    "plt.xticks(rotation = 45)\n",
    "plt.show()"
   ]
  },
  {
   "cell_type": "markdown",
   "id": "c12aaa6c",
   "metadata": {
    "papermill": {
     "duration": 0.028591,
     "end_time": "2025-01-30T01:16:18.940463",
     "exception": false,
     "start_time": "2025-01-30T01:16:18.911872",
     "status": "completed"
    },
    "tags": []
   },
   "source": [
    "TA: Typical Angina             الذبحة الصدرية النموذجية  \\n  \r\n",
    "ATA: Atypical Angina           الذبحة الصدرية غير النموذجية  \\n  \r\n",
    "NAP: Non-Anginal Pain          الم غير ذبحي صدري  \\n  \r\n",
    "ASY: Asymptomatic              بدون أعراض  \\n  \r\n",
    "  \r\n"
   ]
  },
  {
   "cell_type": "code",
   "execution_count": 50,
   "id": "64424b58",
   "metadata": {
    "execution": {
     "iopub.execute_input": "2025-01-30T01:16:18.999159Z",
     "iopub.status.busy": "2025-01-30T01:16:18.998194Z",
     "iopub.status.idle": "2025-01-30T01:16:19.006861Z",
     "shell.execute_reply": "2025-01-30T01:16:19.005848Z"
    },
    "papermill": {
     "duration": 0.040494,
     "end_time": "2025-01-30T01:16:19.009044",
     "exception": false,
     "start_time": "2025-01-30T01:16:18.968550",
     "status": "completed"
    },
    "tags": []
   },
   "outputs": [
    {
     "data": {
      "text/plain": [
       "RestingECG\n",
       "Normal    550\n",
       "LVH       188\n",
       "ST        178\n",
       "Name: count, dtype: int64"
      ]
     },
     "execution_count": 50,
     "metadata": {},
     "output_type": "execute_result"
    }
   ],
   "source": [
    "# resting blood pressure\n",
    "df['RestingECG'].value_counts()"
   ]
  },
  {
   "cell_type": "code",
   "execution_count": 51,
   "id": "0c679d43",
   "metadata": {
    "execution": {
     "iopub.execute_input": "2025-01-30T01:16:19.068550Z",
     "iopub.status.busy": "2025-01-30T01:16:19.068143Z",
     "iopub.status.idle": "2025-01-30T01:16:19.242496Z",
     "shell.execute_reply": "2025-01-30T01:16:19.241107Z"
    },
    "papermill": {
     "duration": 0.209444,
     "end_time": "2025-01-30T01:16:19.247038",
     "exception": false,
     "start_time": "2025-01-30T01:16:19.037594",
     "status": "completed"
    },
    "tags": []
   },
   "outputs": [
    {
     "data": {
      "image/png": "[encoded data removed]",
      "text/plain": [
       "<Figure size 800x800 with 1 Axes>"
      ]
     },
     "metadata": {},
     "output_type": "display_data"
    }
   ],
   "source": [
    "resting_ecg_counts = df['RestingECG'].value_counts()\n",
    "plt.figure(figsize=(8, 8))\n",
    "resting_ecg_counts.plot(kind='pie', autopct='%1.1f%%', colors=['lightblue', 'lightcoral', 'lightgreen'])\n",
    "\n",
    "plt.title('Distribution of RestingECG', fontsize=16)\n",
    "\n",
    "plt.ylabel('')\n",
    "plt.show()"
   ]
  },
  {
   "cell_type": "code",
   "execution_count": 52,
   "id": "3f041a07",
   "metadata": {
    "execution": {
     "iopub.execute_input": "2025-01-30T01:16:19.319641Z",
     "iopub.status.busy": "2025-01-30T01:16:19.319236Z",
     "iopub.status.idle": "2025-01-30T01:16:19.330438Z",
     "shell.execute_reply": "2025-01-30T01:16:19.329348Z"
    },
    "papermill": {
     "duration": 0.044059,
     "end_time": "2025-01-30T01:16:19.332783",
     "exception": false,
     "start_time": "2025-01-30T01:16:19.288724",
     "status": "completed"
    },
    "tags": []
   },
   "outputs": [
    {
     "data": {
      "text/plain": [
       "count    222.000000\n",
       "mean       4.126126\n",
       "std       11.427218\n",
       "min        1.000000\n",
       "25%        1.000000\n",
       "50%        3.000000\n",
       "75%        5.000000\n",
       "max      170.000000\n",
       "Name: count, dtype: float64"
      ]
     },
     "execution_count": 52,
     "metadata": {},
     "output_type": "execute_result"
    }
   ],
   "source": [
    "# Cholesterol\n",
    "df['Cholesterol'].value_counts().describe()"
   ]
  },
  {
   "cell_type": "code",
   "execution_count": 53,
   "id": "cdc21f07",
   "metadata": {
    "execution": {
     "iopub.execute_input": "2025-01-30T01:16:19.394130Z",
     "iopub.status.busy": "2025-01-30T01:16:19.393757Z",
     "iopub.status.idle": "2025-01-30T01:16:19.402686Z",
     "shell.execute_reply": "2025-01-30T01:16:19.401152Z"
    },
    "papermill": {
     "duration": 0.041801,
     "end_time": "2025-01-30T01:16:19.404842",
     "exception": false,
     "start_time": "2025-01-30T01:16:19.363041",
     "status": "completed"
    },
    "tags": []
   },
   "outputs": [
    {
     "data": {
      "text/plain": [
       "FastingBS\n",
       "0    702\n",
       "1    214\n",
       "Name: count, dtype: int64"
      ]
     },
     "execution_count": 53,
     "metadata": {},
     "output_type": "execute_result"
    }
   ],
   "source": [
    "# fasting blood sugar\n",
    "# 1: if FastingBS > 120 mg/dl\n",
    "# 0: otherwise\n",
    "df['FastingBS'].value_counts()"
   ]
  },
  {
   "cell_type": "code",
   "execution_count": 54,
   "id": "b331866f",
   "metadata": {
    "execution": {
     "iopub.execute_input": "2025-01-30T01:16:19.465077Z",
     "iopub.status.busy": "2025-01-30T01:16:19.464693Z",
     "iopub.status.idle": "2025-01-30T01:16:19.473953Z",
     "shell.execute_reply": "2025-01-30T01:16:19.472692Z"
    },
    "papermill": {
     "duration": 0.041907,
     "end_time": "2025-01-30T01:16:19.476187",
     "exception": false,
     "start_time": "2025-01-30T01:16:19.434280",
     "status": "completed"
    },
    "tags": []
   },
   "outputs": [
    {
     "data": {
      "text/plain": [
       "RestingECG\n",
       "Normal    550\n",
       "LVH       188\n",
       "ST        178\n",
       "Name: count, dtype: int64"
      ]
     },
     "execution_count": 54,
     "metadata": {},
     "output_type": "execute_result"
    }
   ],
   "source": [
    "# resting electrocardiogram results\n",
    "df['RestingECG'].value_counts()"
   ]
  },
  {
   "cell_type": "markdown",
   "id": "cc18e5d7",
   "metadata": {
    "papermill": {
     "duration": 0.03268,
     "end_time": "2025-01-30T01:16:19.538579",
     "exception": false,
     "start_time": "2025-01-30T01:16:19.505899",
     "status": "completed"
    },
    "tags": []
   },
   "source": [
    "Normal: Normal  \\n  \r\n",
    "ST: having ST-T wave abnormality  \\n  \r\n",
    "LVH: showing probable or definite left ventricular hypertrophy by Estes' criter ia  \\n \r\n",
    "ia"
   ]
  },
  {
   "cell_type": "code",
   "execution_count": 55,
   "id": "78d8dbfd",
   "metadata": {
    "execution": {
     "iopub.execute_input": "2025-01-30T01:16:19.599563Z",
     "iopub.status.busy": "2025-01-30T01:16:19.599149Z",
     "iopub.status.idle": "2025-01-30T01:16:19.610412Z",
     "shell.execute_reply": "2025-01-30T01:16:19.609352Z"
    },
    "papermill": {
     "duration": 0.044393,
     "end_time": "2025-01-30T01:16:19.612504",
     "exception": false,
     "start_time": "2025-01-30T01:16:19.568111",
     "status": "completed"
    },
    "tags": []
   },
   "outputs": [
    {
     "data": {
      "text/plain": [
       "count    117.000000\n",
       "mean       7.829060\n",
       "std        7.708359\n",
       "min        1.000000\n",
       "25%        3.000000\n",
       "50%        6.000000\n",
       "75%       10.000000\n",
       "max       43.000000\n",
       "Name: count, dtype: float64"
      ]
     },
     "execution_count": 55,
     "metadata": {},
     "output_type": "execute_result"
    }
   ],
   "source": [
    "# maximum heart rate achieved \n",
    "df['MaxHR'].value_counts().describe()"
   ]
  },
  {
   "cell_type": "code",
   "execution_count": 56,
   "id": "a9675a4c",
   "metadata": {
    "execution": {
     "iopub.execute_input": "2025-01-30T01:16:19.674900Z",
     "iopub.status.busy": "2025-01-30T01:16:19.674191Z",
     "iopub.status.idle": "2025-01-30T01:16:19.682656Z",
     "shell.execute_reply": "2025-01-30T01:16:19.681518Z"
    },
    "papermill": {
     "duration": 0.04251,
     "end_time": "2025-01-30T01:16:19.684855",
     "exception": false,
     "start_time": "2025-01-30T01:16:19.642345",
     "status": "completed"
    },
    "tags": []
   },
   "outputs": [
    {
     "data": {
      "text/plain": [
       "ExerciseAngina\n",
       "N    546\n",
       "Y    370\n",
       "Name: count, dtype: int64"
      ]
     },
     "execution_count": 56,
     "metadata": {},
     "output_type": "execute_result"
    }
   ],
   "source": [
    "# exercise-induced angina\n",
    "df['ExerciseAngina'].value_counts()"
   ]
  },
  {
   "cell_type": "markdown",
   "id": "da7141c5",
   "metadata": {
    "papermill": {
     "duration": 0.029325,
     "end_time": "2025-01-30T01:16:19.744244",
     "exception": false,
     "start_time": "2025-01-30T01:16:19.714919",
     "status": "completed"
    },
    "tags": []
   },
   "source": [
    "***===============================================================================***"
   ]
  },
  {
   "cell_type": "code",
   "execution_count": 57,
   "id": "135db54f",
   "metadata": {
    "execution": {
     "iopub.execute_input": "2025-01-30T01:16:19.805198Z",
     "iopub.status.busy": "2025-01-30T01:16:19.804817Z",
     "iopub.status.idle": "2025-01-30T01:16:19.828433Z",
     "shell.execute_reply": "2025-01-30T01:16:19.827249Z"
    },
    "papermill": {
     "duration": 0.057193,
     "end_time": "2025-01-30T01:16:19.830831",
     "exception": false,
     "start_time": "2025-01-30T01:16:19.773638",
     "status": "completed"
    },
    "tags": []
   },
   "outputs": [
    {
     "data": {
      "text/html": [
       "<div>\n",
       "<style scoped>\n",
       "    .dataframe tbody tr th:only-of-type {\n",
       "        vertical-align: middle;\n",
       "    }\n",
       "\n",
       "    .dataframe tbody tr th {\n",
       "        vertical-align: top;\n",
       "    }\n",
       "\n",
       "    .dataframe thead th {\n",
       "        text-align: right;\n",
       "    }\n",
       "</style>\n",
       "<table border=\"1\" class=\"dataframe\">\n",
       "  <thead>\n",
       "    <tr style=\"text-align: right;\">\n",
       "      <th>ChestPainType</th>\n",
       "      <th>ASY</th>\n",
       "      <th>ATA</th>\n",
       "      <th>NAP</th>\n",
       "      <th>TA</th>\n",
       "    </tr>\n",
       "    <tr>\n",
       "      <th>ExerciseAngina</th>\n",
       "      <th></th>\n",
       "      <th></th>\n",
       "      <th></th>\n",
       "      <th></th>\n",
       "    </tr>\n",
       "  </thead>\n",
       "  <tbody>\n",
       "    <tr>\n",
       "      <th>N</th>\n",
       "      <td>198</td>\n",
       "      <td>156</td>\n",
       "      <td>152</td>\n",
       "      <td>40</td>\n",
       "    </tr>\n",
       "    <tr>\n",
       "      <th>Y</th>\n",
       "      <td>296</td>\n",
       "      <td>17</td>\n",
       "      <td>51</td>\n",
       "      <td>6</td>\n",
       "    </tr>\n",
       "  </tbody>\n",
       "</table>\n",
       "</div>"
      ],
      "text/plain": [
       "ChestPainType   ASY  ATA  NAP  TA\n",
       "ExerciseAngina                   \n",
       "N               198  156  152  40\n",
       "Y               296   17   51   6"
      ]
     },
     "execution_count": 57,
     "metadata": {},
     "output_type": "execute_result"
    }
   ],
   "source": [
    "pd.crosstab(df.ExerciseAngina , df.ChestPainType)"
   ]
  },
  {
   "cell_type": "code",
   "execution_count": 58,
   "id": "11192bf1",
   "metadata": {
    "execution": {
     "iopub.execute_input": "2025-01-30T01:16:19.895464Z",
     "iopub.status.busy": "2025-01-30T01:16:19.895031Z",
     "iopub.status.idle": "2025-01-30T01:16:19.913773Z",
     "shell.execute_reply": "2025-01-30T01:16:19.912622Z"
    },
    "papermill": {
     "duration": 0.054177,
     "end_time": "2025-01-30T01:16:19.916020",
     "exception": false,
     "start_time": "2025-01-30T01:16:19.861843",
     "status": "completed"
    },
    "tags": []
   },
   "outputs": [
    {
     "data": {
      "text/html": [
       "<div>\n",
       "<style scoped>\n",
       "    .dataframe tbody tr th:only-of-type {\n",
       "        vertical-align: middle;\n",
       "    }\n",
       "\n",
       "    .dataframe tbody tr th {\n",
       "        vertical-align: top;\n",
       "    }\n",
       "\n",
       "    .dataframe thead th {\n",
       "        text-align: right;\n",
       "    }\n",
       "</style>\n",
       "<table border=\"1\" class=\"dataframe\">\n",
       "  <thead>\n",
       "    <tr style=\"text-align: right;\">\n",
       "      <th></th>\n",
       "      <th>Age</th>\n",
       "      <th>Sex</th>\n",
       "      <th>ChestPainType</th>\n",
       "      <th>RestingBP</th>\n",
       "      <th>Cholesterol</th>\n",
       "      <th>FastingBS</th>\n",
       "      <th>RestingECG</th>\n",
       "      <th>MaxHR</th>\n",
       "      <th>ExerciseAngina</th>\n",
       "      <th>Oldpeak</th>\n",
       "      <th>ST_Slope</th>\n",
       "      <th>HeartDisease</th>\n",
       "    </tr>\n",
       "  </thead>\n",
       "  <tbody>\n",
       "    <tr>\n",
       "      <th>0</th>\n",
       "      <td>40</td>\n",
       "      <td>M</td>\n",
       "      <td>ATA</td>\n",
       "      <td>140</td>\n",
       "      <td>289</td>\n",
       "      <td>0</td>\n",
       "      <td>Normal</td>\n",
       "      <td>172</td>\n",
       "      <td>N</td>\n",
       "      <td>0.0</td>\n",
       "      <td>Up</td>\n",
       "      <td>0</td>\n",
       "    </tr>\n",
       "    <tr>\n",
       "      <th>1</th>\n",
       "      <td>49</td>\n",
       "      <td>F</td>\n",
       "      <td>NAP</td>\n",
       "      <td>160</td>\n",
       "      <td>180</td>\n",
       "      <td>0</td>\n",
       "      <td>Normal</td>\n",
       "      <td>156</td>\n",
       "      <td>N</td>\n",
       "      <td>1.0</td>\n",
       "      <td>Flat</td>\n",
       "      <td>1</td>\n",
       "    </tr>\n",
       "    <tr>\n",
       "      <th>2</th>\n",
       "      <td>37</td>\n",
       "      <td>M</td>\n",
       "      <td>ATA</td>\n",
       "      <td>130</td>\n",
       "      <td>283</td>\n",
       "      <td>0</td>\n",
       "      <td>ST</td>\n",
       "      <td>98</td>\n",
       "      <td>N</td>\n",
       "      <td>0.0</td>\n",
       "      <td>Up</td>\n",
       "      <td>0</td>\n",
       "    </tr>\n",
       "    <tr>\n",
       "      <th>3</th>\n",
       "      <td>48</td>\n",
       "      <td>F</td>\n",
       "      <td>ASY</td>\n",
       "      <td>138</td>\n",
       "      <td>214</td>\n",
       "      <td>0</td>\n",
       "      <td>Normal</td>\n",
       "      <td>108</td>\n",
       "      <td>Y</td>\n",
       "      <td>1.5</td>\n",
       "      <td>Flat</td>\n",
       "      <td>1</td>\n",
       "    </tr>\n",
       "    <tr>\n",
       "      <th>4</th>\n",
       "      <td>54</td>\n",
       "      <td>M</td>\n",
       "      <td>NAP</td>\n",
       "      <td>150</td>\n",
       "      <td>195</td>\n",
       "      <td>0</td>\n",
       "      <td>Normal</td>\n",
       "      <td>122</td>\n",
       "      <td>N</td>\n",
       "      <td>0.0</td>\n",
       "      <td>Up</td>\n",
       "      <td>0</td>\n",
       "    </tr>\n",
       "    <tr>\n",
       "      <th>...</th>\n",
       "      <td>...</td>\n",
       "      <td>...</td>\n",
       "      <td>...</td>\n",
       "      <td>...</td>\n",
       "      <td>...</td>\n",
       "      <td>...</td>\n",
       "      <td>...</td>\n",
       "      <td>...</td>\n",
       "      <td>...</td>\n",
       "      <td>...</td>\n",
       "      <td>...</td>\n",
       "      <td>...</td>\n",
       "    </tr>\n",
       "    <tr>\n",
       "      <th>913</th>\n",
       "      <td>45</td>\n",
       "      <td>M</td>\n",
       "      <td>TA</td>\n",
       "      <td>110</td>\n",
       "      <td>264</td>\n",
       "      <td>0</td>\n",
       "      <td>Normal</td>\n",
       "      <td>132</td>\n",
       "      <td>N</td>\n",
       "      <td>1.2</td>\n",
       "      <td>Flat</td>\n",
       "      <td>1</td>\n",
       "    </tr>\n",
       "    <tr>\n",
       "      <th>914</th>\n",
       "      <td>68</td>\n",
       "      <td>M</td>\n",
       "      <td>ASY</td>\n",
       "      <td>144</td>\n",
       "      <td>193</td>\n",
       "      <td>1</td>\n",
       "      <td>Normal</td>\n",
       "      <td>141</td>\n",
       "      <td>N</td>\n",
       "      <td>3.4</td>\n",
       "      <td>Flat</td>\n",
       "      <td>1</td>\n",
       "    </tr>\n",
       "    <tr>\n",
       "      <th>915</th>\n",
       "      <td>57</td>\n",
       "      <td>M</td>\n",
       "      <td>ASY</td>\n",
       "      <td>130</td>\n",
       "      <td>131</td>\n",
       "      <td>0</td>\n",
       "      <td>Normal</td>\n",
       "      <td>115</td>\n",
       "      <td>Y</td>\n",
       "      <td>1.2</td>\n",
       "      <td>Flat</td>\n",
       "      <td>1</td>\n",
       "    </tr>\n",
       "    <tr>\n",
       "      <th>916</th>\n",
       "      <td>57</td>\n",
       "      <td>F</td>\n",
       "      <td>ATA</td>\n",
       "      <td>130</td>\n",
       "      <td>236</td>\n",
       "      <td>0</td>\n",
       "      <td>LVH</td>\n",
       "      <td>174</td>\n",
       "      <td>N</td>\n",
       "      <td>0.0</td>\n",
       "      <td>Flat</td>\n",
       "      <td>1</td>\n",
       "    </tr>\n",
       "    <tr>\n",
       "      <th>917</th>\n",
       "      <td>38</td>\n",
       "      <td>M</td>\n",
       "      <td>NAP</td>\n",
       "      <td>138</td>\n",
       "      <td>175</td>\n",
       "      <td>0</td>\n",
       "      <td>Normal</td>\n",
       "      <td>173</td>\n",
       "      <td>N</td>\n",
       "      <td>0.0</td>\n",
       "      <td>Up</td>\n",
       "      <td>0</td>\n",
       "    </tr>\n",
       "  </tbody>\n",
       "</table>\n",
       "<p>916 rows × 12 columns</p>\n",
       "</div>"
      ],
      "text/plain": [
       "     Age Sex ChestPainType  RestingBP  Cholesterol  FastingBS RestingECG  \\\n",
       "0     40   M           ATA        140          289          0     Normal   \n",
       "1     49   F           NAP        160          180          0     Normal   \n",
       "2     37   M           ATA        130          283          0         ST   \n",
       "3     48   F           ASY        138          214          0     Normal   \n",
       "4     54   M           NAP        150          195          0     Normal   \n",
       "..   ...  ..           ...        ...          ...        ...        ...   \n",
       "913   45   M            TA        110          264          0     Normal   \n",
       "914   68   M           ASY        144          193          1     Normal   \n",
       "915   57   M           ASY        130          131          0     Normal   \n",
       "916   57   F           ATA        130          236          0        LVH   \n",
       "917   38   M           NAP        138          175          0     Normal   \n",
       "\n",
       "     MaxHR ExerciseAngina  Oldpeak ST_Slope  HeartDisease  \n",
       "0      172              N      0.0       Up             0  \n",
       "1      156              N      1.0     Flat             1  \n",
       "2       98              N      0.0       Up             0  \n",
       "3      108              Y      1.5     Flat             1  \n",
       "4      122              N      0.0       Up             0  \n",
       "..     ...            ...      ...      ...           ...  \n",
       "913    132              N      1.2     Flat             1  \n",
       "914    141              N      3.4     Flat             1  \n",
       "915    115              Y      1.2     Flat             1  \n",
       "916    174              N      0.0     Flat             1  \n",
       "917    173              N      0.0       Up             0  \n",
       "\n",
       "[916 rows x 12 columns]"
      ]
     },
     "execution_count": 58,
     "metadata": {},
     "output_type": "execute_result"
    }
   ],
   "source": [
    "df"
   ]
  },
  {
   "cell_type": "code",
   "execution_count": 59,
   "id": "b0200330",
   "metadata": {
    "execution": {
     "iopub.execute_input": "2025-01-30T01:16:19.982351Z",
     "iopub.status.busy": "2025-01-30T01:16:19.981949Z",
     "iopub.status.idle": "2025-01-30T01:16:19.992737Z",
     "shell.execute_reply": "2025-01-30T01:16:19.991596Z"
    },
    "papermill": {
     "duration": 0.046647,
     "end_time": "2025-01-30T01:16:19.994969",
     "exception": false,
     "start_time": "2025-01-30T01:16:19.948322",
     "status": "completed"
    },
    "tags": []
   },
   "outputs": [
    {
     "data": {
      "text/plain": [
       "Sex\n",
       "F    52.492228\n",
       "M    53.777317\n",
       "Name: Age, dtype: float64"
      ]
     },
     "execution_count": 59,
     "metadata": {},
     "output_type": "execute_result"
    }
   ],
   "source": [
    "df.groupby(\"Sex\").Age.mean()"
   ]
  },
  {
   "cell_type": "code",
   "execution_count": 60,
   "id": "bcfa8dac",
   "metadata": {
    "execution": {
     "iopub.execute_input": "2025-01-30T01:16:20.061854Z",
     "iopub.status.busy": "2025-01-30T01:16:20.061457Z",
     "iopub.status.idle": "2025-01-30T01:16:20.081600Z",
     "shell.execute_reply": "2025-01-30T01:16:20.080385Z"
    },
    "papermill": {
     "duration": 0.056696,
     "end_time": "2025-01-30T01:16:20.083970",
     "exception": false,
     "start_time": "2025-01-30T01:16:20.027274",
     "status": "completed"
    },
    "tags": []
   },
   "outputs": [
    {
     "data": {
      "text/html": [
       "<div>\n",
       "<style scoped>\n",
       "    .dataframe tbody tr th:only-of-type {\n",
       "        vertical-align: middle;\n",
       "    }\n",
       "\n",
       "    .dataframe tbody tr th {\n",
       "        vertical-align: top;\n",
       "    }\n",
       "\n",
       "    .dataframe thead th {\n",
       "        text-align: right;\n",
       "    }\n",
       "</style>\n",
       "<table border=\"1\" class=\"dataframe\">\n",
       "  <thead>\n",
       "    <tr style=\"text-align: right;\">\n",
       "      <th>Sex</th>\n",
       "      <th>F</th>\n",
       "      <th>M</th>\n",
       "    </tr>\n",
       "    <tr>\n",
       "      <th>Age</th>\n",
       "      <th></th>\n",
       "      <th></th>\n",
       "    </tr>\n",
       "  </thead>\n",
       "  <tbody>\n",
       "    <tr>\n",
       "      <th>28</th>\n",
       "      <td>0</td>\n",
       "      <td>1</td>\n",
       "    </tr>\n",
       "    <tr>\n",
       "      <th>29</th>\n",
       "      <td>0</td>\n",
       "      <td>3</td>\n",
       "    </tr>\n",
       "    <tr>\n",
       "      <th>30</th>\n",
       "      <td>1</td>\n",
       "      <td>0</td>\n",
       "    </tr>\n",
       "    <tr>\n",
       "      <th>31</th>\n",
       "      <td>1</td>\n",
       "      <td>1</td>\n",
       "    </tr>\n",
       "    <tr>\n",
       "      <th>32</th>\n",
       "      <td>1</td>\n",
       "      <td>4</td>\n",
       "    </tr>\n",
       "    <tr>\n",
       "      <th>33</th>\n",
       "      <td>1</td>\n",
       "      <td>1</td>\n",
       "    </tr>\n",
       "    <tr>\n",
       "      <th>34</th>\n",
       "      <td>2</td>\n",
       "      <td>5</td>\n",
       "    </tr>\n",
       "    <tr>\n",
       "      <th>35</th>\n",
       "      <td>3</td>\n",
       "      <td>8</td>\n",
       "    </tr>\n",
       "    <tr>\n",
       "      <th>36</th>\n",
       "      <td>0</td>\n",
       "      <td>6</td>\n",
       "    </tr>\n",
       "    <tr>\n",
       "      <th>37</th>\n",
       "      <td>4</td>\n",
       "      <td>7</td>\n",
       "    </tr>\n",
       "    <tr>\n",
       "      <th>38</th>\n",
       "      <td>3</td>\n",
       "      <td>13</td>\n",
       "    </tr>\n",
       "    <tr>\n",
       "      <th>39</th>\n",
       "      <td>3</td>\n",
       "      <td>12</td>\n",
       "    </tr>\n",
       "    <tr>\n",
       "      <th>40</th>\n",
       "      <td>1</td>\n",
       "      <td>12</td>\n",
       "    </tr>\n",
       "    <tr>\n",
       "      <th>41</th>\n",
       "      <td>7</td>\n",
       "      <td>17</td>\n",
       "    </tr>\n",
       "    <tr>\n",
       "      <th>42</th>\n",
       "      <td>3</td>\n",
       "      <td>15</td>\n",
       "    </tr>\n",
       "    <tr>\n",
       "      <th>43</th>\n",
       "      <td>9</td>\n",
       "      <td>15</td>\n",
       "    </tr>\n",
       "    <tr>\n",
       "      <th>44</th>\n",
       "      <td>3</td>\n",
       "      <td>16</td>\n",
       "    </tr>\n",
       "    <tr>\n",
       "      <th>45</th>\n",
       "      <td>6</td>\n",
       "      <td>12</td>\n",
       "    </tr>\n",
       "    <tr>\n",
       "      <th>46</th>\n",
       "      <td>4</td>\n",
       "      <td>20</td>\n",
       "    </tr>\n",
       "    <tr>\n",
       "      <th>47</th>\n",
       "      <td>4</td>\n",
       "      <td>15</td>\n",
       "    </tr>\n",
       "    <tr>\n",
       "      <th>48</th>\n",
       "      <td>9</td>\n",
       "      <td>22</td>\n",
       "    </tr>\n",
       "    <tr>\n",
       "      <th>49</th>\n",
       "      <td>6</td>\n",
       "      <td>15</td>\n",
       "    </tr>\n",
       "    <tr>\n",
       "      <th>50</th>\n",
       "      <td>7</td>\n",
       "      <td>18</td>\n",
       "    </tr>\n",
       "    <tr>\n",
       "      <th>51</th>\n",
       "      <td>11</td>\n",
       "      <td>23</td>\n",
       "    </tr>\n",
       "    <tr>\n",
       "      <th>52</th>\n",
       "      <td>5</td>\n",
       "      <td>31</td>\n",
       "    </tr>\n",
       "    <tr>\n",
       "      <th>53</th>\n",
       "      <td>6</td>\n",
       "      <td>27</td>\n",
       "    </tr>\n",
       "    <tr>\n",
       "      <th>54</th>\n",
       "      <td>15</td>\n",
       "      <td>36</td>\n",
       "    </tr>\n",
       "    <tr>\n",
       "      <th>55</th>\n",
       "      <td>7</td>\n",
       "      <td>34</td>\n",
       "    </tr>\n",
       "    <tr>\n",
       "      <th>56</th>\n",
       "      <td>5</td>\n",
       "      <td>33</td>\n",
       "    </tr>\n",
       "    <tr>\n",
       "      <th>57</th>\n",
       "      <td>6</td>\n",
       "      <td>32</td>\n",
       "    </tr>\n",
       "    <tr>\n",
       "      <th>58</th>\n",
       "      <td>7</td>\n",
       "      <td>35</td>\n",
       "    </tr>\n",
       "    <tr>\n",
       "      <th>59</th>\n",
       "      <td>3</td>\n",
       "      <td>32</td>\n",
       "    </tr>\n",
       "    <tr>\n",
       "      <th>60</th>\n",
       "      <td>5</td>\n",
       "      <td>26</td>\n",
       "    </tr>\n",
       "    <tr>\n",
       "      <th>61</th>\n",
       "      <td>4</td>\n",
       "      <td>27</td>\n",
       "    </tr>\n",
       "    <tr>\n",
       "      <th>62</th>\n",
       "      <td>10</td>\n",
       "      <td>25</td>\n",
       "    </tr>\n",
       "    <tr>\n",
       "      <th>63</th>\n",
       "      <td>6</td>\n",
       "      <td>24</td>\n",
       "    </tr>\n",
       "    <tr>\n",
       "      <th>64</th>\n",
       "      <td>6</td>\n",
       "      <td>16</td>\n",
       "    </tr>\n",
       "    <tr>\n",
       "      <th>65</th>\n",
       "      <td>4</td>\n",
       "      <td>17</td>\n",
       "    </tr>\n",
       "    <tr>\n",
       "      <th>66</th>\n",
       "      <td>4</td>\n",
       "      <td>9</td>\n",
       "    </tr>\n",
       "    <tr>\n",
       "      <th>67</th>\n",
       "      <td>3</td>\n",
       "      <td>12</td>\n",
       "    </tr>\n",
       "    <tr>\n",
       "      <th>68</th>\n",
       "      <td>1</td>\n",
       "      <td>9</td>\n",
       "    </tr>\n",
       "    <tr>\n",
       "      <th>69</th>\n",
       "      <td>1</td>\n",
       "      <td>12</td>\n",
       "    </tr>\n",
       "    <tr>\n",
       "      <th>70</th>\n",
       "      <td>0</td>\n",
       "      <td>7</td>\n",
       "    </tr>\n",
       "    <tr>\n",
       "      <th>71</th>\n",
       "      <td>3</td>\n",
       "      <td>2</td>\n",
       "    </tr>\n",
       "    <tr>\n",
       "      <th>72</th>\n",
       "      <td>0</td>\n",
       "      <td>4</td>\n",
       "    </tr>\n",
       "    <tr>\n",
       "      <th>73</th>\n",
       "      <td>1</td>\n",
       "      <td>0</td>\n",
       "    </tr>\n",
       "    <tr>\n",
       "      <th>74</th>\n",
       "      <td>1</td>\n",
       "      <td>6</td>\n",
       "    </tr>\n",
       "    <tr>\n",
       "      <th>75</th>\n",
       "      <td>0</td>\n",
       "      <td>3</td>\n",
       "    </tr>\n",
       "    <tr>\n",
       "      <th>76</th>\n",
       "      <td>1</td>\n",
       "      <td>1</td>\n",
       "    </tr>\n",
       "    <tr>\n",
       "      <th>77</th>\n",
       "      <td>0</td>\n",
       "      <td>2</td>\n",
       "    </tr>\n",
       "  </tbody>\n",
       "</table>\n",
       "</div>"
      ],
      "text/plain": [
       "Sex   F   M\n",
       "Age        \n",
       "28    0   1\n",
       "29    0   3\n",
       "30    1   0\n",
       "31    1   1\n",
       "32    1   4\n",
       "33    1   1\n",
       "34    2   5\n",
       "35    3   8\n",
       "36    0   6\n",
       "37    4   7\n",
       "38    3  13\n",
       "39    3  12\n",
       "40    1  12\n",
       "41    7  17\n",
       "42    3  15\n",
       "43    9  15\n",
       "44    3  16\n",
       "45    6  12\n",
       "46    4  20\n",
       "47    4  15\n",
       "48    9  22\n",
       "49    6  15\n",
       "50    7  18\n",
       "51   11  23\n",
       "52    5  31\n",
       "53    6  27\n",
       "54   15  36\n",
       "55    7  34\n",
       "56    5  33\n",
       "57    6  32\n",
       "58    7  35\n",
       "59    3  32\n",
       "60    5  26\n",
       "61    4  27\n",
       "62   10  25\n",
       "63    6  24\n",
       "64    6  16\n",
       "65    4  17\n",
       "66    4   9\n",
       "67    3  12\n",
       "68    1   9\n",
       "69    1  12\n",
       "70    0   7\n",
       "71    3   2\n",
       "72    0   4\n",
       "73    1   0\n",
       "74    1   6\n",
       "75    0   3\n",
       "76    1   1\n",
       "77    0   2"
      ]
     },
     "execution_count": 60,
     "metadata": {},
     "output_type": "execute_result"
    }
   ],
   "source": [
    "pd.crosstab(df.Age , df.Sex)"
   ]
  },
  {
   "cell_type": "code",
   "execution_count": 61,
   "id": "80fd967b",
   "metadata": {
    "execution": {
     "iopub.execute_input": "2025-01-30T01:16:20.152245Z",
     "iopub.status.busy": "2025-01-30T01:16:20.151851Z",
     "iopub.status.idle": "2025-01-30T01:16:20.177853Z",
     "shell.execute_reply": "2025-01-30T01:16:20.176664Z"
    },
    "papermill": {
     "duration": 0.063316,
     "end_time": "2025-01-30T01:16:20.180148",
     "exception": false,
     "start_time": "2025-01-30T01:16:20.116832",
     "status": "completed"
    },
    "tags": []
   },
   "outputs": [
    {
     "data": {
      "text/html": [
       "<div>\n",
       "<style scoped>\n",
       "    .dataframe tbody tr th:only-of-type {\n",
       "        vertical-align: middle;\n",
       "    }\n",
       "\n",
       "    .dataframe tbody tr th {\n",
       "        vertical-align: top;\n",
       "    }\n",
       "\n",
       "    .dataframe thead th {\n",
       "        text-align: right;\n",
       "    }\n",
       "</style>\n",
       "<table border=\"1\" class=\"dataframe\">\n",
       "  <thead>\n",
       "    <tr style=\"text-align: right;\">\n",
       "      <th>Age</th>\n",
       "      <th>28</th>\n",
       "      <th>29</th>\n",
       "      <th>30</th>\n",
       "      <th>31</th>\n",
       "      <th>32</th>\n",
       "      <th>33</th>\n",
       "      <th>34</th>\n",
       "      <th>35</th>\n",
       "      <th>36</th>\n",
       "      <th>37</th>\n",
       "      <th>...</th>\n",
       "      <th>68</th>\n",
       "      <th>69</th>\n",
       "      <th>70</th>\n",
       "      <th>71</th>\n",
       "      <th>72</th>\n",
       "      <th>73</th>\n",
       "      <th>74</th>\n",
       "      <th>75</th>\n",
       "      <th>76</th>\n",
       "      <th>77</th>\n",
       "    </tr>\n",
       "    <tr>\n",
       "      <th>ChestPainType</th>\n",
       "      <th></th>\n",
       "      <th></th>\n",
       "      <th></th>\n",
       "      <th></th>\n",
       "      <th></th>\n",
       "      <th></th>\n",
       "      <th></th>\n",
       "      <th></th>\n",
       "      <th></th>\n",
       "      <th></th>\n",
       "      <th></th>\n",
       "      <th></th>\n",
       "      <th></th>\n",
       "      <th></th>\n",
       "      <th></th>\n",
       "      <th></th>\n",
       "      <th></th>\n",
       "      <th></th>\n",
       "      <th></th>\n",
       "      <th></th>\n",
       "      <th></th>\n",
       "    </tr>\n",
       "  </thead>\n",
       "  <tbody>\n",
       "    <tr>\n",
       "      <th>ASY</th>\n",
       "      <td>0</td>\n",
       "      <td>0</td>\n",
       "      <td>0</td>\n",
       "      <td>1</td>\n",
       "      <td>1</td>\n",
       "      <td>1</td>\n",
       "      <td>1</td>\n",
       "      <td>5</td>\n",
       "      <td>1</td>\n",
       "      <td>4</td>\n",
       "      <td>...</td>\n",
       "      <td>4</td>\n",
       "      <td>8</td>\n",
       "      <td>5</td>\n",
       "      <td>2</td>\n",
       "      <td>2</td>\n",
       "      <td>0</td>\n",
       "      <td>2</td>\n",
       "      <td>3</td>\n",
       "      <td>0</td>\n",
       "      <td>2</td>\n",
       "    </tr>\n",
       "    <tr>\n",
       "      <th>ATA</th>\n",
       "      <td>1</td>\n",
       "      <td>3</td>\n",
       "      <td>0</td>\n",
       "      <td>1</td>\n",
       "      <td>3</td>\n",
       "      <td>0</td>\n",
       "      <td>4</td>\n",
       "      <td>4</td>\n",
       "      <td>2</td>\n",
       "      <td>2</td>\n",
       "      <td>...</td>\n",
       "      <td>0</td>\n",
       "      <td>0</td>\n",
       "      <td>1</td>\n",
       "      <td>1</td>\n",
       "      <td>0</td>\n",
       "      <td>0</td>\n",
       "      <td>2</td>\n",
       "      <td>0</td>\n",
       "      <td>0</td>\n",
       "      <td>0</td>\n",
       "    </tr>\n",
       "    <tr>\n",
       "      <th>NAP</th>\n",
       "      <td>0</td>\n",
       "      <td>0</td>\n",
       "      <td>0</td>\n",
       "      <td>0</td>\n",
       "      <td>0</td>\n",
       "      <td>1</td>\n",
       "      <td>0</td>\n",
       "      <td>1</td>\n",
       "      <td>3</td>\n",
       "      <td>5</td>\n",
       "      <td>...</td>\n",
       "      <td>5</td>\n",
       "      <td>3</td>\n",
       "      <td>1</td>\n",
       "      <td>2</td>\n",
       "      <td>2</td>\n",
       "      <td>1</td>\n",
       "      <td>2</td>\n",
       "      <td>0</td>\n",
       "      <td>2</td>\n",
       "      <td>0</td>\n",
       "    </tr>\n",
       "    <tr>\n",
       "      <th>TA</th>\n",
       "      <td>0</td>\n",
       "      <td>0</td>\n",
       "      <td>1</td>\n",
       "      <td>0</td>\n",
       "      <td>1</td>\n",
       "      <td>0</td>\n",
       "      <td>2</td>\n",
       "      <td>1</td>\n",
       "      <td>0</td>\n",
       "      <td>0</td>\n",
       "      <td>...</td>\n",
       "      <td>1</td>\n",
       "      <td>2</td>\n",
       "      <td>0</td>\n",
       "      <td>0</td>\n",
       "      <td>0</td>\n",
       "      <td>0</td>\n",
       "      <td>1</td>\n",
       "      <td>0</td>\n",
       "      <td>0</td>\n",
       "      <td>0</td>\n",
       "    </tr>\n",
       "  </tbody>\n",
       "</table>\n",
       "<p>4 rows × 50 columns</p>\n",
       "</div>"
      ],
      "text/plain": [
       "Age            28  29  30  31  32  33  34  35  36  37  ...  68  69  70  71  \\\n",
       "ChestPainType                                          ...                   \n",
       "ASY             0   0   0   1   1   1   1   5   1   4  ...   4   8   5   2   \n",
       "ATA             1   3   0   1   3   0   4   4   2   2  ...   0   0   1   1   \n",
       "NAP             0   0   0   0   0   1   0   1   3   5  ...   5   3   1   2   \n",
       "TA              0   0   1   0   1   0   2   1   0   0  ...   1   2   0   0   \n",
       "\n",
       "Age            72  73  74  75  76  77  \n",
       "ChestPainType                          \n",
       "ASY             2   0   2   3   0   2  \n",
       "ATA             0   0   2   0   0   0  \n",
       "NAP             2   1   2   0   2   0  \n",
       "TA              0   0   1   0   0   0  \n",
       "\n",
       "[4 rows x 50 columns]"
      ]
     },
     "execution_count": 61,
     "metadata": {},
     "output_type": "execute_result"
    }
   ],
   "source": [
    "pd.crosstab(df.ChestPainType , df.Age)"
   ]
  },
  {
   "cell_type": "code",
   "execution_count": 62,
   "id": "d6973ed0",
   "metadata": {
    "execution": {
     "iopub.execute_input": "2025-01-30T01:16:20.248777Z",
     "iopub.status.busy": "2025-01-30T01:16:20.248182Z",
     "iopub.status.idle": "2025-01-30T01:16:20.257374Z",
     "shell.execute_reply": "2025-01-30T01:16:20.256318Z"
    },
    "papermill": {
     "duration": 0.046234,
     "end_time": "2025-01-30T01:16:20.259405",
     "exception": false,
     "start_time": "2025-01-30T01:16:20.213171",
     "status": "completed"
    },
    "tags": []
   },
   "outputs": [
    {
     "data": {
      "text/plain": [
       "ChestPainType\n",
       "ASY    54.957490\n",
       "ATA    49.242775\n",
       "NAP    53.310345\n",
       "TA     54.826087\n",
       "Name: Age, dtype: float64"
      ]
     },
     "execution_count": 62,
     "metadata": {},
     "output_type": "execute_result"
    }
   ],
   "source": [
    "df.groupby(\"ChestPainType\").Age.mean()"
   ]
  },
  {
   "cell_type": "code",
   "execution_count": 63,
   "id": "9a2c3aa9",
   "metadata": {
    "execution": {
     "iopub.execute_input": "2025-01-30T01:16:20.327862Z",
     "iopub.status.busy": "2025-01-30T01:16:20.327413Z",
     "iopub.status.idle": "2025-01-30T01:16:20.340675Z",
     "shell.execute_reply": "2025-01-30T01:16:20.339444Z"
    },
    "papermill": {
     "duration": 0.050017,
     "end_time": "2025-01-30T01:16:20.342910",
     "exception": false,
     "start_time": "2025-01-30T01:16:20.292893",
     "status": "completed"
    },
    "tags": []
   },
   "outputs": [
    {
     "data": {
      "text/plain": [
       "ChestPainType\n",
       "ASY    31\n",
       "ATA    28\n",
       "NAP    33\n",
       "TA     30\n",
       "Name: Age, dtype: int64"
      ]
     },
     "execution_count": 63,
     "metadata": {},
     "output_type": "execute_result"
    }
   ],
   "source": [
    "df.groupby(\"ChestPainType\").Age.min()"
   ]
  },
  {
   "cell_type": "code",
   "execution_count": 64,
   "id": "b97d2c20",
   "metadata": {
    "execution": {
     "iopub.execute_input": "2025-01-30T01:16:20.411051Z",
     "iopub.status.busy": "2025-01-30T01:16:20.410597Z",
     "iopub.status.idle": "2025-01-30T01:16:20.593487Z",
     "shell.execute_reply": "2025-01-30T01:16:20.592264Z"
    },
    "papermill": {
     "duration": 0.21962,
     "end_time": "2025-01-30T01:16:20.595885",
     "exception": false,
     "start_time": "2025-01-30T01:16:20.376265",
     "status": "completed"
    },
    "tags": []
   },
   "outputs": [
    {
     "data": {
      "image/png": "[encoded data removed]",
      "text/plain": [
       "<Figure size 1000x600 with 1 Axes>"
      ]
     },
     "metadata": {},
     "output_type": "display_data"
    }
   ],
   "source": [
    "# Calculate the minimum age for each ChestPainType\n",
    "min_age_by_chestpain = df.groupby(\"ChestPainType\")['Age'].min()\n",
    "\n",
    "plt.figure(figsize=(10, 6))\n",
    "plt.bar(min_age_by_chestpain.index, min_age_by_chestpain.values, color='skyblue')\n",
    "plt.title('Minimum Age by ChestPainType', fontsize=16)\n",
    "plt.xlabel('ChestPainType', fontsize=14)\n",
    "plt.ylabel('Minimum Age', fontsize=14)\n",
    "plt.show()"
   ]
  },
  {
   "cell_type": "code",
   "execution_count": 65,
   "id": "55fa137b",
   "metadata": {
    "execution": {
     "iopub.execute_input": "2025-01-30T01:16:20.665159Z",
     "iopub.status.busy": "2025-01-30T01:16:20.664727Z",
     "iopub.status.idle": "2025-01-30T01:16:20.675158Z",
     "shell.execute_reply": "2025-01-30T01:16:20.674068Z"
    },
    "papermill": {
     "duration": 0.047706,
     "end_time": "2025-01-30T01:16:20.677376",
     "exception": false,
     "start_time": "2025-01-30T01:16:20.629670",
     "status": "completed"
    },
    "tags": []
   },
   "outputs": [
    {
     "data": {
      "text/plain": [
       "Age\n",
       "28    130.000000\n",
       "29    130.000000\n",
       "30    170.000000\n",
       "31    110.000000\n",
       "32    110.600000\n",
       "33    110.000000\n",
       "34    124.142857\n",
       "35    126.272727\n",
       "36    123.666667\n",
       "37    127.090909\n",
       "38    120.000000\n",
       "39    127.333333\n",
       "40    128.307692\n",
       "41    120.458333\n",
       "42    129.166667\n",
       "43    126.666667\n",
       "44    125.947368\n",
       "45    129.222222\n",
       "46    126.375000\n",
       "47    132.526316\n",
       "48    128.000000\n",
       "49    129.047619\n",
       "50    135.000000\n",
       "51    127.382353\n",
       "52    133.638889\n",
       "53    131.090909\n",
       "54    133.568627\n",
       "55    131.317073\n",
       "56    133.894737\n",
       "57    136.368421\n",
       "58    132.000000\n",
       "59    141.085714\n",
       "60    135.483871\n",
       "61    137.483871\n",
       "62    134.885714\n",
       "63    136.833333\n",
       "64    137.590909\n",
       "65    141.761905\n",
       "66    139.461538\n",
       "67    133.533333\n",
       "68    140.300000\n",
       "69    139.461538\n",
       "70    145.142857\n",
       "71    131.200000\n",
       "72    145.750000\n",
       "73    160.000000\n",
       "74    141.857143\n",
       "75    155.333333\n",
       "76    122.000000\n",
       "77    124.500000\n",
       "Name: RestingBP, dtype: float64"
      ]
     },
     "execution_count": 65,
     "metadata": {},
     "output_type": "execute_result"
    }
   ],
   "source": [
    "df.groupby(\"Age\").RestingBP.mean()"
   ]
  },
  {
   "cell_type": "code",
   "execution_count": 66,
   "id": "108cfbcf",
   "metadata": {
    "execution": {
     "iopub.execute_input": "2025-01-30T01:16:20.746219Z",
     "iopub.status.busy": "2025-01-30T01:16:20.745859Z",
     "iopub.status.idle": "2025-01-30T01:16:20.967141Z",
     "shell.execute_reply": "2025-01-30T01:16:20.965854Z"
    },
    "papermill": {
     "duration": 0.258826,
     "end_time": "2025-01-30T01:16:20.969924",
     "exception": false,
     "start_time": "2025-01-30T01:16:20.711098",
     "status": "completed"
    },
    "tags": []
   },
   "outputs": [
    {
     "data": {
      "image/png": "[encoded data removed]",
      "text/plain": [
       "<Figure size 1200x600 with 1 Axes>"
      ]
     },
     "metadata": {},
     "output_type": "display_data"
    }
   ],
   "source": [
    "# Calculate the mean RestingBP for each Age\n",
    "mean_restingbp_by_age = df.groupby(\"Age\")['RestingBP'].mean()\n",
    "\n",
    "plt.figure(figsize=(12, 6))\n",
    "plt.plot(mean_restingbp_by_age.index, mean_restingbp_by_age.values, marker='*', linestyle='-', color='b')\n",
    "plt.title('Average RestingBP by Age', fontsize=16)\n",
    "plt.xlabel('Age', fontsize=14)\n",
    "plt.ylabel('Average RestingBP', fontsize=14)\n",
    "\n",
    "plt.show()"
   ]
  },
  {
   "cell_type": "code",
   "execution_count": 67,
   "id": "7b556db5",
   "metadata": {
    "execution": {
     "iopub.execute_input": "2025-01-30T01:16:21.044313Z",
     "iopub.status.busy": "2025-01-30T01:16:21.043237Z",
     "iopub.status.idle": "2025-01-30T01:16:21.053839Z",
     "shell.execute_reply": "2025-01-30T01:16:21.052781Z"
    },
    "papermill": {
     "duration": 0.049589,
     "end_time": "2025-01-30T01:16:21.056079",
     "exception": false,
     "start_time": "2025-01-30T01:16:21.006490",
     "status": "completed"
    },
    "tags": []
   },
   "outputs": [
    {
     "data": {
      "text/plain": [
       "Age\n",
       "28    132.000000\n",
       "29    236.666667\n",
       "30    237.000000\n",
       "31    244.500000\n",
       "32    241.200000\n",
       "33    272.000000\n",
       "34    163.285714\n",
       "35    197.454545\n",
       "36    190.333333\n",
       "37    233.727273\n",
       "38    146.500000\n",
       "39    239.200000\n",
       "40    229.384615\n",
       "41    216.500000\n",
       "42    212.222222\n",
       "43    202.333333\n",
       "44    249.578947\n",
       "45    229.333333\n",
       "46    217.166667\n",
       "47    193.421053\n",
       "48    228.193548\n",
       "49    213.476190\n",
       "50    199.200000\n",
       "51    181.058824\n",
       "52    200.277778\n",
       "53    181.030303\n",
       "54    231.980392\n",
       "55    218.463415\n",
       "56    174.789474\n",
       "57    202.315789\n",
       "58    217.285714\n",
       "59    175.714286\n",
       "60    173.064516\n",
       "61    162.580645\n",
       "62    166.742857\n",
       "63    157.600000\n",
       "64    205.318182\n",
       "65    207.571429\n",
       "66    179.461538\n",
       "67    254.866667\n",
       "68    158.500000\n",
       "69    156.230769\n",
       "70    171.714286\n",
       "71    231.600000\n",
       "72    137.000000\n",
       "73      0.000000\n",
       "74    184.285714\n",
       "75    246.000000\n",
       "76    155.000000\n",
       "77    237.500000\n",
       "Name: Cholesterol, dtype: float64"
      ]
     },
     "execution_count": 67,
     "metadata": {},
     "output_type": "execute_result"
    }
   ],
   "source": [
    "df.groupby(\"Age\").Cholesterol.mean()"
   ]
  },
  {
   "cell_type": "code",
   "execution_count": 68,
   "id": "6b9ea1ae",
   "metadata": {
    "execution": {
     "iopub.execute_input": "2025-01-30T01:16:21.131625Z",
     "iopub.status.busy": "2025-01-30T01:16:21.131188Z",
     "iopub.status.idle": "2025-01-30T01:16:21.141151Z",
     "shell.execute_reply": "2025-01-30T01:16:21.139826Z"
    },
    "papermill": {
     "duration": 0.051082,
     "end_time": "2025-01-30T01:16:21.143656",
     "exception": false,
     "start_time": "2025-01-30T01:16:21.092574",
     "status": "completed"
    },
    "tags": []
   },
   "outputs": [
    {
     "data": {
      "text/plain": [
       "FastingBS\n",
       "0    52.472934\n",
       "1    56.897196\n",
       "Name: Age, dtype: float64"
      ]
     },
     "execution_count": 68,
     "metadata": {},
     "output_type": "execute_result"
    }
   ],
   "source": [
    "df.groupby(\"FastingBS\").Age.mean()"
   ]
  },
  {
   "cell_type": "code",
   "execution_count": 69,
   "id": "8c3955b1",
   "metadata": {
    "execution": {
     "iopub.execute_input": "2025-01-30T01:16:21.217893Z",
     "iopub.status.busy": "2025-01-30T01:16:21.217489Z",
     "iopub.status.idle": "2025-01-30T01:16:21.243767Z",
     "shell.execute_reply": "2025-01-30T01:16:21.242388Z"
    },
    "papermill": {
     "duration": 0.065747,
     "end_time": "2025-01-30T01:16:21.246593",
     "exception": false,
     "start_time": "2025-01-30T01:16:21.180846",
     "status": "completed"
    },
    "tags": []
   },
   "outputs": [
    {
     "data": {
      "text/html": [
       "<div>\n",
       "<style scoped>\n",
       "    .dataframe tbody tr th:only-of-type {\n",
       "        vertical-align: middle;\n",
       "    }\n",
       "\n",
       "    .dataframe tbody tr th {\n",
       "        vertical-align: top;\n",
       "    }\n",
       "\n",
       "    .dataframe thead th {\n",
       "        text-align: right;\n",
       "    }\n",
       "</style>\n",
       "<table border=\"1\" class=\"dataframe\">\n",
       "  <thead>\n",
       "    <tr style=\"text-align: right;\">\n",
       "      <th>Age</th>\n",
       "      <th>28</th>\n",
       "      <th>29</th>\n",
       "      <th>30</th>\n",
       "      <th>31</th>\n",
       "      <th>32</th>\n",
       "      <th>33</th>\n",
       "      <th>34</th>\n",
       "      <th>35</th>\n",
       "      <th>36</th>\n",
       "      <th>37</th>\n",
       "      <th>...</th>\n",
       "      <th>68</th>\n",
       "      <th>69</th>\n",
       "      <th>70</th>\n",
       "      <th>71</th>\n",
       "      <th>72</th>\n",
       "      <th>73</th>\n",
       "      <th>74</th>\n",
       "      <th>75</th>\n",
       "      <th>76</th>\n",
       "      <th>77</th>\n",
       "    </tr>\n",
       "    <tr>\n",
       "      <th>RestingECG</th>\n",
       "      <th></th>\n",
       "      <th></th>\n",
       "      <th></th>\n",
       "      <th></th>\n",
       "      <th></th>\n",
       "      <th></th>\n",
       "      <th></th>\n",
       "      <th></th>\n",
       "      <th></th>\n",
       "      <th></th>\n",
       "      <th></th>\n",
       "      <th></th>\n",
       "      <th></th>\n",
       "      <th></th>\n",
       "      <th></th>\n",
       "      <th></th>\n",
       "      <th></th>\n",
       "      <th></th>\n",
       "      <th></th>\n",
       "      <th></th>\n",
       "      <th></th>\n",
       "    </tr>\n",
       "  </thead>\n",
       "  <tbody>\n",
       "    <tr>\n",
       "      <th>LVH</th>\n",
       "      <td>1</td>\n",
       "      <td>1</td>\n",
       "      <td>0</td>\n",
       "      <td>0</td>\n",
       "      <td>0</td>\n",
       "      <td>0</td>\n",
       "      <td>1</td>\n",
       "      <td>2</td>\n",
       "      <td>0</td>\n",
       "      <td>1</td>\n",
       "      <td>...</td>\n",
       "      <td>2</td>\n",
       "      <td>4</td>\n",
       "      <td>2</td>\n",
       "      <td>1</td>\n",
       "      <td>2</td>\n",
       "      <td>0</td>\n",
       "      <td>1</td>\n",
       "      <td>0</td>\n",
       "      <td>1</td>\n",
       "      <td>1</td>\n",
       "    </tr>\n",
       "    <tr>\n",
       "      <th>Normal</th>\n",
       "      <td>0</td>\n",
       "      <td>2</td>\n",
       "      <td>0</td>\n",
       "      <td>1</td>\n",
       "      <td>5</td>\n",
       "      <td>2</td>\n",
       "      <td>5</td>\n",
       "      <td>7</td>\n",
       "      <td>6</td>\n",
       "      <td>8</td>\n",
       "      <td>...</td>\n",
       "      <td>6</td>\n",
       "      <td>3</td>\n",
       "      <td>3</td>\n",
       "      <td>3</td>\n",
       "      <td>2</td>\n",
       "      <td>0</td>\n",
       "      <td>4</td>\n",
       "      <td>2</td>\n",
       "      <td>0</td>\n",
       "      <td>0</td>\n",
       "    </tr>\n",
       "    <tr>\n",
       "      <th>ST</th>\n",
       "      <td>0</td>\n",
       "      <td>0</td>\n",
       "      <td>1</td>\n",
       "      <td>1</td>\n",
       "      <td>0</td>\n",
       "      <td>0</td>\n",
       "      <td>1</td>\n",
       "      <td>2</td>\n",
       "      <td>0</td>\n",
       "      <td>2</td>\n",
       "      <td>...</td>\n",
       "      <td>2</td>\n",
       "      <td>6</td>\n",
       "      <td>2</td>\n",
       "      <td>1</td>\n",
       "      <td>0</td>\n",
       "      <td>1</td>\n",
       "      <td>2</td>\n",
       "      <td>1</td>\n",
       "      <td>1</td>\n",
       "      <td>1</td>\n",
       "    </tr>\n",
       "  </tbody>\n",
       "</table>\n",
       "<p>3 rows × 50 columns</p>\n",
       "</div>"
      ],
      "text/plain": [
       "Age         28  29  30  31  32  33  34  35  36  37  ...  68  69  70  71  72  \\\n",
       "RestingECG                                          ...                       \n",
       "LVH          1   1   0   0   0   0   1   2   0   1  ...   2   4   2   1   2   \n",
       "Normal       0   2   0   1   5   2   5   7   6   8  ...   6   3   3   3   2   \n",
       "ST           0   0   1   1   0   0   1   2   0   2  ...   2   6   2   1   0   \n",
       "\n",
       "Age         73  74  75  76  77  \n",
       "RestingECG                      \n",
       "LVH          0   1   0   1   1  \n",
       "Normal       0   4   2   0   0  \n",
       "ST           1   2   1   1   1  \n",
       "\n",
       "[3 rows x 50 columns]"
      ]
     },
     "execution_count": 69,
     "metadata": {},
     "output_type": "execute_result"
    }
   ],
   "source": [
    "pd.crosstab(df.RestingECG , df.Age)"
   ]
  },
  {
   "cell_type": "code",
   "execution_count": 70,
   "id": "9cbd20d8",
   "metadata": {
    "execution": {
     "iopub.execute_input": "2025-01-30T01:16:21.320022Z",
     "iopub.status.busy": "2025-01-30T01:16:21.319602Z",
     "iopub.status.idle": "2025-01-30T01:16:21.329216Z",
     "shell.execute_reply": "2025-01-30T01:16:21.328034Z"
    },
    "papermill": {
     "duration": 0.04901,
     "end_time": "2025-01-30T01:16:21.331534",
     "exception": false,
     "start_time": "2025-01-30T01:16:21.282524",
     "status": "completed"
    },
    "tags": []
   },
   "outputs": [
    {
     "data": {
      "text/plain": [
       "RestingECG\n",
       "LVH       56.218085\n",
       "Normal    51.727273\n",
       "ST        56.140449\n",
       "Name: Age, dtype: float64"
      ]
     },
     "execution_count": 70,
     "metadata": {},
     "output_type": "execute_result"
    }
   ],
   "source": [
    "df.groupby(\"RestingECG\").Age.mean()"
   ]
  },
  {
   "cell_type": "code",
   "execution_count": 71,
   "id": "86557a8f",
   "metadata": {
    "execution": {
     "iopub.execute_input": "2025-01-30T01:16:21.406107Z",
     "iopub.status.busy": "2025-01-30T01:16:21.405228Z",
     "iopub.status.idle": "2025-01-30T01:16:21.415606Z",
     "shell.execute_reply": "2025-01-30T01:16:21.414314Z"
    },
    "papermill": {
     "duration": 0.04957,
     "end_time": "2025-01-30T01:16:21.417793",
     "exception": false,
     "start_time": "2025-01-30T01:16:21.368223",
     "status": "completed"
    },
    "tags": []
   },
   "outputs": [
    {
     "data": {
      "text/plain": [
       "Age\n",
       "28    185.000000\n",
       "29    177.333333\n",
       "30    170.000000\n",
       "31    151.500000\n",
       "32    152.200000\n",
       "33    167.500000\n",
       "34    172.571429\n",
       "35    158.909091\n",
       "36    166.500000\n",
       "37    152.909091\n",
       "38    149.250000\n",
       "39    150.800000\n",
       "40    150.692308\n",
       "41    154.416667\n",
       "42    150.833333\n",
       "43    147.875000\n",
       "44    154.263158\n",
       "45    148.277778\n",
       "46    136.250000\n",
       "47    139.842105\n",
       "48    136.161290\n",
       "49    146.619048\n",
       "50    139.360000\n",
       "51    137.970588\n",
       "52    141.944444\n",
       "53    131.575758\n",
       "54    137.294118\n",
       "55    133.390244\n",
       "56    128.894737\n",
       "57    133.631579\n",
       "58    130.380952\n",
       "59    134.600000\n",
       "60    137.580645\n",
       "61    121.000000\n",
       "62    121.028571\n",
       "63    128.933333\n",
       "64    128.318182\n",
       "65    125.904762\n",
       "66    124.846154\n",
       "67    132.133333\n",
       "68    136.100000\n",
       "69    122.307692\n",
       "70    123.857143\n",
       "71    128.000000\n",
       "72    113.750000\n",
       "73    121.000000\n",
       "74    116.000000\n",
       "75    110.666667\n",
       "76    118.000000\n",
       "77    136.000000\n",
       "Name: MaxHR, dtype: float64"
      ]
     },
     "execution_count": 71,
     "metadata": {},
     "output_type": "execute_result"
    }
   ],
   "source": [
    "df.groupby(\"Age\").MaxHR.mean()"
   ]
  },
  {
   "cell_type": "code",
   "execution_count": 72,
   "id": "59d0bb41",
   "metadata": {
    "execution": {
     "iopub.execute_input": "2025-01-30T01:16:21.493118Z",
     "iopub.status.busy": "2025-01-30T01:16:21.492695Z",
     "iopub.status.idle": "2025-01-30T01:16:21.518522Z",
     "shell.execute_reply": "2025-01-30T01:16:21.517193Z"
    },
    "papermill": {
     "duration": 0.066097,
     "end_time": "2025-01-30T01:16:21.521065",
     "exception": false,
     "start_time": "2025-01-30T01:16:21.454968",
     "status": "completed"
    },
    "tags": []
   },
   "outputs": [
    {
     "data": {
      "text/html": [
       "<div>\n",
       "<style scoped>\n",
       "    .dataframe tbody tr th:only-of-type {\n",
       "        vertical-align: middle;\n",
       "    }\n",
       "\n",
       "    .dataframe tbody tr th {\n",
       "        vertical-align: top;\n",
       "    }\n",
       "\n",
       "    .dataframe thead th {\n",
       "        text-align: right;\n",
       "    }\n",
       "</style>\n",
       "<table border=\"1\" class=\"dataframe\">\n",
       "  <thead>\n",
       "    <tr style=\"text-align: right;\">\n",
       "      <th>Age</th>\n",
       "      <th>28</th>\n",
       "      <th>29</th>\n",
       "      <th>30</th>\n",
       "      <th>31</th>\n",
       "      <th>32</th>\n",
       "      <th>33</th>\n",
       "      <th>34</th>\n",
       "      <th>35</th>\n",
       "      <th>36</th>\n",
       "      <th>37</th>\n",
       "      <th>...</th>\n",
       "      <th>68</th>\n",
       "      <th>69</th>\n",
       "      <th>70</th>\n",
       "      <th>71</th>\n",
       "      <th>72</th>\n",
       "      <th>73</th>\n",
       "      <th>74</th>\n",
       "      <th>75</th>\n",
       "      <th>76</th>\n",
       "      <th>77</th>\n",
       "    </tr>\n",
       "    <tr>\n",
       "      <th>ExerciseAngina</th>\n",
       "      <th></th>\n",
       "      <th></th>\n",
       "      <th></th>\n",
       "      <th></th>\n",
       "      <th></th>\n",
       "      <th></th>\n",
       "      <th></th>\n",
       "      <th></th>\n",
       "      <th></th>\n",
       "      <th></th>\n",
       "      <th></th>\n",
       "      <th></th>\n",
       "      <th></th>\n",
       "      <th></th>\n",
       "      <th></th>\n",
       "      <th></th>\n",
       "      <th></th>\n",
       "      <th></th>\n",
       "      <th></th>\n",
       "      <th></th>\n",
       "      <th></th>\n",
       "    </tr>\n",
       "  </thead>\n",
       "  <tbody>\n",
       "    <tr>\n",
       "      <th>N</th>\n",
       "      <td>1</td>\n",
       "      <td>3</td>\n",
       "      <td>1</td>\n",
       "      <td>1</td>\n",
       "      <td>5</td>\n",
       "      <td>1</td>\n",
       "      <td>7</td>\n",
       "      <td>8</td>\n",
       "      <td>5</td>\n",
       "      <td>10</td>\n",
       "      <td>...</td>\n",
       "      <td>6</td>\n",
       "      <td>7</td>\n",
       "      <td>2</td>\n",
       "      <td>3</td>\n",
       "      <td>2</td>\n",
       "      <td>1</td>\n",
       "      <td>3</td>\n",
       "      <td>1</td>\n",
       "      <td>2</td>\n",
       "      <td>0</td>\n",
       "    </tr>\n",
       "    <tr>\n",
       "      <th>Y</th>\n",
       "      <td>0</td>\n",
       "      <td>0</td>\n",
       "      <td>0</td>\n",
       "      <td>1</td>\n",
       "      <td>0</td>\n",
       "      <td>1</td>\n",
       "      <td>0</td>\n",
       "      <td>3</td>\n",
       "      <td>1</td>\n",
       "      <td>1</td>\n",
       "      <td>...</td>\n",
       "      <td>4</td>\n",
       "      <td>6</td>\n",
       "      <td>5</td>\n",
       "      <td>2</td>\n",
       "      <td>2</td>\n",
       "      <td>0</td>\n",
       "      <td>4</td>\n",
       "      <td>2</td>\n",
       "      <td>0</td>\n",
       "      <td>2</td>\n",
       "    </tr>\n",
       "  </tbody>\n",
       "</table>\n",
       "<p>2 rows × 50 columns</p>\n",
       "</div>"
      ],
      "text/plain": [
       "Age             28  29  30  31  32  33  34  35  36  37  ...  68  69  70  71  \\\n",
       "ExerciseAngina                                          ...                   \n",
       "N                1   3   1   1   5   1   7   8   5  10  ...   6   7   2   3   \n",
       "Y                0   0   0   1   0   1   0   3   1   1  ...   4   6   5   2   \n",
       "\n",
       "Age             72  73  74  75  76  77  \n",
       "ExerciseAngina                          \n",
       "N                2   1   3   1   2   0  \n",
       "Y                2   0   4   2   0   2  \n",
       "\n",
       "[2 rows x 50 columns]"
      ]
     },
     "execution_count": 72,
     "metadata": {},
     "output_type": "execute_result"
    }
   ],
   "source": [
    "pd.crosstab(df.ExerciseAngina , df.Age)"
   ]
  },
  {
   "cell_type": "code",
   "execution_count": 73,
   "id": "732677d5",
   "metadata": {
    "execution": {
     "iopub.execute_input": "2025-01-30T01:16:21.599488Z",
     "iopub.status.busy": "2025-01-30T01:16:21.599065Z",
     "iopub.status.idle": "2025-01-30T01:16:21.618512Z",
     "shell.execute_reply": "2025-01-30T01:16:21.617398Z"
    },
    "papermill": {
     "duration": 0.06161,
     "end_time": "2025-01-30T01:16:21.621094",
     "exception": false,
     "start_time": "2025-01-30T01:16:21.559484",
     "status": "completed"
    },
    "tags": []
   },
   "outputs": [
    {
     "data": {
      "text/html": [
       "<div>\n",
       "<style scoped>\n",
       "    .dataframe tbody tr th:only-of-type {\n",
       "        vertical-align: middle;\n",
       "    }\n",
       "\n",
       "    .dataframe tbody tr th {\n",
       "        vertical-align: top;\n",
       "    }\n",
       "\n",
       "    .dataframe thead th {\n",
       "        text-align: right;\n",
       "    }\n",
       "</style>\n",
       "<table border=\"1\" class=\"dataframe\">\n",
       "  <thead>\n",
       "    <tr style=\"text-align: right;\">\n",
       "      <th>ChestPainType</th>\n",
       "      <th>ASY</th>\n",
       "      <th>ATA</th>\n",
       "      <th>NAP</th>\n",
       "      <th>TA</th>\n",
       "    </tr>\n",
       "    <tr>\n",
       "      <th>Sex</th>\n",
       "      <th></th>\n",
       "      <th></th>\n",
       "      <th></th>\n",
       "      <th></th>\n",
       "    </tr>\n",
       "  </thead>\n",
       "  <tbody>\n",
       "    <tr>\n",
       "      <th>F</th>\n",
       "      <td>70</td>\n",
       "      <td>60</td>\n",
       "      <td>53</td>\n",
       "      <td>10</td>\n",
       "    </tr>\n",
       "    <tr>\n",
       "      <th>M</th>\n",
       "      <td>424</td>\n",
       "      <td>113</td>\n",
       "      <td>150</td>\n",
       "      <td>36</td>\n",
       "    </tr>\n",
       "  </tbody>\n",
       "</table>\n",
       "</div>"
      ],
      "text/plain": [
       "ChestPainType  ASY  ATA  NAP  TA\n",
       "Sex                             \n",
       "F               70   60   53  10\n",
       "M              424  113  150  36"
      ]
     },
     "execution_count": 73,
     "metadata": {},
     "output_type": "execute_result"
    }
   ],
   "source": [
    "pd.crosstab(df.Sex , df.ChestPainType)"
   ]
  },
  {
   "cell_type": "code",
   "execution_count": 74,
   "id": "d2deff8a",
   "metadata": {
    "execution": {
     "iopub.execute_input": "2025-01-30T01:16:21.695140Z",
     "iopub.status.busy": "2025-01-30T01:16:21.694722Z",
     "iopub.status.idle": "2025-01-30T01:16:21.713222Z",
     "shell.execute_reply": "2025-01-30T01:16:21.711880Z"
    },
    "papermill": {
     "duration": 0.057971,
     "end_time": "2025-01-30T01:16:21.715449",
     "exception": false,
     "start_time": "2025-01-30T01:16:21.657478",
     "status": "completed"
    },
    "tags": []
   },
   "outputs": [
    {
     "data": {
      "text/html": [
       "<div>\n",
       "<style scoped>\n",
       "    .dataframe tbody tr th:only-of-type {\n",
       "        vertical-align: middle;\n",
       "    }\n",
       "\n",
       "    .dataframe tbody tr th {\n",
       "        vertical-align: top;\n",
       "    }\n",
       "\n",
       "    .dataframe thead th {\n",
       "        text-align: right;\n",
       "    }\n",
       "</style>\n",
       "<table border=\"1\" class=\"dataframe\">\n",
       "  <thead>\n",
       "    <tr style=\"text-align: right;\">\n",
       "      <th>ChestPainType</th>\n",
       "      <th>ASY</th>\n",
       "      <th>ATA</th>\n",
       "      <th>NAP</th>\n",
       "      <th>TA</th>\n",
       "    </tr>\n",
       "    <tr>\n",
       "      <th>Sex</th>\n",
       "      <th></th>\n",
       "      <th></th>\n",
       "      <th></th>\n",
       "      <th></th>\n",
       "    </tr>\n",
       "  </thead>\n",
       "  <tbody>\n",
       "    <tr>\n",
       "      <th>F</th>\n",
       "      <td>54.257143</td>\n",
       "      <td>49.583333</td>\n",
       "      <td>53.132075</td>\n",
       "      <td>54.2</td>\n",
       "    </tr>\n",
       "    <tr>\n",
       "      <th>M</th>\n",
       "      <td>55.073113</td>\n",
       "      <td>49.061947</td>\n",
       "      <td>53.373333</td>\n",
       "      <td>55.0</td>\n",
       "    </tr>\n",
       "  </tbody>\n",
       "</table>\n",
       "</div>"
      ],
      "text/plain": [
       "ChestPainType        ASY        ATA        NAP    TA\n",
       "Sex                                                 \n",
       "F              54.257143  49.583333  53.132075  54.2\n",
       "M              55.073113  49.061947  53.373333  55.0"
      ]
     },
     "execution_count": 74,
     "metadata": {},
     "output_type": "execute_result"
    }
   ],
   "source": [
    "pd.crosstab(df.Sex , df.ChestPainType , values = df.Age , aggfunc = \"mean\") "
   ]
  },
  {
   "cell_type": "code",
   "execution_count": 75,
   "id": "2b1d14b4",
   "metadata": {
    "execution": {
     "iopub.execute_input": "2025-01-30T01:16:21.843807Z",
     "iopub.status.busy": "2025-01-30T01:16:21.843404Z",
     "iopub.status.idle": "2025-01-30T01:16:21.870604Z",
     "shell.execute_reply": "2025-01-30T01:16:21.869345Z"
    },
    "papermill": {
     "duration": 0.121339,
     "end_time": "2025-01-30T01:16:21.872848",
     "exception": false,
     "start_time": "2025-01-30T01:16:21.751509",
     "status": "completed"
    },
    "tags": []
   },
   "outputs": [
    {
     "data": {
      "text/html": [
       "<div>\n",
       "<style scoped>\n",
       "    .dataframe tbody tr th:only-of-type {\n",
       "        vertical-align: middle;\n",
       "    }\n",
       "\n",
       "    .dataframe tbody tr th {\n",
       "        vertical-align: top;\n",
       "    }\n",
       "\n",
       "    .dataframe thead th {\n",
       "        text-align: right;\n",
       "    }\n",
       "</style>\n",
       "<table border=\"1\" class=\"dataframe\">\n",
       "  <thead>\n",
       "    <tr style=\"text-align: right;\">\n",
       "      <th>RestingBP</th>\n",
       "      <th>0</th>\n",
       "      <th>80</th>\n",
       "      <th>92</th>\n",
       "      <th>94</th>\n",
       "      <th>95</th>\n",
       "      <th>96</th>\n",
       "      <th>98</th>\n",
       "      <th>100</th>\n",
       "      <th>101</th>\n",
       "      <th>102</th>\n",
       "      <th>...</th>\n",
       "      <th>165</th>\n",
       "      <th>170</th>\n",
       "      <th>172</th>\n",
       "      <th>174</th>\n",
       "      <th>178</th>\n",
       "      <th>180</th>\n",
       "      <th>185</th>\n",
       "      <th>190</th>\n",
       "      <th>192</th>\n",
       "      <th>200</th>\n",
       "    </tr>\n",
       "    <tr>\n",
       "      <th>Sex</th>\n",
       "      <th></th>\n",
       "      <th></th>\n",
       "      <th></th>\n",
       "      <th></th>\n",
       "      <th></th>\n",
       "      <th></th>\n",
       "      <th></th>\n",
       "      <th></th>\n",
       "      <th></th>\n",
       "      <th></th>\n",
       "      <th></th>\n",
       "      <th></th>\n",
       "      <th></th>\n",
       "      <th></th>\n",
       "      <th></th>\n",
       "      <th></th>\n",
       "      <th></th>\n",
       "      <th></th>\n",
       "      <th></th>\n",
       "      <th></th>\n",
       "      <th></th>\n",
       "    </tr>\n",
       "  </thead>\n",
       "  <tbody>\n",
       "    <tr>\n",
       "      <th>F</th>\n",
       "      <td>0</td>\n",
       "      <td>0</td>\n",
       "      <td>0</td>\n",
       "      <td>1</td>\n",
       "      <td>1</td>\n",
       "      <td>0</td>\n",
       "      <td>0</td>\n",
       "      <td>4</td>\n",
       "      <td>0</td>\n",
       "      <td>2</td>\n",
       "      <td>...</td>\n",
       "      <td>0</td>\n",
       "      <td>2</td>\n",
       "      <td>0</td>\n",
       "      <td>1</td>\n",
       "      <td>1</td>\n",
       "      <td>5</td>\n",
       "      <td>0</td>\n",
       "      <td>0</td>\n",
       "      <td>0</td>\n",
       "      <td>2</td>\n",
       "    </tr>\n",
       "    <tr>\n",
       "      <th>M</th>\n",
       "      <td>1</td>\n",
       "      <td>1</td>\n",
       "      <td>1</td>\n",
       "      <td>1</td>\n",
       "      <td>5</td>\n",
       "      <td>1</td>\n",
       "      <td>1</td>\n",
       "      <td>11</td>\n",
       "      <td>1</td>\n",
       "      <td>1</td>\n",
       "      <td>...</td>\n",
       "      <td>2</td>\n",
       "      <td>12</td>\n",
       "      <td>2</td>\n",
       "      <td>0</td>\n",
       "      <td>2</td>\n",
       "      <td>7</td>\n",
       "      <td>1</td>\n",
       "      <td>2</td>\n",
       "      <td>1</td>\n",
       "      <td>2</td>\n",
       "    </tr>\n",
       "  </tbody>\n",
       "</table>\n",
       "<p>2 rows × 67 columns</p>\n",
       "</div>"
      ],
      "text/plain": [
       "RestingBP  0    80   92   94   95   96   98   100  101  102  ...  165  170  \\\n",
       "Sex                                                          ...             \n",
       "F            0    0    0    1    1    0    0    4    0    2  ...    0    2   \n",
       "M            1    1    1    1    5    1    1   11    1    1  ...    2   12   \n",
       "\n",
       "RestingBP  172  174  178  180  185  190  192  200  \n",
       "Sex                                                \n",
       "F            0    1    1    5    0    0    0    2  \n",
       "M            2    0    2    7    1    2    1    2  \n",
       "\n",
       "[2 rows x 67 columns]"
      ]
     },
     "execution_count": 75,
     "metadata": {},
     "output_type": "execute_result"
    }
   ],
   "source": [
    "pd.crosstab(df.Sex , df.RestingBP)"
   ]
  },
  {
   "cell_type": "code",
   "execution_count": 76,
   "id": "2755ae20",
   "metadata": {
    "execution": {
     "iopub.execute_input": "2025-01-30T01:16:21.947326Z",
     "iopub.status.busy": "2025-01-30T01:16:21.946904Z",
     "iopub.status.idle": "2025-01-30T01:16:21.957130Z",
     "shell.execute_reply": "2025-01-30T01:16:21.956050Z"
    },
    "papermill": {
     "duration": 0.049699,
     "end_time": "2025-01-30T01:16:21.959120",
     "exception": false,
     "start_time": "2025-01-30T01:16:21.909421",
     "status": "completed"
    },
    "tags": []
   },
   "outputs": [
    {
     "data": {
      "text/plain": [
       "Sex\n",
       "F    132.212435\n",
       "M    132.431535\n",
       "Name: RestingBP, dtype: float64"
      ]
     },
     "execution_count": 76,
     "metadata": {},
     "output_type": "execute_result"
    }
   ],
   "source": [
    "df.groupby(\"Sex\").RestingBP.mean()"
   ]
  },
  {
   "cell_type": "code",
   "execution_count": 77,
   "id": "1e13d8dc",
   "metadata": {
    "execution": {
     "iopub.execute_input": "2025-01-30T01:16:22.034358Z",
     "iopub.status.busy": "2025-01-30T01:16:22.033979Z",
     "iopub.status.idle": "2025-01-30T01:16:22.042637Z",
     "shell.execute_reply": "2025-01-30T01:16:22.041603Z"
    },
    "papermill": {
     "duration": 0.048542,
     "end_time": "2025-01-30T01:16:22.044685",
     "exception": false,
     "start_time": "2025-01-30T01:16:21.996143",
     "status": "completed"
    },
    "tags": []
   },
   "outputs": [
    {
     "data": {
      "text/plain": [
       "Sex\n",
       "F    241.196891\n",
       "M    188.031812\n",
       "Name: Cholesterol, dtype: float64"
      ]
     },
     "execution_count": 77,
     "metadata": {},
     "output_type": "execute_result"
    }
   ],
   "source": [
    "df.groupby(\"Sex\").Cholesterol.mean()"
   ]
  },
  {
   "cell_type": "code",
   "execution_count": 78,
   "id": "95260c25",
   "metadata": {
    "execution": {
     "iopub.execute_input": "2025-01-30T01:16:22.121167Z",
     "iopub.status.busy": "2025-01-30T01:16:22.120812Z",
     "iopub.status.idle": "2025-01-30T01:16:22.136850Z",
     "shell.execute_reply": "2025-01-30T01:16:22.135928Z"
    },
    "papermill": {
     "duration": 0.056521,
     "end_time": "2025-01-30T01:16:22.139014",
     "exception": false,
     "start_time": "2025-01-30T01:16:22.082493",
     "status": "completed"
    },
    "tags": []
   },
   "outputs": [
    {
     "data": {
      "text/html": [
       "<div>\n",
       "<style scoped>\n",
       "    .dataframe tbody tr th:only-of-type {\n",
       "        vertical-align: middle;\n",
       "    }\n",
       "\n",
       "    .dataframe tbody tr th {\n",
       "        vertical-align: top;\n",
       "    }\n",
       "\n",
       "    .dataframe thead th {\n",
       "        text-align: right;\n",
       "    }\n",
       "</style>\n",
       "<table border=\"1\" class=\"dataframe\">\n",
       "  <thead>\n",
       "    <tr style=\"text-align: right;\">\n",
       "      <th>FastingBS</th>\n",
       "      <th>0</th>\n",
       "      <th>1</th>\n",
       "    </tr>\n",
       "    <tr>\n",
       "      <th>Sex</th>\n",
       "      <th></th>\n",
       "      <th></th>\n",
       "    </tr>\n",
       "  </thead>\n",
       "  <tbody>\n",
       "    <tr>\n",
       "      <th>F</th>\n",
       "      <td>167</td>\n",
       "      <td>26</td>\n",
       "    </tr>\n",
       "    <tr>\n",
       "      <th>M</th>\n",
       "      <td>535</td>\n",
       "      <td>188</td>\n",
       "    </tr>\n",
       "  </tbody>\n",
       "</table>\n",
       "</div>"
      ],
      "text/plain": [
       "FastingBS    0    1\n",
       "Sex                \n",
       "F          167   26\n",
       "M          535  188"
      ]
     },
     "execution_count": 78,
     "metadata": {},
     "output_type": "execute_result"
    }
   ],
   "source": [
    "pd.crosstab(df.Sex , df.FastingBS)"
   ]
  },
  {
   "cell_type": "code",
   "execution_count": 79,
   "id": "5187d794",
   "metadata": {
    "execution": {
     "iopub.execute_input": "2025-01-30T01:16:22.214816Z",
     "iopub.status.busy": "2025-01-30T01:16:22.214245Z",
     "iopub.status.idle": "2025-01-30T01:16:22.485794Z",
     "shell.execute_reply": "2025-01-30T01:16:22.484615Z"
    },
    "papermill": {
     "duration": 0.312105,
     "end_time": "2025-01-30T01:16:22.488040",
     "exception": false,
     "start_time": "2025-01-30T01:16:22.175935",
     "status": "completed"
    },
    "tags": []
   },
   "outputs": [
    {
     "data": {
      "image/png": "[encoded data removed]",
      "text/plain": [
       "<Figure size 1000x600 with 1 Axes>"
      ]
     },
     "metadata": {},
     "output_type": "display_data"
    }
   ],
   "source": [
    "# Create a crosstab to get counts of Sex and FastingBS\n",
    "crosstab_data = pd.crosstab(df.Sex, df.FastingBS)\n",
    "\n",
    "crosstab_data.plot(kind='bar', figsize=(10, 6), color=['lightblue', 'lightcoral'])\n",
    "plt.title('Fasting Blood Sugar by Sex', fontsize=16)\n",
    "plt.xlabel('Sex', fontsize=14)\n",
    "plt.ylabel('Count', fontsize=14)\n",
    "plt.legend(title='Fasting Blood Sugar', labels=['Fasting BS = 0', 'Fasting BS = 1'])\n",
    "plt.xticks(rotation = 0)\n",
    "plt.show()\n"
   ]
  },
  {
   "cell_type": "code",
   "execution_count": 80,
   "id": "7ca255bd",
   "metadata": {
    "execution": {
     "iopub.execute_input": "2025-01-30T01:16:22.566470Z",
     "iopub.status.busy": "2025-01-30T01:16:22.566057Z",
     "iopub.status.idle": "2025-01-30T01:16:22.583223Z",
     "shell.execute_reply": "2025-01-30T01:16:22.582201Z"
    },
    "papermill": {
     "duration": 0.059923,
     "end_time": "2025-01-30T01:16:22.585323",
     "exception": false,
     "start_time": "2025-01-30T01:16:22.525400",
     "status": "completed"
    },
    "tags": []
   },
   "outputs": [
    {
     "data": {
      "text/html": [
       "<div>\n",
       "<style scoped>\n",
       "    .dataframe tbody tr th:only-of-type {\n",
       "        vertical-align: middle;\n",
       "    }\n",
       "\n",
       "    .dataframe tbody tr th {\n",
       "        vertical-align: top;\n",
       "    }\n",
       "\n",
       "    .dataframe thead th {\n",
       "        text-align: right;\n",
       "    }\n",
       "</style>\n",
       "<table border=\"1\" class=\"dataframe\">\n",
       "  <thead>\n",
       "    <tr style=\"text-align: right;\">\n",
       "      <th>RestingECG</th>\n",
       "      <th>LVH</th>\n",
       "      <th>Normal</th>\n",
       "      <th>ST</th>\n",
       "    </tr>\n",
       "    <tr>\n",
       "      <th>Sex</th>\n",
       "      <th></th>\n",
       "      <th></th>\n",
       "      <th></th>\n",
       "    </tr>\n",
       "  </thead>\n",
       "  <tbody>\n",
       "    <tr>\n",
       "      <th>F</th>\n",
       "      <td>47</td>\n",
       "      <td>118</td>\n",
       "      <td>28</td>\n",
       "    </tr>\n",
       "    <tr>\n",
       "      <th>M</th>\n",
       "      <td>141</td>\n",
       "      <td>432</td>\n",
       "      <td>150</td>\n",
       "    </tr>\n",
       "  </tbody>\n",
       "</table>\n",
       "</div>"
      ],
      "text/plain": [
       "RestingECG  LVH  Normal   ST\n",
       "Sex                         \n",
       "F            47     118   28\n",
       "M           141     432  150"
      ]
     },
     "execution_count": 80,
     "metadata": {},
     "output_type": "execute_result"
    }
   ],
   "source": [
    "pd.crosstab(df.Sex , df.RestingECG)"
   ]
  },
  {
   "cell_type": "code",
   "execution_count": 81,
   "id": "706659ae",
   "metadata": {
    "execution": {
     "iopub.execute_input": "2025-01-30T01:16:22.661910Z",
     "iopub.status.busy": "2025-01-30T01:16:22.661513Z",
     "iopub.status.idle": "2025-01-30T01:16:22.850949Z",
     "shell.execute_reply": "2025-01-30T01:16:22.849771Z"
    },
    "papermill": {
     "duration": 0.230415,
     "end_time": "2025-01-30T01:16:22.853205",
     "exception": false,
     "start_time": "2025-01-30T01:16:22.622790",
     "status": "completed"
    },
    "tags": []
   },
   "outputs": [
    {
     "data": {
      "image/png": "[encoded data removed]",
      "text/plain": [
       "<Figure size 800x600 with 1 Axes>"
      ]
     },
     "metadata": {},
     "output_type": "display_data"
    }
   ],
   "source": [
    "crosstab_data = pd.crosstab(df.Sex, df.RestingECG)\n",
    "x_labels = np.arange(len(crosstab_data.index))\n",
    "\n",
    "plt.figure(figsize=(8, 6))\n",
    "plt.bar(x_labels, crosstab_data['Normal'], width=0.2, color='skyblue', label='Normal')\n",
    "plt.bar(x_labels - 0.2, crosstab_data['LVH'], width=0.2, color='lightgreen', label='LVH')\n",
    "plt.bar(x_labels + 0.2, crosstab_data['ST'], width=0.2, color='salmon', label='ST')\n",
    "\n",
    "plt.title('Resting ECG by Sex', fontsize=16)\n",
    "plt.xlabel('Sex', fontsize=14)\n",
    "plt.ylabel('Count', fontsize=14)\n",
    "plt.xticks(x_labels, crosstab_data.index)\n",
    "plt.legend(title='Resting ECG')\n",
    "plt.show()\n"
   ]
  },
  {
   "cell_type": "code",
   "execution_count": 82,
   "id": "ab1850e4",
   "metadata": {
    "execution": {
     "iopub.execute_input": "2025-01-30T01:16:22.931697Z",
     "iopub.status.busy": "2025-01-30T01:16:22.931310Z",
     "iopub.status.idle": "2025-01-30T01:16:22.940950Z",
     "shell.execute_reply": "2025-01-30T01:16:22.939855Z"
    },
    "papermill": {
     "duration": 0.051476,
     "end_time": "2025-01-30T01:16:22.943169",
     "exception": false,
     "start_time": "2025-01-30T01:16:22.891693",
     "status": "completed"
    },
    "tags": []
   },
   "outputs": [
    {
     "data": {
      "text/plain": [
       "Sex\n",
       "F    146.139896\n",
       "M    134.526971\n",
       "Name: MaxHR, dtype: float64"
      ]
     },
     "execution_count": 82,
     "metadata": {},
     "output_type": "execute_result"
    }
   ],
   "source": [
    "df.groupby(\"Sex\").MaxHR.mean()"
   ]
  },
  {
   "cell_type": "code",
   "execution_count": 83,
   "id": "1f9f60be",
   "metadata": {
    "execution": {
     "iopub.execute_input": "2025-01-30T01:16:23.022590Z",
     "iopub.status.busy": "2025-01-30T01:16:23.021143Z",
     "iopub.status.idle": "2025-01-30T01:16:23.032472Z",
     "shell.execute_reply": "2025-01-30T01:16:23.031355Z"
    },
    "papermill": {
     "duration": 0.053299,
     "end_time": "2025-01-30T01:16:23.034701",
     "exception": false,
     "start_time": "2025-01-30T01:16:22.981402",
     "status": "completed"
    },
    "tags": []
   },
   "outputs": [
    {
     "data": {
      "text/plain": [
       "Sex\n",
       "F    192\n",
       "M    202\n",
       "Name: MaxHR, dtype: int64"
      ]
     },
     "execution_count": 83,
     "metadata": {},
     "output_type": "execute_result"
    }
   ],
   "source": [
    "df.groupby(\"Sex\").MaxHR.max()"
   ]
  },
  {
   "cell_type": "code",
   "execution_count": 84,
   "id": "7db64bc5",
   "metadata": {
    "execution": {
     "iopub.execute_input": "2025-01-30T01:16:23.114959Z",
     "iopub.status.busy": "2025-01-30T01:16:23.114570Z",
     "iopub.status.idle": "2025-01-30T01:16:23.132014Z",
     "shell.execute_reply": "2025-01-30T01:16:23.130831Z"
    },
    "papermill": {
     "duration": 0.060495,
     "end_time": "2025-01-30T01:16:23.134099",
     "exception": false,
     "start_time": "2025-01-30T01:16:23.073604",
     "status": "completed"
    },
    "tags": []
   },
   "outputs": [
    {
     "data": {
      "text/html": [
       "<div>\n",
       "<style scoped>\n",
       "    .dataframe tbody tr th:only-of-type {\n",
       "        vertical-align: middle;\n",
       "    }\n",
       "\n",
       "    .dataframe tbody tr th {\n",
       "        vertical-align: top;\n",
       "    }\n",
       "\n",
       "    .dataframe thead th {\n",
       "        text-align: right;\n",
       "    }\n",
       "</style>\n",
       "<table border=\"1\" class=\"dataframe\">\n",
       "  <thead>\n",
       "    <tr style=\"text-align: right;\">\n",
       "      <th>ExerciseAngina</th>\n",
       "      <th>N</th>\n",
       "      <th>Y</th>\n",
       "    </tr>\n",
       "    <tr>\n",
       "      <th>Sex</th>\n",
       "      <th></th>\n",
       "      <th></th>\n",
       "    </tr>\n",
       "  </thead>\n",
       "  <tbody>\n",
       "    <tr>\n",
       "      <th>F</th>\n",
       "      <td>150</td>\n",
       "      <td>43</td>\n",
       "    </tr>\n",
       "    <tr>\n",
       "      <th>M</th>\n",
       "      <td>396</td>\n",
       "      <td>327</td>\n",
       "    </tr>\n",
       "  </tbody>\n",
       "</table>\n",
       "</div>"
      ],
      "text/plain": [
       "ExerciseAngina    N    Y\n",
       "Sex                     \n",
       "F               150   43\n",
       "M               396  327"
      ]
     },
     "execution_count": 84,
     "metadata": {},
     "output_type": "execute_result"
    }
   ],
   "source": [
    "pd.crosstab(df.Sex , df.ExerciseAngina)"
   ]
  },
  {
   "cell_type": "code",
   "execution_count": 85,
   "id": "a8ed67f3",
   "metadata": {
    "execution": {
     "iopub.execute_input": "2025-01-30T01:16:23.212972Z",
     "iopub.status.busy": "2025-01-30T01:16:23.212580Z",
     "iopub.status.idle": "2025-01-30T01:16:23.224742Z",
     "shell.execute_reply": "2025-01-30T01:16:23.223693Z"
    },
    "papermill": {
     "duration": 0.05412,
     "end_time": "2025-01-30T01:16:23.227126",
     "exception": false,
     "start_time": "2025-01-30T01:16:23.173006",
     "status": "completed"
    },
    "tags": []
   },
   "outputs": [
    {
     "data": {
      "text/plain": [
       "Sex  RestingECG\n",
       "F    Normal        118\n",
       "     LVH            47\n",
       "     ST             28\n",
       "M    Normal        432\n",
       "     ST            150\n",
       "     LVH           141\n",
       "Name: count, dtype: int64"
      ]
     },
     "execution_count": 85,
     "metadata": {},
     "output_type": "execute_result"
    }
   ],
   "source": [
    "df.groupby(['Sex'])['RestingECG'].value_counts()"
   ]
  },
  {
   "cell_type": "code",
   "execution_count": 86,
   "id": "1f85e403",
   "metadata": {
    "execution": {
     "iopub.execute_input": "2025-01-30T01:16:23.307243Z",
     "iopub.status.busy": "2025-01-30T01:16:23.306860Z",
     "iopub.status.idle": "2025-01-30T01:16:23.319180Z",
     "shell.execute_reply": "2025-01-30T01:16:23.317812Z"
    },
    "papermill": {
     "duration": 0.054418,
     "end_time": "2025-01-30T01:16:23.321439",
     "exception": false,
     "start_time": "2025-01-30T01:16:23.267021",
     "status": "completed"
    },
    "tags": []
   },
   "outputs": [
    {
     "data": {
      "text/plain": [
       "Sex  ST_Slope\n",
       "F    Up          111\n",
       "     Flat         75\n",
       "     Down          7\n",
       "M    Flat        384\n",
       "     Up          283\n",
       "     Down         56\n",
       "Name: count, dtype: int64"
      ]
     },
     "execution_count": 86,
     "metadata": {},
     "output_type": "execute_result"
    }
   ],
   "source": [
    "df.groupby(['Sex'])['ST_Slope'].value_counts()"
   ]
  },
  {
   "cell_type": "code",
   "execution_count": 87,
   "id": "43866eeb",
   "metadata": {
    "execution": {
     "iopub.execute_input": "2025-01-30T01:16:23.403811Z",
     "iopub.status.busy": "2025-01-30T01:16:23.403445Z",
     "iopub.status.idle": "2025-01-30T01:16:23.413176Z",
     "shell.execute_reply": "2025-01-30T01:16:23.412053Z"
    },
    "papermill": {
     "duration": 0.052877,
     "end_time": "2025-01-30T01:16:23.415419",
     "exception": false,
     "start_time": "2025-01-30T01:16:23.362542",
     "status": "completed"
    },
    "tags": []
   },
   "outputs": [
    {
     "data": {
      "text/plain": [
       "ChestPainType\n",
       "ASY    133.212551\n",
       "ATA    130.624277\n",
       "NAP    130.960591\n",
       "TA     136.413043\n",
       "Name: RestingBP, dtype: float64"
      ]
     },
     "execution_count": 87,
     "metadata": {},
     "output_type": "execute_result"
    }
   ],
   "source": [
    "df.groupby(['ChestPainType'])['RestingBP'].mean()"
   ]
  },
  {
   "cell_type": "code",
   "execution_count": 88,
   "id": "c73a6b16",
   "metadata": {
    "execution": {
     "iopub.execute_input": "2025-01-30T01:16:23.494354Z",
     "iopub.status.busy": "2025-01-30T01:16:23.493931Z",
     "iopub.status.idle": "2025-01-30T01:16:23.504075Z",
     "shell.execute_reply": "2025-01-30T01:16:23.502968Z"
    },
    "papermill": {
     "duration": 0.052002,
     "end_time": "2025-01-30T01:16:23.506401",
     "exception": false,
     "start_time": "2025-01-30T01:16:23.454399",
     "status": "completed"
    },
    "tags": []
   },
   "outputs": [
    {
     "data": {
      "text/plain": [
       "ChestPainType\n",
       "ASY    187.400810\n",
       "ATA    233.046243\n",
       "NAP    197.438424\n",
       "TA     207.065217\n",
       "Name: Cholesterol, dtype: float64"
      ]
     },
     "execution_count": 88,
     "metadata": {},
     "output_type": "execute_result"
    }
   ],
   "source": [
    "df.groupby(['ChestPainType'])['Cholesterol'].mean()"
   ]
  },
  {
   "cell_type": "code",
   "execution_count": 89,
   "id": "b9258e35",
   "metadata": {
    "execution": {
     "iopub.execute_input": "2025-01-30T01:16:23.588350Z",
     "iopub.status.busy": "2025-01-30T01:16:23.587938Z",
     "iopub.status.idle": "2025-01-30T01:16:23.606194Z",
     "shell.execute_reply": "2025-01-30T01:16:23.605099Z"
    },
    "papermill": {
     "duration": 0.061371,
     "end_time": "2025-01-30T01:16:23.608522",
     "exception": false,
     "start_time": "2025-01-30T01:16:23.547151",
     "status": "completed"
    },
    "tags": []
   },
   "outputs": [
    {
     "data": {
      "text/html": [
       "<div>\n",
       "<style scoped>\n",
       "    .dataframe tbody tr th:only-of-type {\n",
       "        vertical-align: middle;\n",
       "    }\n",
       "\n",
       "    .dataframe tbody tr th {\n",
       "        vertical-align: top;\n",
       "    }\n",
       "\n",
       "    .dataframe thead th {\n",
       "        text-align: right;\n",
       "    }\n",
       "</style>\n",
       "<table border=\"1\" class=\"dataframe\">\n",
       "  <thead>\n",
       "    <tr style=\"text-align: right;\">\n",
       "      <th>ChestPainType</th>\n",
       "      <th>ASY</th>\n",
       "      <th>ATA</th>\n",
       "      <th>NAP</th>\n",
       "      <th>TA</th>\n",
       "    </tr>\n",
       "    <tr>\n",
       "      <th>FastingBS</th>\n",
       "      <th></th>\n",
       "      <th></th>\n",
       "      <th></th>\n",
       "      <th></th>\n",
       "    </tr>\n",
       "  </thead>\n",
       "  <tbody>\n",
       "    <tr>\n",
       "      <th>0</th>\n",
       "      <td>353</td>\n",
       "      <td>154</td>\n",
       "      <td>162</td>\n",
       "      <td>33</td>\n",
       "    </tr>\n",
       "    <tr>\n",
       "      <th>1</th>\n",
       "      <td>141</td>\n",
       "      <td>19</td>\n",
       "      <td>41</td>\n",
       "      <td>13</td>\n",
       "    </tr>\n",
       "  </tbody>\n",
       "</table>\n",
       "</div>"
      ],
      "text/plain": [
       "ChestPainType  ASY  ATA  NAP  TA\n",
       "FastingBS                       \n",
       "0              353  154  162  33\n",
       "1              141   19   41  13"
      ]
     },
     "execution_count": 89,
     "metadata": {},
     "output_type": "execute_result"
    }
   ],
   "source": [
    "pd.crosstab(df.FastingBS , df.ChestPainType ) "
   ]
  },
  {
   "cell_type": "code",
   "execution_count": 90,
   "id": "c18e8d6e",
   "metadata": {
    "execution": {
     "iopub.execute_input": "2025-01-30T01:16:23.689078Z",
     "iopub.status.busy": "2025-01-30T01:16:23.688679Z",
     "iopub.status.idle": "2025-01-30T01:16:23.707530Z",
     "shell.execute_reply": "2025-01-30T01:16:23.706367Z"
    },
    "papermill": {
     "duration": 0.062244,
     "end_time": "2025-01-30T01:16:23.710187",
     "exception": false,
     "start_time": "2025-01-30T01:16:23.647943",
     "status": "completed"
    },
    "tags": []
   },
   "outputs": [
    {
     "data": {
      "text/html": [
       "<div>\n",
       "<style scoped>\n",
       "    .dataframe tbody tr th:only-of-type {\n",
       "        vertical-align: middle;\n",
       "    }\n",
       "\n",
       "    .dataframe tbody tr th {\n",
       "        vertical-align: top;\n",
       "    }\n",
       "\n",
       "    .dataframe thead th {\n",
       "        text-align: right;\n",
       "    }\n",
       "</style>\n",
       "<table border=\"1\" class=\"dataframe\">\n",
       "  <thead>\n",
       "    <tr style=\"text-align: right;\">\n",
       "      <th>RestingECG</th>\n",
       "      <th>LVH</th>\n",
       "      <th>Normal</th>\n",
       "      <th>ST</th>\n",
       "    </tr>\n",
       "    <tr>\n",
       "      <th>ChestPainType</th>\n",
       "      <th></th>\n",
       "      <th></th>\n",
       "      <th></th>\n",
       "    </tr>\n",
       "  </thead>\n",
       "  <tbody>\n",
       "    <tr>\n",
       "      <th>ASY</th>\n",
       "      <td>102</td>\n",
       "      <td>282</td>\n",
       "      <td>110</td>\n",
       "    </tr>\n",
       "    <tr>\n",
       "      <th>ATA</th>\n",
       "      <td>23</td>\n",
       "      <td>123</td>\n",
       "      <td>27</td>\n",
       "    </tr>\n",
       "    <tr>\n",
       "      <th>NAP</th>\n",
       "      <td>47</td>\n",
       "      <td>123</td>\n",
       "      <td>33</td>\n",
       "    </tr>\n",
       "    <tr>\n",
       "      <th>TA</th>\n",
       "      <td>16</td>\n",
       "      <td>22</td>\n",
       "      <td>8</td>\n",
       "    </tr>\n",
       "  </tbody>\n",
       "</table>\n",
       "</div>"
      ],
      "text/plain": [
       "RestingECG     LVH  Normal   ST\n",
       "ChestPainType                  \n",
       "ASY            102     282  110\n",
       "ATA             23     123   27\n",
       "NAP             47     123   33\n",
       "TA              16      22    8"
      ]
     },
     "execution_count": 90,
     "metadata": {},
     "output_type": "execute_result"
    }
   ],
   "source": [
    "pd.crosstab(df.ChestPainType , df.RestingECG ) "
   ]
  },
  {
   "cell_type": "code",
   "execution_count": 91,
   "id": "81af4c2e",
   "metadata": {
    "execution": {
     "iopub.execute_input": "2025-01-30T01:16:23.791459Z",
     "iopub.status.busy": "2025-01-30T01:16:23.791055Z",
     "iopub.status.idle": "2025-01-30T01:16:23.800807Z",
     "shell.execute_reply": "2025-01-30T01:16:23.799736Z"
    },
    "papermill": {
     "duration": 0.05314,
     "end_time": "2025-01-30T01:16:23.803078",
     "exception": false,
     "start_time": "2025-01-30T01:16:23.749938",
     "status": "completed"
    },
    "tags": []
   },
   "outputs": [
    {
     "data": {
      "text/plain": [
       "ChestPainType\n",
       "ASY    128.748988\n",
       "ATA    150.208092\n",
       "NAP    143.236453\n",
       "TA     147.891304\n",
       "Name: MaxHR, dtype: float64"
      ]
     },
     "execution_count": 91,
     "metadata": {},
     "output_type": "execute_result"
    }
   ],
   "source": [
    "df.groupby(['ChestPainType'])['MaxHR'].mean()"
   ]
  },
  {
   "cell_type": "code",
   "execution_count": 92,
   "id": "c015220c",
   "metadata": {
    "execution": {
     "iopub.execute_input": "2025-01-30T01:16:23.883748Z",
     "iopub.status.busy": "2025-01-30T01:16:23.883254Z",
     "iopub.status.idle": "2025-01-30T01:16:23.901810Z",
     "shell.execute_reply": "2025-01-30T01:16:23.900597Z"
    },
    "papermill": {
     "duration": 0.061172,
     "end_time": "2025-01-30T01:16:23.904010",
     "exception": false,
     "start_time": "2025-01-30T01:16:23.842838",
     "status": "completed"
    },
    "tags": []
   },
   "outputs": [
    {
     "data": {
      "text/html": [
       "<div>\n",
       "<style scoped>\n",
       "    .dataframe tbody tr th:only-of-type {\n",
       "        vertical-align: middle;\n",
       "    }\n",
       "\n",
       "    .dataframe tbody tr th {\n",
       "        vertical-align: top;\n",
       "    }\n",
       "\n",
       "    .dataframe thead th {\n",
       "        text-align: right;\n",
       "    }\n",
       "</style>\n",
       "<table border=\"1\" class=\"dataframe\">\n",
       "  <thead>\n",
       "    <tr style=\"text-align: right;\">\n",
       "      <th>ExerciseAngina</th>\n",
       "      <th>N</th>\n",
       "      <th>Y</th>\n",
       "    </tr>\n",
       "    <tr>\n",
       "      <th>ChestPainType</th>\n",
       "      <th></th>\n",
       "      <th></th>\n",
       "    </tr>\n",
       "  </thead>\n",
       "  <tbody>\n",
       "    <tr>\n",
       "      <th>ASY</th>\n",
       "      <td>198</td>\n",
       "      <td>296</td>\n",
       "    </tr>\n",
       "    <tr>\n",
       "      <th>ATA</th>\n",
       "      <td>156</td>\n",
       "      <td>17</td>\n",
       "    </tr>\n",
       "    <tr>\n",
       "      <th>NAP</th>\n",
       "      <td>152</td>\n",
       "      <td>51</td>\n",
       "    </tr>\n",
       "    <tr>\n",
       "      <th>TA</th>\n",
       "      <td>40</td>\n",
       "      <td>6</td>\n",
       "    </tr>\n",
       "  </tbody>\n",
       "</table>\n",
       "</div>"
      ],
      "text/plain": [
       "ExerciseAngina    N    Y\n",
       "ChestPainType           \n",
       "ASY             198  296\n",
       "ATA             156   17\n",
       "NAP             152   51\n",
       "TA               40    6"
      ]
     },
     "execution_count": 92,
     "metadata": {},
     "output_type": "execute_result"
    }
   ],
   "source": [
    "pd.crosstab(df.ChestPainType , df.ExerciseAngina ) "
   ]
  },
  {
   "cell_type": "code",
   "execution_count": 93,
   "id": "8056733d",
   "metadata": {
    "execution": {
     "iopub.execute_input": "2025-01-30T01:16:23.985786Z",
     "iopub.status.busy": "2025-01-30T01:16:23.985387Z",
     "iopub.status.idle": "2025-01-30T01:16:24.261225Z",
     "shell.execute_reply": "2025-01-30T01:16:24.259974Z"
    },
    "papermill": {
     "duration": 0.319004,
     "end_time": "2025-01-30T01:16:24.263409",
     "exception": false,
     "start_time": "2025-01-30T01:16:23.944405",
     "status": "completed"
    },
    "tags": []
   },
   "outputs": [
    {
     "data": {
      "image/png": "[encoded data removed]",
      "text/plain": [
       "<Figure size 700x500 with 1 Axes>"
      ]
     },
     "metadata": {},
     "output_type": "display_data"
    }
   ],
   "source": [
    "crosstab_data = pd.crosstab(df.ChestPainType, df.ExerciseAngina)\n",
    "\n",
    "plt.figure(figsize=(7, 5))\n",
    "x_labels = np.arange(len(crosstab_data))\n",
    "\n",
    "plt.bar(x_labels - 0.3 / 2, crosstab_data['N'], width=0.3, color='lightblue', label='No Angina')\n",
    "plt.bar(x_labels + 0.3 / 2, crosstab_data['Y'], width=0.3, color='salmon', label='Yes Angina')\n",
    "plt.title('Exercise-Induced Angina by Chest Pain Type')\n",
    "plt.xlabel('Chest Pain Type')\n",
    "plt.ylabel('Count')\n",
    "plt.xticks(x_labels, crosstab_data.index)\n",
    "plt.legend(title='Exercise Angina')\n",
    "plt.show()"
   ]
  },
  {
   "cell_type": "code",
   "execution_count": 94,
   "id": "03d3549d",
   "metadata": {
    "execution": {
     "iopub.execute_input": "2025-01-30T01:16:24.351176Z",
     "iopub.status.busy": "2025-01-30T01:16:24.350270Z",
     "iopub.status.idle": "2025-01-30T01:16:24.368650Z",
     "shell.execute_reply": "2025-01-30T01:16:24.367392Z"
    },
    "papermill": {
     "duration": 0.064101,
     "end_time": "2025-01-30T01:16:24.370868",
     "exception": false,
     "start_time": "2025-01-30T01:16:24.306767",
     "status": "completed"
    },
    "tags": []
   },
   "outputs": [
    {
     "data": {
      "text/html": [
       "<div>\n",
       "<style scoped>\n",
       "    .dataframe tbody tr th:only-of-type {\n",
       "        vertical-align: middle;\n",
       "    }\n",
       "\n",
       "    .dataframe tbody tr th {\n",
       "        vertical-align: top;\n",
       "    }\n",
       "\n",
       "    .dataframe thead th {\n",
       "        text-align: right;\n",
       "    }\n",
       "</style>\n",
       "<table border=\"1\" class=\"dataframe\">\n",
       "  <thead>\n",
       "    <tr style=\"text-align: right;\">\n",
       "      <th></th>\n",
       "      <th>Age</th>\n",
       "      <th>Sex</th>\n",
       "      <th>ChestPainType</th>\n",
       "      <th>RestingBP</th>\n",
       "      <th>Cholesterol</th>\n",
       "      <th>FastingBS</th>\n",
       "      <th>RestingECG</th>\n",
       "      <th>MaxHR</th>\n",
       "      <th>ExerciseAngina</th>\n",
       "      <th>Oldpeak</th>\n",
       "      <th>ST_Slope</th>\n",
       "      <th>HeartDisease</th>\n",
       "    </tr>\n",
       "  </thead>\n",
       "  <tbody>\n",
       "    <tr>\n",
       "      <th>23</th>\n",
       "      <td>44</td>\n",
       "      <td>M</td>\n",
       "      <td>ATA</td>\n",
       "      <td>150</td>\n",
       "      <td>288</td>\n",
       "      <td>0</td>\n",
       "      <td>Normal</td>\n",
       "      <td>150</td>\n",
       "      <td>Y</td>\n",
       "      <td>3.0</td>\n",
       "      <td>Flat</td>\n",
       "      <td>1</td>\n",
       "    </tr>\n",
       "    <tr>\n",
       "      <th>30</th>\n",
       "      <td>53</td>\n",
       "      <td>M</td>\n",
       "      <td>NAP</td>\n",
       "      <td>145</td>\n",
       "      <td>518</td>\n",
       "      <td>0</td>\n",
       "      <td>Normal</td>\n",
       "      <td>130</td>\n",
       "      <td>N</td>\n",
       "      <td>0.0</td>\n",
       "      <td>Flat</td>\n",
       "      <td>1</td>\n",
       "    </tr>\n",
       "    <tr>\n",
       "      <th>39</th>\n",
       "      <td>48</td>\n",
       "      <td>F</td>\n",
       "      <td>ASY</td>\n",
       "      <td>150</td>\n",
       "      <td>227</td>\n",
       "      <td>0</td>\n",
       "      <td>Normal</td>\n",
       "      <td>130</td>\n",
       "      <td>Y</td>\n",
       "      <td>1.0</td>\n",
       "      <td>Flat</td>\n",
       "      <td>0</td>\n",
       "    </tr>\n",
       "    <tr>\n",
       "      <th>40</th>\n",
       "      <td>54</td>\n",
       "      <td>F</td>\n",
       "      <td>ATA</td>\n",
       "      <td>150</td>\n",
       "      <td>230</td>\n",
       "      <td>0</td>\n",
       "      <td>Normal</td>\n",
       "      <td>130</td>\n",
       "      <td>N</td>\n",
       "      <td>0.0</td>\n",
       "      <td>Up</td>\n",
       "      <td>0</td>\n",
       "    </tr>\n",
       "    <tr>\n",
       "      <th>42</th>\n",
       "      <td>35</td>\n",
       "      <td>M</td>\n",
       "      <td>ATA</td>\n",
       "      <td>150</td>\n",
       "      <td>264</td>\n",
       "      <td>0</td>\n",
       "      <td>Normal</td>\n",
       "      <td>168</td>\n",
       "      <td>N</td>\n",
       "      <td>0.0</td>\n",
       "      <td>Up</td>\n",
       "      <td>0</td>\n",
       "    </tr>\n",
       "    <tr>\n",
       "      <th>...</th>\n",
       "      <td>...</td>\n",
       "      <td>...</td>\n",
       "      <td>...</td>\n",
       "      <td>...</td>\n",
       "      <td>...</td>\n",
       "      <td>...</td>\n",
       "      <td>...</td>\n",
       "      <td>...</td>\n",
       "      <td>...</td>\n",
       "      <td>...</td>\n",
       "      <td>...</td>\n",
       "      <td>...</td>\n",
       "    </tr>\n",
       "    <tr>\n",
       "      <th>891</th>\n",
       "      <td>66</td>\n",
       "      <td>F</td>\n",
       "      <td>NAP</td>\n",
       "      <td>146</td>\n",
       "      <td>278</td>\n",
       "      <td>0</td>\n",
       "      <td>LVH</td>\n",
       "      <td>152</td>\n",
       "      <td>N</td>\n",
       "      <td>0.0</td>\n",
       "      <td>Flat</td>\n",
       "      <td>0</td>\n",
       "    </tr>\n",
       "    <tr>\n",
       "      <th>893</th>\n",
       "      <td>57</td>\n",
       "      <td>M</td>\n",
       "      <td>ATA</td>\n",
       "      <td>154</td>\n",
       "      <td>232</td>\n",
       "      <td>0</td>\n",
       "      <td>LVH</td>\n",
       "      <td>164</td>\n",
       "      <td>N</td>\n",
       "      <td>0.0</td>\n",
       "      <td>Up</td>\n",
       "      <td>1</td>\n",
       "    </tr>\n",
       "    <tr>\n",
       "      <th>899</th>\n",
       "      <td>61</td>\n",
       "      <td>M</td>\n",
       "      <td>ASY</td>\n",
       "      <td>148</td>\n",
       "      <td>203</td>\n",
       "      <td>0</td>\n",
       "      <td>Normal</td>\n",
       "      <td>161</td>\n",
       "      <td>N</td>\n",
       "      <td>0.0</td>\n",
       "      <td>Up</td>\n",
       "      <td>1</td>\n",
       "    </tr>\n",
       "    <tr>\n",
       "      <th>901</th>\n",
       "      <td>58</td>\n",
       "      <td>F</td>\n",
       "      <td>ASY</td>\n",
       "      <td>170</td>\n",
       "      <td>225</td>\n",
       "      <td>1</td>\n",
       "      <td>LVH</td>\n",
       "      <td>146</td>\n",
       "      <td>Y</td>\n",
       "      <td>2.8</td>\n",
       "      <td>Flat</td>\n",
       "      <td>1</td>\n",
       "    </tr>\n",
       "    <tr>\n",
       "      <th>905</th>\n",
       "      <td>67</td>\n",
       "      <td>M</td>\n",
       "      <td>NAP</td>\n",
       "      <td>152</td>\n",
       "      <td>212</td>\n",
       "      <td>0</td>\n",
       "      <td>LVH</td>\n",
       "      <td>150</td>\n",
       "      <td>N</td>\n",
       "      <td>0.8</td>\n",
       "      <td>Flat</td>\n",
       "      <td>1</td>\n",
       "    </tr>\n",
       "  </tbody>\n",
       "</table>\n",
       "<p>144 rows × 12 columns</p>\n",
       "</div>"
      ],
      "text/plain": [
       "     Age Sex ChestPainType  RestingBP  Cholesterol  FastingBS RestingECG  \\\n",
       "23    44   M           ATA        150          288          0     Normal   \n",
       "30    53   M           NAP        145          518          0     Normal   \n",
       "39    48   F           ASY        150          227          0     Normal   \n",
       "40    54   F           ATA        150          230          0     Normal   \n",
       "42    35   M           ATA        150          264          0     Normal   \n",
       "..   ...  ..           ...        ...          ...        ...        ...   \n",
       "891   66   F           NAP        146          278          0        LVH   \n",
       "893   57   M           ATA        154          232          0        LVH   \n",
       "899   61   M           ASY        148          203          0     Normal   \n",
       "901   58   F           ASY        170          225          1        LVH   \n",
       "905   67   M           NAP        152          212          0        LVH   \n",
       "\n",
       "     MaxHR ExerciseAngina  Oldpeak ST_Slope  HeartDisease  \n",
       "23     150              Y      3.0     Flat             1  \n",
       "30     130              N      0.0     Flat             1  \n",
       "39     130              Y      1.0     Flat             0  \n",
       "40     130              N      0.0       Up             0  \n",
       "42     168              N      0.0       Up             0  \n",
       "..     ...            ...      ...      ...           ...  \n",
       "891    152              N      0.0     Flat             0  \n",
       "893    164              N      0.0       Up             1  \n",
       "899    161              N      0.0       Up             1  \n",
       "901    146              Y      2.8     Flat             1  \n",
       "905    150              N      0.8     Flat             1  \n",
       "\n",
       "[144 rows x 12 columns]"
      ]
     },
     "execution_count": 94,
     "metadata": {},
     "output_type": "execute_result"
    }
   ],
   "source": [
    "df[(df['RestingBP'] > 140) & (df['Cholesterol'] > 200)]"
   ]
  },
  {
   "cell_type": "code",
   "execution_count": 95,
   "id": "a75950f9",
   "metadata": {
    "execution": {
     "iopub.execute_input": "2025-01-30T01:16:24.456172Z",
     "iopub.status.busy": "2025-01-30T01:16:24.455259Z",
     "iopub.status.idle": "2025-01-30T01:16:24.478790Z",
     "shell.execute_reply": "2025-01-30T01:16:24.477360Z"
    },
    "papermill": {
     "duration": 0.068133,
     "end_time": "2025-01-30T01:16:24.481358",
     "exception": false,
     "start_time": "2025-01-30T01:16:24.413225",
     "status": "completed"
    },
    "tags": []
   },
   "outputs": [
    {
     "data": {
      "text/html": [
       "<div>\n",
       "<style scoped>\n",
       "    .dataframe tbody tr th:only-of-type {\n",
       "        vertical-align: middle;\n",
       "    }\n",
       "\n",
       "    .dataframe tbody tr th {\n",
       "        vertical-align: top;\n",
       "    }\n",
       "\n",
       "    .dataframe thead th {\n",
       "        text-align: right;\n",
       "    }\n",
       "</style>\n",
       "<table border=\"1\" class=\"dataframe\">\n",
       "  <thead>\n",
       "    <tr style=\"text-align: right;\">\n",
       "      <th>RestingBP</th>\n",
       "      <th>0</th>\n",
       "      <th>80</th>\n",
       "      <th>92</th>\n",
       "      <th>94</th>\n",
       "      <th>95</th>\n",
       "      <th>96</th>\n",
       "      <th>98</th>\n",
       "      <th>100</th>\n",
       "      <th>101</th>\n",
       "      <th>102</th>\n",
       "      <th>...</th>\n",
       "      <th>165</th>\n",
       "      <th>170</th>\n",
       "      <th>172</th>\n",
       "      <th>174</th>\n",
       "      <th>178</th>\n",
       "      <th>180</th>\n",
       "      <th>185</th>\n",
       "      <th>190</th>\n",
       "      <th>192</th>\n",
       "      <th>200</th>\n",
       "    </tr>\n",
       "    <tr>\n",
       "      <th>FastingBS</th>\n",
       "      <th></th>\n",
       "      <th></th>\n",
       "      <th></th>\n",
       "      <th></th>\n",
       "      <th></th>\n",
       "      <th></th>\n",
       "      <th></th>\n",
       "      <th></th>\n",
       "      <th></th>\n",
       "      <th></th>\n",
       "      <th></th>\n",
       "      <th></th>\n",
       "      <th></th>\n",
       "      <th></th>\n",
       "      <th></th>\n",
       "      <th></th>\n",
       "      <th></th>\n",
       "      <th></th>\n",
       "      <th></th>\n",
       "      <th></th>\n",
       "      <th></th>\n",
       "    </tr>\n",
       "  </thead>\n",
       "  <tbody>\n",
       "    <tr>\n",
       "      <th>0</th>\n",
       "      <td>1</td>\n",
       "      <td>1</td>\n",
       "      <td>1</td>\n",
       "      <td>2</td>\n",
       "      <td>0</td>\n",
       "      <td>1</td>\n",
       "      <td>1</td>\n",
       "      <td>12</td>\n",
       "      <td>0</td>\n",
       "      <td>2</td>\n",
       "      <td>...</td>\n",
       "      <td>0</td>\n",
       "      <td>10</td>\n",
       "      <td>1</td>\n",
       "      <td>1</td>\n",
       "      <td>1</td>\n",
       "      <td>9</td>\n",
       "      <td>1</td>\n",
       "      <td>1</td>\n",
       "      <td>1</td>\n",
       "      <td>2</td>\n",
       "    </tr>\n",
       "    <tr>\n",
       "      <th>1</th>\n",
       "      <td>0</td>\n",
       "      <td>0</td>\n",
       "      <td>0</td>\n",
       "      <td>0</td>\n",
       "      <td>6</td>\n",
       "      <td>0</td>\n",
       "      <td>0</td>\n",
       "      <td>3</td>\n",
       "      <td>1</td>\n",
       "      <td>1</td>\n",
       "      <td>...</td>\n",
       "      <td>2</td>\n",
       "      <td>4</td>\n",
       "      <td>1</td>\n",
       "      <td>0</td>\n",
       "      <td>2</td>\n",
       "      <td>3</td>\n",
       "      <td>0</td>\n",
       "      <td>1</td>\n",
       "      <td>0</td>\n",
       "      <td>2</td>\n",
       "    </tr>\n",
       "  </tbody>\n",
       "</table>\n",
       "<p>2 rows × 67 columns</p>\n",
       "</div>"
      ],
      "text/plain": [
       "RestingBP  0    80   92   94   95   96   98   100  101  102  ...  165  170  \\\n",
       "FastingBS                                                    ...             \n",
       "0            1    1    1    2    0    1    1   12    0    2  ...    0   10   \n",
       "1            0    0    0    0    6    0    0    3    1    1  ...    2    4   \n",
       "\n",
       "RestingBP  172  174  178  180  185  190  192  200  \n",
       "FastingBS                                          \n",
       "0            1    1    1    9    1    1    1    2  \n",
       "1            1    0    2    3    0    1    0    2  \n",
       "\n",
       "[2 rows x 67 columns]"
      ]
     },
     "execution_count": 95,
     "metadata": {},
     "output_type": "execute_result"
    }
   ],
   "source": [
    "pd.crosstab(df.FastingBS , df.RestingBP ) "
   ]
  },
  {
   "cell_type": "code",
   "execution_count": 96,
   "id": "2a7f9555",
   "metadata": {
    "execution": {
     "iopub.execute_input": "2025-01-30T01:16:24.568435Z",
     "iopub.status.busy": "2025-01-30T01:16:24.567529Z",
     "iopub.status.idle": "2025-01-30T01:16:24.592322Z",
     "shell.execute_reply": "2025-01-30T01:16:24.591111Z"
    },
    "papermill": {
     "duration": 0.071048,
     "end_time": "2025-01-30T01:16:24.594697",
     "exception": false,
     "start_time": "2025-01-30T01:16:24.523649",
     "status": "completed"
    },
    "tags": []
   },
   "outputs": [
    {
     "data": {
      "text/html": [
       "<div>\n",
       "<style scoped>\n",
       "    .dataframe tbody tr th:only-of-type {\n",
       "        vertical-align: middle;\n",
       "    }\n",
       "\n",
       "    .dataframe tbody tr th {\n",
       "        vertical-align: top;\n",
       "    }\n",
       "\n",
       "    .dataframe thead th {\n",
       "        text-align: right;\n",
       "    }\n",
       "</style>\n",
       "<table border=\"1\" class=\"dataframe\">\n",
       "  <thead>\n",
       "    <tr style=\"text-align: right;\">\n",
       "      <th>RestingBP</th>\n",
       "      <th>0</th>\n",
       "      <th>80</th>\n",
       "      <th>92</th>\n",
       "      <th>94</th>\n",
       "      <th>95</th>\n",
       "      <th>96</th>\n",
       "      <th>98</th>\n",
       "      <th>100</th>\n",
       "      <th>101</th>\n",
       "      <th>102</th>\n",
       "      <th>...</th>\n",
       "      <th>165</th>\n",
       "      <th>170</th>\n",
       "      <th>172</th>\n",
       "      <th>174</th>\n",
       "      <th>178</th>\n",
       "      <th>180</th>\n",
       "      <th>185</th>\n",
       "      <th>190</th>\n",
       "      <th>192</th>\n",
       "      <th>200</th>\n",
       "    </tr>\n",
       "    <tr>\n",
       "      <th>RestingECG</th>\n",
       "      <th></th>\n",
       "      <th></th>\n",
       "      <th></th>\n",
       "      <th></th>\n",
       "      <th></th>\n",
       "      <th></th>\n",
       "      <th></th>\n",
       "      <th></th>\n",
       "      <th></th>\n",
       "      <th></th>\n",
       "      <th></th>\n",
       "      <th></th>\n",
       "      <th></th>\n",
       "      <th></th>\n",
       "      <th></th>\n",
       "      <th></th>\n",
       "      <th></th>\n",
       "      <th></th>\n",
       "      <th></th>\n",
       "      <th></th>\n",
       "      <th></th>\n",
       "    </tr>\n",
       "  </thead>\n",
       "  <tbody>\n",
       "    <tr>\n",
       "      <th>LVH</th>\n",
       "      <td>0</td>\n",
       "      <td>0</td>\n",
       "      <td>0</td>\n",
       "      <td>0</td>\n",
       "      <td>0</td>\n",
       "      <td>0</td>\n",
       "      <td>0</td>\n",
       "      <td>2</td>\n",
       "      <td>0</td>\n",
       "      <td>1</td>\n",
       "      <td>...</td>\n",
       "      <td>1</td>\n",
       "      <td>5</td>\n",
       "      <td>0</td>\n",
       "      <td>0</td>\n",
       "      <td>2</td>\n",
       "      <td>1</td>\n",
       "      <td>0</td>\n",
       "      <td>1</td>\n",
       "      <td>1</td>\n",
       "      <td>1</td>\n",
       "    </tr>\n",
       "    <tr>\n",
       "      <th>Normal</th>\n",
       "      <td>1</td>\n",
       "      <td>1</td>\n",
       "      <td>1</td>\n",
       "      <td>2</td>\n",
       "      <td>5</td>\n",
       "      <td>0</td>\n",
       "      <td>1</td>\n",
       "      <td>10</td>\n",
       "      <td>1</td>\n",
       "      <td>1</td>\n",
       "      <td>...</td>\n",
       "      <td>1</td>\n",
       "      <td>3</td>\n",
       "      <td>2</td>\n",
       "      <td>1</td>\n",
       "      <td>1</td>\n",
       "      <td>5</td>\n",
       "      <td>1</td>\n",
       "      <td>1</td>\n",
       "      <td>0</td>\n",
       "      <td>2</td>\n",
       "    </tr>\n",
       "    <tr>\n",
       "      <th>ST</th>\n",
       "      <td>0</td>\n",
       "      <td>0</td>\n",
       "      <td>0</td>\n",
       "      <td>0</td>\n",
       "      <td>1</td>\n",
       "      <td>1</td>\n",
       "      <td>0</td>\n",
       "      <td>3</td>\n",
       "      <td>0</td>\n",
       "      <td>1</td>\n",
       "      <td>...</td>\n",
       "      <td>0</td>\n",
       "      <td>6</td>\n",
       "      <td>0</td>\n",
       "      <td>0</td>\n",
       "      <td>0</td>\n",
       "      <td>6</td>\n",
       "      <td>0</td>\n",
       "      <td>0</td>\n",
       "      <td>0</td>\n",
       "      <td>1</td>\n",
       "    </tr>\n",
       "  </tbody>\n",
       "</table>\n",
       "<p>3 rows × 67 columns</p>\n",
       "</div>"
      ],
      "text/plain": [
       "RestingBP   0    80   92   94   95   96   98   100  101  102  ...  165  170  \\\n",
       "RestingECG                                                    ...             \n",
       "LVH           0    0    0    0    0    0    0    2    0    1  ...    1    5   \n",
       "Normal        1    1    1    2    5    0    1   10    1    1  ...    1    3   \n",
       "ST            0    0    0    0    1    1    0    3    0    1  ...    0    6   \n",
       "\n",
       "RestingBP   172  174  178  180  185  190  192  200  \n",
       "RestingECG                                          \n",
       "LVH           0    0    2    1    0    1    1    1  \n",
       "Normal        2    1    1    5    1    1    0    2  \n",
       "ST            0    0    0    6    0    0    0    1  \n",
       "\n",
       "[3 rows x 67 columns]"
      ]
     },
     "execution_count": 96,
     "metadata": {},
     "output_type": "execute_result"
    }
   ],
   "source": [
    "pd.crosstab(df.RestingECG , df.RestingBP ) "
   ]
  },
  {
   "cell_type": "code",
   "execution_count": 97,
   "id": "8caed96a",
   "metadata": {
    "execution": {
     "iopub.execute_input": "2025-01-30T01:16:24.681054Z",
     "iopub.status.busy": "2025-01-30T01:16:24.680656Z",
     "iopub.status.idle": "2025-01-30T01:16:24.698322Z",
     "shell.execute_reply": "2025-01-30T01:16:24.697253Z"
    },
    "papermill": {
     "duration": 0.063416,
     "end_time": "2025-01-30T01:16:24.700359",
     "exception": false,
     "start_time": "2025-01-30T01:16:24.636943",
     "status": "completed"
    },
    "tags": []
   },
   "outputs": [
    {
     "data": {
      "text/html": [
       "<div>\n",
       "<style scoped>\n",
       "    .dataframe tbody tr th:only-of-type {\n",
       "        vertical-align: middle;\n",
       "    }\n",
       "\n",
       "    .dataframe tbody tr th {\n",
       "        vertical-align: top;\n",
       "    }\n",
       "\n",
       "    .dataframe thead th {\n",
       "        text-align: right;\n",
       "    }\n",
       "</style>\n",
       "<table border=\"1\" class=\"dataframe\">\n",
       "  <thead>\n",
       "    <tr style=\"text-align: right;\">\n",
       "      <th></th>\n",
       "      <th>Age</th>\n",
       "      <th>Sex</th>\n",
       "      <th>ChestPainType</th>\n",
       "      <th>RestingBP</th>\n",
       "      <th>Cholesterol</th>\n",
       "      <th>FastingBS</th>\n",
       "      <th>RestingECG</th>\n",
       "      <th>MaxHR</th>\n",
       "      <th>ExerciseAngina</th>\n",
       "      <th>Oldpeak</th>\n",
       "      <th>ST_Slope</th>\n",
       "      <th>HeartDisease</th>\n",
       "    </tr>\n",
       "  </thead>\n",
       "  <tbody>\n",
       "    <tr>\n",
       "      <th>1</th>\n",
       "      <td>49</td>\n",
       "      <td>F</td>\n",
       "      <td>NAP</td>\n",
       "      <td>160</td>\n",
       "      <td>180</td>\n",
       "      <td>0</td>\n",
       "      <td>Normal</td>\n",
       "      <td>156</td>\n",
       "      <td>N</td>\n",
       "      <td>1.0</td>\n",
       "      <td>Flat</td>\n",
       "      <td>1</td>\n",
       "    </tr>\n",
       "    <tr>\n",
       "      <th>4</th>\n",
       "      <td>54</td>\n",
       "      <td>M</td>\n",
       "      <td>NAP</td>\n",
       "      <td>150</td>\n",
       "      <td>195</td>\n",
       "      <td>0</td>\n",
       "      <td>Normal</td>\n",
       "      <td>122</td>\n",
       "      <td>N</td>\n",
       "      <td>0.0</td>\n",
       "      <td>Up</td>\n",
       "      <td>0</td>\n",
       "    </tr>\n",
       "    <tr>\n",
       "      <th>23</th>\n",
       "      <td>44</td>\n",
       "      <td>M</td>\n",
       "      <td>ATA</td>\n",
       "      <td>150</td>\n",
       "      <td>288</td>\n",
       "      <td>0</td>\n",
       "      <td>Normal</td>\n",
       "      <td>150</td>\n",
       "      <td>Y</td>\n",
       "      <td>3.0</td>\n",
       "      <td>Flat</td>\n",
       "      <td>1</td>\n",
       "    </tr>\n",
       "    <tr>\n",
       "      <th>30</th>\n",
       "      <td>53</td>\n",
       "      <td>M</td>\n",
       "      <td>NAP</td>\n",
       "      <td>145</td>\n",
       "      <td>518</td>\n",
       "      <td>0</td>\n",
       "      <td>Normal</td>\n",
       "      <td>130</td>\n",
       "      <td>N</td>\n",
       "      <td>0.0</td>\n",
       "      <td>Flat</td>\n",
       "      <td>1</td>\n",
       "    </tr>\n",
       "    <tr>\n",
       "      <th>34</th>\n",
       "      <td>43</td>\n",
       "      <td>F</td>\n",
       "      <td>ATA</td>\n",
       "      <td>150</td>\n",
       "      <td>186</td>\n",
       "      <td>0</td>\n",
       "      <td>Normal</td>\n",
       "      <td>154</td>\n",
       "      <td>N</td>\n",
       "      <td>0.0</td>\n",
       "      <td>Up</td>\n",
       "      <td>0</td>\n",
       "    </tr>\n",
       "    <tr>\n",
       "      <th>...</th>\n",
       "      <td>...</td>\n",
       "      <td>...</td>\n",
       "      <td>...</td>\n",
       "      <td>...</td>\n",
       "      <td>...</td>\n",
       "      <td>...</td>\n",
       "      <td>...</td>\n",
       "      <td>...</td>\n",
       "      <td>...</td>\n",
       "      <td>...</td>\n",
       "      <td>...</td>\n",
       "      <td>...</td>\n",
       "    </tr>\n",
       "    <tr>\n",
       "      <th>893</th>\n",
       "      <td>57</td>\n",
       "      <td>M</td>\n",
       "      <td>ATA</td>\n",
       "      <td>154</td>\n",
       "      <td>232</td>\n",
       "      <td>0</td>\n",
       "      <td>LVH</td>\n",
       "      <td>164</td>\n",
       "      <td>N</td>\n",
       "      <td>0.0</td>\n",
       "      <td>Up</td>\n",
       "      <td>1</td>\n",
       "    </tr>\n",
       "    <tr>\n",
       "      <th>899</th>\n",
       "      <td>61</td>\n",
       "      <td>M</td>\n",
       "      <td>ASY</td>\n",
       "      <td>148</td>\n",
       "      <td>203</td>\n",
       "      <td>0</td>\n",
       "      <td>Normal</td>\n",
       "      <td>161</td>\n",
       "      <td>N</td>\n",
       "      <td>0.0</td>\n",
       "      <td>Up</td>\n",
       "      <td>1</td>\n",
       "    </tr>\n",
       "    <tr>\n",
       "      <th>901</th>\n",
       "      <td>58</td>\n",
       "      <td>F</td>\n",
       "      <td>ASY</td>\n",
       "      <td>170</td>\n",
       "      <td>225</td>\n",
       "      <td>1</td>\n",
       "      <td>LVH</td>\n",
       "      <td>146</td>\n",
       "      <td>Y</td>\n",
       "      <td>2.8</td>\n",
       "      <td>Flat</td>\n",
       "      <td>1</td>\n",
       "    </tr>\n",
       "    <tr>\n",
       "      <th>905</th>\n",
       "      <td>67</td>\n",
       "      <td>M</td>\n",
       "      <td>NAP</td>\n",
       "      <td>152</td>\n",
       "      <td>212</td>\n",
       "      <td>0</td>\n",
       "      <td>LVH</td>\n",
       "      <td>150</td>\n",
       "      <td>N</td>\n",
       "      <td>0.8</td>\n",
       "      <td>Flat</td>\n",
       "      <td>1</td>\n",
       "    </tr>\n",
       "    <tr>\n",
       "      <th>914</th>\n",
       "      <td>68</td>\n",
       "      <td>M</td>\n",
       "      <td>ASY</td>\n",
       "      <td>144</td>\n",
       "      <td>193</td>\n",
       "      <td>1</td>\n",
       "      <td>Normal</td>\n",
       "      <td>141</td>\n",
       "      <td>N</td>\n",
       "      <td>3.4</td>\n",
       "      <td>Flat</td>\n",
       "      <td>1</td>\n",
       "    </tr>\n",
       "  </tbody>\n",
       "</table>\n",
       "<p>136 rows × 12 columns</p>\n",
       "</div>"
      ],
      "text/plain": [
       "     Age Sex ChestPainType  RestingBP  Cholesterol  FastingBS RestingECG  \\\n",
       "1     49   F           NAP        160          180          0     Normal   \n",
       "4     54   M           NAP        150          195          0     Normal   \n",
       "23    44   M           ATA        150          288          0     Normal   \n",
       "30    53   M           NAP        145          518          0     Normal   \n",
       "34    43   F           ATA        150          186          0     Normal   \n",
       "..   ...  ..           ...        ...          ...        ...        ...   \n",
       "893   57   M           ATA        154          232          0        LVH   \n",
       "899   61   M           ASY        148          203          0     Normal   \n",
       "901   58   F           ASY        170          225          1        LVH   \n",
       "905   67   M           NAP        152          212          0        LVH   \n",
       "914   68   M           ASY        144          193          1     Normal   \n",
       "\n",
       "     MaxHR ExerciseAngina  Oldpeak ST_Slope  HeartDisease  \n",
       "1      156              N      1.0     Flat             1  \n",
       "4      122              N      0.0       Up             0  \n",
       "23     150              Y      3.0     Flat             1  \n",
       "30     130              N      0.0     Flat             1  \n",
       "34     154              N      0.0       Up             0  \n",
       "..     ...            ...      ...      ...           ...  \n",
       "893    164              N      0.0       Up             1  \n",
       "899    161              N      0.0       Up             1  \n",
       "901    146              Y      2.8     Flat             1  \n",
       "905    150              N      0.8     Flat             1  \n",
       "914    141              N      3.4     Flat             1  \n",
       "\n",
       "[136 rows x 12 columns]"
      ]
     },
     "execution_count": 97,
     "metadata": {},
     "output_type": "execute_result"
    }
   ],
   "source": [
    "df[(df['RestingBP'] > 140) & (df['MaxHR'] > 120)]"
   ]
  },
  {
   "cell_type": "code",
   "execution_count": 98,
   "id": "41f00225",
   "metadata": {
    "execution": {
     "iopub.execute_input": "2025-01-30T01:16:24.785788Z",
     "iopub.status.busy": "2025-01-30T01:16:24.785424Z",
     "iopub.status.idle": "2025-01-30T01:16:24.804868Z",
     "shell.execute_reply": "2025-01-30T01:16:24.803682Z"
    },
    "papermill": {
     "duration": 0.064244,
     "end_time": "2025-01-30T01:16:24.807106",
     "exception": false,
     "start_time": "2025-01-30T01:16:24.742862",
     "status": "completed"
    },
    "tags": []
   },
   "outputs": [
    {
     "data": {
      "text/html": [
       "<div>\n",
       "<style scoped>\n",
       "    .dataframe tbody tr th:only-of-type {\n",
       "        vertical-align: middle;\n",
       "    }\n",
       "\n",
       "    .dataframe tbody tr th {\n",
       "        vertical-align: top;\n",
       "    }\n",
       "\n",
       "    .dataframe thead th {\n",
       "        text-align: right;\n",
       "    }\n",
       "</style>\n",
       "<table border=\"1\" class=\"dataframe\">\n",
       "  <thead>\n",
       "    <tr style=\"text-align: right;\">\n",
       "      <th>ExerciseAngina</th>\n",
       "      <th>N</th>\n",
       "      <th>Y</th>\n",
       "    </tr>\n",
       "    <tr>\n",
       "      <th>RestingBP</th>\n",
       "      <th></th>\n",
       "      <th></th>\n",
       "    </tr>\n",
       "  </thead>\n",
       "  <tbody>\n",
       "    <tr>\n",
       "      <th>0</th>\n",
       "      <td>1</td>\n",
       "      <td>0</td>\n",
       "    </tr>\n",
       "    <tr>\n",
       "      <th>80</th>\n",
       "      <td>0</td>\n",
       "      <td>1</td>\n",
       "    </tr>\n",
       "    <tr>\n",
       "      <th>92</th>\n",
       "      <td>0</td>\n",
       "      <td>1</td>\n",
       "    </tr>\n",
       "    <tr>\n",
       "      <th>94</th>\n",
       "      <td>1</td>\n",
       "      <td>1</td>\n",
       "    </tr>\n",
       "    <tr>\n",
       "      <th>95</th>\n",
       "      <td>5</td>\n",
       "      <td>1</td>\n",
       "    </tr>\n",
       "    <tr>\n",
       "      <th>...</th>\n",
       "      <td>...</td>\n",
       "      <td>...</td>\n",
       "    </tr>\n",
       "    <tr>\n",
       "      <th>180</th>\n",
       "      <td>5</td>\n",
       "      <td>7</td>\n",
       "    </tr>\n",
       "    <tr>\n",
       "      <th>185</th>\n",
       "      <td>0</td>\n",
       "      <td>1</td>\n",
       "    </tr>\n",
       "    <tr>\n",
       "      <th>190</th>\n",
       "      <td>1</td>\n",
       "      <td>1</td>\n",
       "    </tr>\n",
       "    <tr>\n",
       "      <th>192</th>\n",
       "      <td>1</td>\n",
       "      <td>0</td>\n",
       "    </tr>\n",
       "    <tr>\n",
       "      <th>200</th>\n",
       "      <td>1</td>\n",
       "      <td>3</td>\n",
       "    </tr>\n",
       "  </tbody>\n",
       "</table>\n",
       "<p>67 rows × 2 columns</p>\n",
       "</div>"
      ],
      "text/plain": [
       "ExerciseAngina  N  Y\n",
       "RestingBP           \n",
       "0               1  0\n",
       "80              0  1\n",
       "92              0  1\n",
       "94              1  1\n",
       "95              5  1\n",
       "...            .. ..\n",
       "180             5  7\n",
       "185             0  1\n",
       "190             1  1\n",
       "192             1  0\n",
       "200             1  3\n",
       "\n",
       "[67 rows x 2 columns]"
      ]
     },
     "execution_count": 98,
     "metadata": {},
     "output_type": "execute_result"
    }
   ],
   "source": [
    "pd.crosstab(df.RestingBP , df.ExerciseAngina ) "
   ]
  },
  {
   "cell_type": "code",
   "execution_count": 99,
   "id": "1ec5b143",
   "metadata": {
    "execution": {
     "iopub.execute_input": "2025-01-30T01:16:24.893937Z",
     "iopub.status.busy": "2025-01-30T01:16:24.892875Z",
     "iopub.status.idle": "2025-01-30T01:16:25.210603Z",
     "shell.execute_reply": "2025-01-30T01:16:25.209351Z"
    },
    "papermill": {
     "duration": 0.363663,
     "end_time": "2025-01-30T01:16:25.212890",
     "exception": false,
     "start_time": "2025-01-30T01:16:24.849227",
     "status": "completed"
    },
    "tags": []
   },
   "outputs": [
    {
     "data": {
      "image/png": "[encoded data removed]",
      "text/plain": [
       "<Figure size 800x500 with 1 Axes>"
      ]
     },
     "metadata": {},
     "output_type": "display_data"
    }
   ],
   "source": [
    "crosstab_data = pd.crosstab(df.RestingBP, df.ExerciseAngina)\n",
    "\n",
    "plt.figure(figsize=(8, 5))\n",
    "plt.scatter(crosstab_data.index, crosstab_data['N'], marker='o', color='blue', label='No Angina')\n",
    "plt.scatter(crosstab_data.index, crosstab_data['Y'], marker='s', color='red', label='Yes Angina')\n",
    "\n",
    "plt.title('Exercise Angina by Resting Blood Pressure', fontsize=14)\n",
    "plt.xlabel('Resting Blood Pressure (mmHg)', fontsize=12)\n",
    "plt.ylabel('Count', fontsize=12)\n",
    "plt.legend(title='Exercise Angina')\n",
    "\n",
    "plt.show()\n"
   ]
  },
  {
   "cell_type": "code",
   "execution_count": 100,
   "id": "0df09195",
   "metadata": {
    "execution": {
     "iopub.execute_input": "2025-01-30T01:16:25.302789Z",
     "iopub.status.busy": "2025-01-30T01:16:25.302387Z",
     "iopub.status.idle": "2025-01-30T01:16:25.311895Z",
     "shell.execute_reply": "2025-01-30T01:16:25.310746Z"
    },
    "papermill": {
     "duration": 0.057906,
     "end_time": "2025-01-30T01:16:25.314052",
     "exception": false,
     "start_time": "2025-01-30T01:16:25.256146",
     "status": "completed"
    },
    "tags": []
   },
   "outputs": [
    {
     "data": {
      "text/plain": [
       "FastingBS\n",
       "0    215.141026\n",
       "1    147.051402\n",
       "Name: Cholesterol, dtype: float64"
      ]
     },
     "execution_count": 100,
     "metadata": {},
     "output_type": "execute_result"
    }
   ],
   "source": [
    "df.groupby(['FastingBS'])['Cholesterol'].mean()"
   ]
  },
  {
   "cell_type": "code",
   "execution_count": 101,
   "id": "3d2670da",
   "metadata": {
    "execution": {
     "iopub.execute_input": "2025-01-30T01:16:25.402281Z",
     "iopub.status.busy": "2025-01-30T01:16:25.401862Z",
     "iopub.status.idle": "2025-01-30T01:16:25.429887Z",
     "shell.execute_reply": "2025-01-30T01:16:25.428826Z"
    },
    "papermill": {
     "duration": 0.074727,
     "end_time": "2025-01-30T01:16:25.432393",
     "exception": false,
     "start_time": "2025-01-30T01:16:25.357666",
     "status": "completed"
    },
    "tags": []
   },
   "outputs": [
    {
     "data": {
      "text/html": [
       "<div>\n",
       "<style scoped>\n",
       "    .dataframe tbody tr th:only-of-type {\n",
       "        vertical-align: middle;\n",
       "    }\n",
       "\n",
       "    .dataframe tbody tr th {\n",
       "        vertical-align: top;\n",
       "    }\n",
       "\n",
       "    .dataframe thead th {\n",
       "        text-align: right;\n",
       "    }\n",
       "</style>\n",
       "<table border=\"1\" class=\"dataframe\">\n",
       "  <thead>\n",
       "    <tr style=\"text-align: right;\">\n",
       "      <th>Cholesterol</th>\n",
       "      <th>0</th>\n",
       "      <th>85</th>\n",
       "      <th>100</th>\n",
       "      <th>110</th>\n",
       "      <th>113</th>\n",
       "      <th>117</th>\n",
       "      <th>123</th>\n",
       "      <th>126</th>\n",
       "      <th>129</th>\n",
       "      <th>131</th>\n",
       "      <th>...</th>\n",
       "      <th>412</th>\n",
       "      <th>417</th>\n",
       "      <th>458</th>\n",
       "      <th>466</th>\n",
       "      <th>468</th>\n",
       "      <th>491</th>\n",
       "      <th>518</th>\n",
       "      <th>529</th>\n",
       "      <th>564</th>\n",
       "      <th>603</th>\n",
       "    </tr>\n",
       "    <tr>\n",
       "      <th>RestingECG</th>\n",
       "      <th></th>\n",
       "      <th></th>\n",
       "      <th></th>\n",
       "      <th></th>\n",
       "      <th></th>\n",
       "      <th></th>\n",
       "      <th></th>\n",
       "      <th></th>\n",
       "      <th></th>\n",
       "      <th></th>\n",
       "      <th></th>\n",
       "      <th></th>\n",
       "      <th></th>\n",
       "      <th></th>\n",
       "      <th></th>\n",
       "      <th></th>\n",
       "      <th></th>\n",
       "      <th></th>\n",
       "      <th></th>\n",
       "      <th></th>\n",
       "      <th></th>\n",
       "    </tr>\n",
       "  </thead>\n",
       "  <tbody>\n",
       "    <tr>\n",
       "      <th>LVH</th>\n",
       "      <td>12</td>\n",
       "      <td>0</td>\n",
       "      <td>0</td>\n",
       "      <td>0</td>\n",
       "      <td>1</td>\n",
       "      <td>0</td>\n",
       "      <td>1</td>\n",
       "      <td>0</td>\n",
       "      <td>0</td>\n",
       "      <td>0</td>\n",
       "      <td>...</td>\n",
       "      <td>0</td>\n",
       "      <td>1</td>\n",
       "      <td>0</td>\n",
       "      <td>0</td>\n",
       "      <td>0</td>\n",
       "      <td>0</td>\n",
       "      <td>0</td>\n",
       "      <td>0</td>\n",
       "      <td>1</td>\n",
       "      <td>0</td>\n",
       "    </tr>\n",
       "    <tr>\n",
       "      <th>Normal</th>\n",
       "      <td>105</td>\n",
       "      <td>1</td>\n",
       "      <td>2</td>\n",
       "      <td>1</td>\n",
       "      <td>0</td>\n",
       "      <td>1</td>\n",
       "      <td>0</td>\n",
       "      <td>2</td>\n",
       "      <td>1</td>\n",
       "      <td>1</td>\n",
       "      <td>...</td>\n",
       "      <td>1</td>\n",
       "      <td>0</td>\n",
       "      <td>1</td>\n",
       "      <td>1</td>\n",
       "      <td>1</td>\n",
       "      <td>1</td>\n",
       "      <td>1</td>\n",
       "      <td>1</td>\n",
       "      <td>0</td>\n",
       "      <td>1</td>\n",
       "    </tr>\n",
       "    <tr>\n",
       "      <th>ST</th>\n",
       "      <td>53</td>\n",
       "      <td>0</td>\n",
       "      <td>0</td>\n",
       "      <td>0</td>\n",
       "      <td>0</td>\n",
       "      <td>0</td>\n",
       "      <td>0</td>\n",
       "      <td>0</td>\n",
       "      <td>0</td>\n",
       "      <td>0</td>\n",
       "      <td>...</td>\n",
       "      <td>0</td>\n",
       "      <td>0</td>\n",
       "      <td>0</td>\n",
       "      <td>0</td>\n",
       "      <td>0</td>\n",
       "      <td>0</td>\n",
       "      <td>0</td>\n",
       "      <td>0</td>\n",
       "      <td>0</td>\n",
       "      <td>0</td>\n",
       "    </tr>\n",
       "  </tbody>\n",
       "</table>\n",
       "<p>3 rows × 222 columns</p>\n",
       "</div>"
      ],
      "text/plain": [
       "Cholesterol  0    85   100  110  113  117  123  126  129  131  ...  412  417  \\\n",
       "RestingECG                                                     ...             \n",
       "LVH           12    0    0    0    1    0    1    0    0    0  ...    0    1   \n",
       "Normal       105    1    2    1    0    1    0    2    1    1  ...    1    0   \n",
       "ST            53    0    0    0    0    0    0    0    0    0  ...    0    0   \n",
       "\n",
       "Cholesterol  458  466  468  491  518  529  564  603  \n",
       "RestingECG                                           \n",
       "LVH            0    0    0    0    0    0    1    0  \n",
       "Normal         1    1    1    1    1    1    0    1  \n",
       "ST             0    0    0    0    0    0    0    0  \n",
       "\n",
       "[3 rows x 222 columns]"
      ]
     },
     "execution_count": 101,
     "metadata": {},
     "output_type": "execute_result"
    }
   ],
   "source": [
    "pd.crosstab(df.RestingECG , df.Cholesterol ) "
   ]
  },
  {
   "cell_type": "code",
   "execution_count": 102,
   "id": "7144db8b",
   "metadata": {
    "execution": {
     "iopub.execute_input": "2025-01-30T01:16:25.519693Z",
     "iopub.status.busy": "2025-01-30T01:16:25.519228Z",
     "iopub.status.idle": "2025-01-30T01:16:25.529033Z",
     "shell.execute_reply": "2025-01-30T01:16:25.527931Z"
    },
    "papermill": {
     "duration": 0.056156,
     "end_time": "2025-01-30T01:16:25.531280",
     "exception": false,
     "start_time": "2025-01-30T01:16:25.475124",
     "status": "completed"
    },
    "tags": []
   },
   "outputs": [
    {
     "data": {
      "text/plain": [
       "RestingECG\n",
       "LVH       236.946809\n",
       "Normal    196.085455\n",
       "ST        169.129213\n",
       "Name: Cholesterol, dtype: float64"
      ]
     },
     "execution_count": 102,
     "metadata": {},
     "output_type": "execute_result"
    }
   ],
   "source": [
    "df.groupby(['RestingECG'])['Cholesterol'].mean()"
   ]
  },
  {
   "cell_type": "code",
   "execution_count": 103,
   "id": "8bca083a",
   "metadata": {
    "execution": {
     "iopub.execute_input": "2025-01-30T01:16:25.621932Z",
     "iopub.status.busy": "2025-01-30T01:16:25.621504Z",
     "iopub.status.idle": "2025-01-30T01:16:25.631164Z",
     "shell.execute_reply": "2025-01-30T01:16:25.630055Z"
    },
    "papermill": {
     "duration": 0.057137,
     "end_time": "2025-01-30T01:16:25.633390",
     "exception": false,
     "start_time": "2025-01-30T01:16:25.576253",
     "status": "completed"
    },
    "tags": []
   },
   "outputs": [
    {
     "data": {
      "text/plain": [
       "ExerciseAngina\n",
       "N    202.245421\n",
       "Y    194.789189\n",
       "Name: Cholesterol, dtype: float64"
      ]
     },
     "execution_count": 103,
     "metadata": {},
     "output_type": "execute_result"
    }
   ],
   "source": [
    "df.groupby(['ExerciseAngina'])['Cholesterol'].mean()"
   ]
  },
  {
   "cell_type": "code",
   "execution_count": 104,
   "id": "f3d2b64a",
   "metadata": {
    "execution": {
     "iopub.execute_input": "2025-01-30T01:16:25.723963Z",
     "iopub.status.busy": "2025-01-30T01:16:25.723103Z",
     "iopub.status.idle": "2025-01-30T01:16:25.742025Z",
     "shell.execute_reply": "2025-01-30T01:16:25.740845Z"
    },
    "papermill": {
     "duration": 0.066385,
     "end_time": "2025-01-30T01:16:25.744065",
     "exception": false,
     "start_time": "2025-01-30T01:16:25.677680",
     "status": "completed"
    },
    "tags": []
   },
   "outputs": [
    {
     "data": {
      "text/html": [
       "<div>\n",
       "<style scoped>\n",
       "    .dataframe tbody tr th:only-of-type {\n",
       "        vertical-align: middle;\n",
       "    }\n",
       "\n",
       "    .dataframe tbody tr th {\n",
       "        vertical-align: top;\n",
       "    }\n",
       "\n",
       "    .dataframe thead th {\n",
       "        text-align: right;\n",
       "    }\n",
       "</style>\n",
       "<table border=\"1\" class=\"dataframe\">\n",
       "  <thead>\n",
       "    <tr style=\"text-align: right;\">\n",
       "      <th>FastingBS</th>\n",
       "      <th>0</th>\n",
       "      <th>1</th>\n",
       "    </tr>\n",
       "    <tr>\n",
       "      <th>RestingECG</th>\n",
       "      <th></th>\n",
       "      <th></th>\n",
       "    </tr>\n",
       "  </thead>\n",
       "  <tbody>\n",
       "    <tr>\n",
       "      <th>LVH</th>\n",
       "      <td>146</td>\n",
       "      <td>42</td>\n",
       "    </tr>\n",
       "    <tr>\n",
       "      <th>Normal</th>\n",
       "      <td>439</td>\n",
       "      <td>111</td>\n",
       "    </tr>\n",
       "    <tr>\n",
       "      <th>ST</th>\n",
       "      <td>117</td>\n",
       "      <td>61</td>\n",
       "    </tr>\n",
       "  </tbody>\n",
       "</table>\n",
       "</div>"
      ],
      "text/plain": [
       "FastingBS     0    1\n",
       "RestingECG          \n",
       "LVH         146   42\n",
       "Normal      439  111\n",
       "ST          117   61"
      ]
     },
     "execution_count": 104,
     "metadata": {},
     "output_type": "execute_result"
    }
   ],
   "source": [
    "pd.crosstab(df.RestingECG , df.FastingBS )"
   ]
  },
  {
   "cell_type": "code",
   "execution_count": 105,
   "id": "2788e2a3",
   "metadata": {
    "execution": {
     "iopub.execute_input": "2025-01-30T01:16:25.834682Z",
     "iopub.status.busy": "2025-01-30T01:16:25.834246Z",
     "iopub.status.idle": "2025-01-30T01:16:25.851155Z",
     "shell.execute_reply": "2025-01-30T01:16:25.850086Z"
    },
    "papermill": {
     "duration": 0.065207,
     "end_time": "2025-01-30T01:16:25.853255",
     "exception": false,
     "start_time": "2025-01-30T01:16:25.788048",
     "status": "completed"
    },
    "tags": []
   },
   "outputs": [
    {
     "data": {
      "text/html": [
       "<div>\n",
       "<style scoped>\n",
       "    .dataframe tbody tr th:only-of-type {\n",
       "        vertical-align: middle;\n",
       "    }\n",
       "\n",
       "    .dataframe tbody tr th {\n",
       "        vertical-align: top;\n",
       "    }\n",
       "\n",
       "    .dataframe thead th {\n",
       "        text-align: right;\n",
       "    }\n",
       "</style>\n",
       "<table border=\"1\" class=\"dataframe\">\n",
       "  <thead>\n",
       "    <tr style=\"text-align: right;\">\n",
       "      <th>FastingBS</th>\n",
       "      <th>0</th>\n",
       "      <th>1</th>\n",
       "    </tr>\n",
       "    <tr>\n",
       "      <th>ExerciseAngina</th>\n",
       "      <th></th>\n",
       "      <th></th>\n",
       "    </tr>\n",
       "  </thead>\n",
       "  <tbody>\n",
       "    <tr>\n",
       "      <th>N</th>\n",
       "      <td>430</td>\n",
       "      <td>116</td>\n",
       "    </tr>\n",
       "    <tr>\n",
       "      <th>Y</th>\n",
       "      <td>272</td>\n",
       "      <td>98</td>\n",
       "    </tr>\n",
       "  </tbody>\n",
       "</table>\n",
       "</div>"
      ],
      "text/plain": [
       "FastingBS         0    1\n",
       "ExerciseAngina          \n",
       "N               430  116\n",
       "Y               272   98"
      ]
     },
     "execution_count": 105,
     "metadata": {},
     "output_type": "execute_result"
    }
   ],
   "source": [
    "pd.crosstab(df.ExerciseAngina , df.FastingBS ) "
   ]
  },
  {
   "cell_type": "code",
   "execution_count": 106,
   "id": "71b19a3a",
   "metadata": {
    "execution": {
     "iopub.execute_input": "2025-01-30T01:16:25.941706Z",
     "iopub.status.busy": "2025-01-30T01:16:25.941140Z",
     "iopub.status.idle": "2025-01-30T01:16:25.950573Z",
     "shell.execute_reply": "2025-01-30T01:16:25.949459Z"
    },
    "papermill": {
     "duration": 0.055882,
     "end_time": "2025-01-30T01:16:25.952857",
     "exception": false,
     "start_time": "2025-01-30T01:16:25.896975",
     "status": "completed"
    },
    "tags": []
   },
   "outputs": [
    {
     "data": {
      "text/plain": [
       "FastingBS\n",
       "0    138.873219\n",
       "1    130.742991\n",
       "Name: MaxHR, dtype: float64"
      ]
     },
     "execution_count": 106,
     "metadata": {},
     "output_type": "execute_result"
    }
   ],
   "source": [
    "df.groupby(['FastingBS'])['MaxHR'].mean()"
   ]
  },
  {
   "cell_type": "code",
   "execution_count": 107,
   "id": "f83b43b6",
   "metadata": {
    "execution": {
     "iopub.execute_input": "2025-01-30T01:16:26.043712Z",
     "iopub.status.busy": "2025-01-30T01:16:26.043261Z",
     "iopub.status.idle": "2025-01-30T01:16:26.052458Z",
     "shell.execute_reply": "2025-01-30T01:16:26.051387Z"
    },
    "papermill": {
     "duration": 0.057593,
     "end_time": "2025-01-30T01:16:26.054546",
     "exception": false,
     "start_time": "2025-01-30T01:16:25.996953",
     "status": "completed"
    },
    "tags": []
   },
   "outputs": [
    {
     "data": {
      "text/plain": [
       "RestingECG\n",
       "LVH       143.117021\n",
       "Normal    137.578182\n",
       "ST        128.617978\n",
       "Name: MaxHR, dtype: float64"
      ]
     },
     "execution_count": 107,
     "metadata": {},
     "output_type": "execute_result"
    }
   ],
   "source": [
    "df.groupby(['RestingECG'])['MaxHR'].mean()"
   ]
  },
  {
   "cell_type": "code",
   "execution_count": 108,
   "id": "0debb676",
   "metadata": {
    "execution": {
     "iopub.execute_input": "2025-01-30T01:16:26.144680Z",
     "iopub.status.busy": "2025-01-30T01:16:26.144206Z",
     "iopub.status.idle": "2025-01-30T01:16:26.156415Z",
     "shell.execute_reply": "2025-01-30T01:16:26.155307Z"
    },
    "papermill": {
     "duration": 0.059747,
     "end_time": "2025-01-30T01:16:26.158579",
     "exception": false,
     "start_time": "2025-01-30T01:16:26.098832",
     "status": "completed"
    },
    "tags": []
   },
   "outputs": [
    {
     "data": {
      "text/plain": [
       "RestingECG  ExerciseAngina\n",
       "LVH         N                 115\n",
       "            Y                  73\n",
       "Normal      N                 344\n",
       "            Y                 206\n",
       "ST          Y                  91\n",
       "            N                  87\n",
       "Name: count, dtype: int64"
      ]
     },
     "execution_count": 108,
     "metadata": {},
     "output_type": "execute_result"
    }
   ],
   "source": [
    "df.groupby(['RestingECG'])['ExerciseAngina'].value_counts()"
   ]
  },
  {
   "cell_type": "code",
   "execution_count": 109,
   "id": "2c8eeb06",
   "metadata": {
    "execution": {
     "iopub.execute_input": "2025-01-30T01:16:26.248001Z",
     "iopub.status.busy": "2025-01-30T01:16:26.247621Z",
     "iopub.status.idle": "2025-01-30T01:16:26.260124Z",
     "shell.execute_reply": "2025-01-30T01:16:26.259073Z"
    },
    "papermill": {
     "duration": 0.059621,
     "end_time": "2025-01-30T01:16:26.262204",
     "exception": false,
     "start_time": "2025-01-30T01:16:26.202583",
     "status": "completed"
    },
    "tags": []
   },
   "outputs": [
    {
     "data": {
      "text/plain": [
       "ExerciseAngina  RestingECG\n",
       "N               Normal        344\n",
       "                LVH           115\n",
       "                ST             87\n",
       "Y               Normal        206\n",
       "                ST             91\n",
       "                LVH            73\n",
       "Name: count, dtype: int64"
      ]
     },
     "execution_count": 109,
     "metadata": {},
     "output_type": "execute_result"
    }
   ],
   "source": [
    "df.groupby(['ExerciseAngina'])['RestingECG'].value_counts()"
   ]
  },
  {
   "cell_type": "code",
   "execution_count": 110,
   "id": "648983ef",
   "metadata": {
    "execution": {
     "iopub.execute_input": "2025-01-30T01:16:26.352555Z",
     "iopub.status.busy": "2025-01-30T01:16:26.351920Z",
     "iopub.status.idle": "2025-01-30T01:16:26.376440Z",
     "shell.execute_reply": "2025-01-30T01:16:26.375270Z"
    },
    "papermill": {
     "duration": 0.07196,
     "end_time": "2025-01-30T01:16:26.378584",
     "exception": false,
     "start_time": "2025-01-30T01:16:26.306624",
     "status": "completed"
    },
    "tags": []
   },
   "outputs": [
    {
     "data": {
      "text/html": [
       "<div>\n",
       "<style scoped>\n",
       "    .dataframe tbody tr th:only-of-type {\n",
       "        vertical-align: middle;\n",
       "    }\n",
       "\n",
       "    .dataframe tbody tr th {\n",
       "        vertical-align: top;\n",
       "    }\n",
       "\n",
       "    .dataframe thead th {\n",
       "        text-align: right;\n",
       "    }\n",
       "</style>\n",
       "<table border=\"1\" class=\"dataframe\">\n",
       "  <thead>\n",
       "    <tr style=\"text-align: right;\">\n",
       "      <th>MaxHR</th>\n",
       "      <th>67</th>\n",
       "      <th>69</th>\n",
       "      <th>70</th>\n",
       "      <th>71</th>\n",
       "      <th>72</th>\n",
       "      <th>73</th>\n",
       "      <th>77</th>\n",
       "      <th>78</th>\n",
       "      <th>80</th>\n",
       "      <th>82</th>\n",
       "      <th>...</th>\n",
       "      <th>184</th>\n",
       "      <th>185</th>\n",
       "      <th>186</th>\n",
       "      <th>187</th>\n",
       "      <th>188</th>\n",
       "      <th>190</th>\n",
       "      <th>192</th>\n",
       "      <th>194</th>\n",
       "      <th>195</th>\n",
       "      <th>202</th>\n",
       "    </tr>\n",
       "    <tr>\n",
       "      <th>ExerciseAngina</th>\n",
       "      <th></th>\n",
       "      <th></th>\n",
       "      <th></th>\n",
       "      <th></th>\n",
       "      <th></th>\n",
       "      <th></th>\n",
       "      <th></th>\n",
       "      <th></th>\n",
       "      <th></th>\n",
       "      <th></th>\n",
       "      <th></th>\n",
       "      <th></th>\n",
       "      <th></th>\n",
       "      <th></th>\n",
       "      <th></th>\n",
       "      <th></th>\n",
       "      <th></th>\n",
       "      <th></th>\n",
       "      <th></th>\n",
       "      <th></th>\n",
       "      <th></th>\n",
       "    </tr>\n",
       "  </thead>\n",
       "  <tbody>\n",
       "    <tr>\n",
       "      <th>N</th>\n",
       "      <td>1</td>\n",
       "      <td>1</td>\n",
       "      <td>1</td>\n",
       "      <td>1</td>\n",
       "      <td>0</td>\n",
       "      <td>1</td>\n",
       "      <td>1</td>\n",
       "      <td>1</td>\n",
       "      <td>0</td>\n",
       "      <td>1</td>\n",
       "      <td>...</td>\n",
       "      <td>4</td>\n",
       "      <td>4</td>\n",
       "      <td>1</td>\n",
       "      <td>1</td>\n",
       "      <td>2</td>\n",
       "      <td>2</td>\n",
       "      <td>1</td>\n",
       "      <td>1</td>\n",
       "      <td>1</td>\n",
       "      <td>1</td>\n",
       "    </tr>\n",
       "    <tr>\n",
       "      <th>Y</th>\n",
       "      <td>0</td>\n",
       "      <td>0</td>\n",
       "      <td>0</td>\n",
       "      <td>0</td>\n",
       "      <td>2</td>\n",
       "      <td>0</td>\n",
       "      <td>0</td>\n",
       "      <td>0</td>\n",
       "      <td>2</td>\n",
       "      <td>2</td>\n",
       "      <td>...</td>\n",
       "      <td>0</td>\n",
       "      <td>0</td>\n",
       "      <td>1</td>\n",
       "      <td>0</td>\n",
       "      <td>0</td>\n",
       "      <td>0</td>\n",
       "      <td>0</td>\n",
       "      <td>0</td>\n",
       "      <td>0</td>\n",
       "      <td>0</td>\n",
       "    </tr>\n",
       "  </tbody>\n",
       "</table>\n",
       "<p>2 rows × 117 columns</p>\n",
       "</div>"
      ],
      "text/plain": [
       "MaxHR           67   69   70   71   72   73   77   78   80   82   ...  184  \\\n",
       "ExerciseAngina                                                    ...        \n",
       "N                 1    1    1    1    0    1    1    1    0    1  ...    4   \n",
       "Y                 0    0    0    0    2    0    0    0    2    2  ...    0   \n",
       "\n",
       "MaxHR           185  186  187  188  190  192  194  195  202  \n",
       "ExerciseAngina                                               \n",
       "N                 4    1    1    2    2    1    1    1    1  \n",
       "Y                 0    1    0    0    0    0    0    0    0  \n",
       "\n",
       "[2 rows x 117 columns]"
      ]
     },
     "execution_count": 110,
     "metadata": {},
     "output_type": "execute_result"
    }
   ],
   "source": [
    "pd.crosstab(df.ExerciseAngina , df.MaxHR ) "
   ]
  },
  {
   "cell_type": "code",
   "execution_count": 111,
   "id": "9f5c2311",
   "metadata": {
    "execution": {
     "iopub.execute_input": "2025-01-30T01:16:26.470193Z",
     "iopub.status.busy": "2025-01-30T01:16:26.469118Z",
     "iopub.status.idle": "2025-01-30T01:16:26.485711Z",
     "shell.execute_reply": "2025-01-30T01:16:26.484727Z"
    },
    "papermill": {
     "duration": 0.064951,
     "end_time": "2025-01-30T01:16:26.487832",
     "exception": false,
     "start_time": "2025-01-30T01:16:26.422881",
     "status": "completed"
    },
    "tags": []
   },
   "outputs": [
    {
     "data": {
      "text/html": [
       "<div>\n",
       "<style scoped>\n",
       "    .dataframe tbody tr th:only-of-type {\n",
       "        vertical-align: middle;\n",
       "    }\n",
       "\n",
       "    .dataframe tbody tr th {\n",
       "        vertical-align: top;\n",
       "    }\n",
       "\n",
       "    .dataframe thead th {\n",
       "        text-align: right;\n",
       "    }\n",
       "</style>\n",
       "<table border=\"1\" class=\"dataframe\">\n",
       "  <thead>\n",
       "    <tr style=\"text-align: right;\">\n",
       "      <th></th>\n",
       "      <th>Age</th>\n",
       "      <th>Sex</th>\n",
       "      <th>ChestPainType</th>\n",
       "      <th>RestingBP</th>\n",
       "      <th>Cholesterol</th>\n",
       "      <th>FastingBS</th>\n",
       "      <th>RestingECG</th>\n",
       "      <th>MaxHR</th>\n",
       "      <th>ExerciseAngina</th>\n",
       "      <th>Oldpeak</th>\n",
       "      <th>ST_Slope</th>\n",
       "      <th>HeartDisease</th>\n",
       "    </tr>\n",
       "  </thead>\n",
       "  <tbody>\n",
       "    <tr>\n",
       "      <th>4</th>\n",
       "      <td>54</td>\n",
       "      <td>M</td>\n",
       "      <td>NAP</td>\n",
       "      <td>150</td>\n",
       "      <td>195</td>\n",
       "      <td>0</td>\n",
       "      <td>Normal</td>\n",
       "      <td>122</td>\n",
       "      <td>N</td>\n",
       "      <td>0.0</td>\n",
       "      <td>Up</td>\n",
       "      <td>0</td>\n",
       "    </tr>\n",
       "    <tr>\n",
       "      <th>7</th>\n",
       "      <td>54</td>\n",
       "      <td>M</td>\n",
       "      <td>ATA</td>\n",
       "      <td>110</td>\n",
       "      <td>208</td>\n",
       "      <td>0</td>\n",
       "      <td>Normal</td>\n",
       "      <td>142</td>\n",
       "      <td>N</td>\n",
       "      <td>0.0</td>\n",
       "      <td>Up</td>\n",
       "      <td>0</td>\n",
       "    </tr>\n",
       "    <tr>\n",
       "      <th>11</th>\n",
       "      <td>58</td>\n",
       "      <td>M</td>\n",
       "      <td>ATA</td>\n",
       "      <td>136</td>\n",
       "      <td>164</td>\n",
       "      <td>0</td>\n",
       "      <td>ST</td>\n",
       "      <td>99</td>\n",
       "      <td>Y</td>\n",
       "      <td>2.0</td>\n",
       "      <td>Flat</td>\n",
       "      <td>1</td>\n",
       "    </tr>\n",
       "    <tr>\n",
       "      <th>15</th>\n",
       "      <td>54</td>\n",
       "      <td>F</td>\n",
       "      <td>ATA</td>\n",
       "      <td>120</td>\n",
       "      <td>273</td>\n",
       "      <td>0</td>\n",
       "      <td>Normal</td>\n",
       "      <td>150</td>\n",
       "      <td>N</td>\n",
       "      <td>1.5</td>\n",
       "      <td>Flat</td>\n",
       "      <td>0</td>\n",
       "    </tr>\n",
       "    <tr>\n",
       "      <th>18</th>\n",
       "      <td>60</td>\n",
       "      <td>M</td>\n",
       "      <td>ASY</td>\n",
       "      <td>100</td>\n",
       "      <td>248</td>\n",
       "      <td>0</td>\n",
       "      <td>Normal</td>\n",
       "      <td>125</td>\n",
       "      <td>N</td>\n",
       "      <td>1.0</td>\n",
       "      <td>Flat</td>\n",
       "      <td>1</td>\n",
       "    </tr>\n",
       "    <tr>\n",
       "      <th>...</th>\n",
       "      <td>...</td>\n",
       "      <td>...</td>\n",
       "      <td>...</td>\n",
       "      <td>...</td>\n",
       "      <td>...</td>\n",
       "      <td>...</td>\n",
       "      <td>...</td>\n",
       "      <td>...</td>\n",
       "      <td>...</td>\n",
       "      <td>...</td>\n",
       "      <td>...</td>\n",
       "      <td>...</td>\n",
       "    </tr>\n",
       "    <tr>\n",
       "      <th>911</th>\n",
       "      <td>59</td>\n",
       "      <td>M</td>\n",
       "      <td>ASY</td>\n",
       "      <td>164</td>\n",
       "      <td>176</td>\n",
       "      <td>1</td>\n",
       "      <td>LVH</td>\n",
       "      <td>90</td>\n",
       "      <td>N</td>\n",
       "      <td>1.0</td>\n",
       "      <td>Flat</td>\n",
       "      <td>1</td>\n",
       "    </tr>\n",
       "    <tr>\n",
       "      <th>912</th>\n",
       "      <td>57</td>\n",
       "      <td>F</td>\n",
       "      <td>ASY</td>\n",
       "      <td>140</td>\n",
       "      <td>241</td>\n",
       "      <td>0</td>\n",
       "      <td>Normal</td>\n",
       "      <td>123</td>\n",
       "      <td>Y</td>\n",
       "      <td>0.2</td>\n",
       "      <td>Flat</td>\n",
       "      <td>1</td>\n",
       "    </tr>\n",
       "    <tr>\n",
       "      <th>914</th>\n",
       "      <td>68</td>\n",
       "      <td>M</td>\n",
       "      <td>ASY</td>\n",
       "      <td>144</td>\n",
       "      <td>193</td>\n",
       "      <td>1</td>\n",
       "      <td>Normal</td>\n",
       "      <td>141</td>\n",
       "      <td>N</td>\n",
       "      <td>3.4</td>\n",
       "      <td>Flat</td>\n",
       "      <td>1</td>\n",
       "    </tr>\n",
       "    <tr>\n",
       "      <th>915</th>\n",
       "      <td>57</td>\n",
       "      <td>M</td>\n",
       "      <td>ASY</td>\n",
       "      <td>130</td>\n",
       "      <td>131</td>\n",
       "      <td>0</td>\n",
       "      <td>Normal</td>\n",
       "      <td>115</td>\n",
       "      <td>Y</td>\n",
       "      <td>1.2</td>\n",
       "      <td>Flat</td>\n",
       "      <td>1</td>\n",
       "    </tr>\n",
       "    <tr>\n",
       "      <th>916</th>\n",
       "      <td>57</td>\n",
       "      <td>F</td>\n",
       "      <td>ATA</td>\n",
       "      <td>130</td>\n",
       "      <td>236</td>\n",
       "      <td>0</td>\n",
       "      <td>LVH</td>\n",
       "      <td>174</td>\n",
       "      <td>N</td>\n",
       "      <td>0.0</td>\n",
       "      <td>Flat</td>\n",
       "      <td>1</td>\n",
       "    </tr>\n",
       "  </tbody>\n",
       "</table>\n",
       "<p>600 rows × 12 columns</p>\n",
       "</div>"
      ],
      "text/plain": [
       "     Age Sex ChestPainType  RestingBP  Cholesterol  FastingBS RestingECG  \\\n",
       "4     54   M           NAP        150          195          0     Normal   \n",
       "7     54   M           ATA        110          208          0     Normal   \n",
       "11    58   M           ATA        136          164          0         ST   \n",
       "15    54   F           ATA        120          273          0     Normal   \n",
       "18    60   M           ASY        100          248          0     Normal   \n",
       "..   ...  ..           ...        ...          ...        ...        ...   \n",
       "911   59   M           ASY        164          176          1        LVH   \n",
       "912   57   F           ASY        140          241          0     Normal   \n",
       "914   68   M           ASY        144          193          1     Normal   \n",
       "915   57   M           ASY        130          131          0     Normal   \n",
       "916   57   F           ATA        130          236          0        LVH   \n",
       "\n",
       "     MaxHR ExerciseAngina  Oldpeak ST_Slope  HeartDisease  \n",
       "4      122              N      0.0       Up             0  \n",
       "7      142              N      0.0       Up             0  \n",
       "11      99              Y      2.0     Flat             1  \n",
       "15     150              N      1.5     Flat             0  \n",
       "18     125              N      1.0     Flat             1  \n",
       "..     ...            ...      ...      ...           ...  \n",
       "911     90              N      1.0     Flat             1  \n",
       "912    123              Y      0.2     Flat             1  \n",
       "914    141              N      3.4     Flat             1  \n",
       "915    115              Y      1.2     Flat             1  \n",
       "916    174              N      0.0     Flat             1  \n",
       "\n",
       "[600 rows x 12 columns]"
      ]
     },
     "execution_count": 111,
     "metadata": {},
     "output_type": "execute_result"
    }
   ],
   "source": [
    "df[df['Age'] > 50]"
   ]
  },
  {
   "cell_type": "code",
   "execution_count": 112,
   "id": "dd0d51bc",
   "metadata": {
    "execution": {
     "iopub.execute_input": "2025-01-30T01:16:26.583041Z",
     "iopub.status.busy": "2025-01-30T01:16:26.581968Z",
     "iopub.status.idle": "2025-01-30T01:16:26.598393Z",
     "shell.execute_reply": "2025-01-30T01:16:26.597350Z"
    },
    "papermill": {
     "duration": 0.067864,
     "end_time": "2025-01-30T01:16:26.600507",
     "exception": false,
     "start_time": "2025-01-30T01:16:26.532643",
     "status": "completed"
    },
    "tags": []
   },
   "outputs": [
    {
     "data": {
      "text/html": [
       "<div>\n",
       "<style scoped>\n",
       "    .dataframe tbody tr th:only-of-type {\n",
       "        vertical-align: middle;\n",
       "    }\n",
       "\n",
       "    .dataframe tbody tr th {\n",
       "        vertical-align: top;\n",
       "    }\n",
       "\n",
       "    .dataframe thead th {\n",
       "        text-align: right;\n",
       "    }\n",
       "</style>\n",
       "<table border=\"1\" class=\"dataframe\">\n",
       "  <thead>\n",
       "    <tr style=\"text-align: right;\">\n",
       "      <th></th>\n",
       "      <th>Age</th>\n",
       "      <th>Sex</th>\n",
       "      <th>ChestPainType</th>\n",
       "      <th>RestingBP</th>\n",
       "      <th>Cholesterol</th>\n",
       "      <th>FastingBS</th>\n",
       "      <th>RestingECG</th>\n",
       "      <th>MaxHR</th>\n",
       "      <th>ExerciseAngina</th>\n",
       "      <th>Oldpeak</th>\n",
       "      <th>ST_Slope</th>\n",
       "      <th>HeartDisease</th>\n",
       "    </tr>\n",
       "  </thead>\n",
       "  <tbody>\n",
       "    <tr>\n",
       "      <th>3</th>\n",
       "      <td>48</td>\n",
       "      <td>F</td>\n",
       "      <td>ASY</td>\n",
       "      <td>138</td>\n",
       "      <td>214</td>\n",
       "      <td>0</td>\n",
       "      <td>Normal</td>\n",
       "      <td>108</td>\n",
       "      <td>Y</td>\n",
       "      <td>1.5</td>\n",
       "      <td>Flat</td>\n",
       "      <td>1</td>\n",
       "    </tr>\n",
       "    <tr>\n",
       "      <th>8</th>\n",
       "      <td>37</td>\n",
       "      <td>M</td>\n",
       "      <td>ASY</td>\n",
       "      <td>140</td>\n",
       "      <td>207</td>\n",
       "      <td>0</td>\n",
       "      <td>Normal</td>\n",
       "      <td>130</td>\n",
       "      <td>Y</td>\n",
       "      <td>1.5</td>\n",
       "      <td>Flat</td>\n",
       "      <td>1</td>\n",
       "    </tr>\n",
       "    <tr>\n",
       "      <th>13</th>\n",
       "      <td>49</td>\n",
       "      <td>M</td>\n",
       "      <td>ASY</td>\n",
       "      <td>140</td>\n",
       "      <td>234</td>\n",
       "      <td>0</td>\n",
       "      <td>Normal</td>\n",
       "      <td>140</td>\n",
       "      <td>Y</td>\n",
       "      <td>1.0</td>\n",
       "      <td>Flat</td>\n",
       "      <td>1</td>\n",
       "    </tr>\n",
       "    <tr>\n",
       "      <th>16</th>\n",
       "      <td>38</td>\n",
       "      <td>M</td>\n",
       "      <td>ASY</td>\n",
       "      <td>110</td>\n",
       "      <td>196</td>\n",
       "      <td>0</td>\n",
       "      <td>Normal</td>\n",
       "      <td>166</td>\n",
       "      <td>N</td>\n",
       "      <td>0.0</td>\n",
       "      <td>Flat</td>\n",
       "      <td>1</td>\n",
       "    </tr>\n",
       "    <tr>\n",
       "      <th>18</th>\n",
       "      <td>60</td>\n",
       "      <td>M</td>\n",
       "      <td>ASY</td>\n",
       "      <td>100</td>\n",
       "      <td>248</td>\n",
       "      <td>0</td>\n",
       "      <td>Normal</td>\n",
       "      <td>125</td>\n",
       "      <td>N</td>\n",
       "      <td>1.0</td>\n",
       "      <td>Flat</td>\n",
       "      <td>1</td>\n",
       "    </tr>\n",
       "    <tr>\n",
       "      <th>...</th>\n",
       "      <td>...</td>\n",
       "      <td>...</td>\n",
       "      <td>...</td>\n",
       "      <td>...</td>\n",
       "      <td>...</td>\n",
       "      <td>...</td>\n",
       "      <td>...</td>\n",
       "      <td>...</td>\n",
       "      <td>...</td>\n",
       "      <td>...</td>\n",
       "      <td>...</td>\n",
       "      <td>...</td>\n",
       "    </tr>\n",
       "    <tr>\n",
       "      <th>909</th>\n",
       "      <td>63</td>\n",
       "      <td>F</td>\n",
       "      <td>ASY</td>\n",
       "      <td>124</td>\n",
       "      <td>197</td>\n",
       "      <td>0</td>\n",
       "      <td>Normal</td>\n",
       "      <td>136</td>\n",
       "      <td>Y</td>\n",
       "      <td>0.0</td>\n",
       "      <td>Flat</td>\n",
       "      <td>1</td>\n",
       "    </tr>\n",
       "    <tr>\n",
       "      <th>911</th>\n",
       "      <td>59</td>\n",
       "      <td>M</td>\n",
       "      <td>ASY</td>\n",
       "      <td>164</td>\n",
       "      <td>176</td>\n",
       "      <td>1</td>\n",
       "      <td>LVH</td>\n",
       "      <td>90</td>\n",
       "      <td>N</td>\n",
       "      <td>1.0</td>\n",
       "      <td>Flat</td>\n",
       "      <td>1</td>\n",
       "    </tr>\n",
       "    <tr>\n",
       "      <th>912</th>\n",
       "      <td>57</td>\n",
       "      <td>F</td>\n",
       "      <td>ASY</td>\n",
       "      <td>140</td>\n",
       "      <td>241</td>\n",
       "      <td>0</td>\n",
       "      <td>Normal</td>\n",
       "      <td>123</td>\n",
       "      <td>Y</td>\n",
       "      <td>0.2</td>\n",
       "      <td>Flat</td>\n",
       "      <td>1</td>\n",
       "    </tr>\n",
       "    <tr>\n",
       "      <th>914</th>\n",
       "      <td>68</td>\n",
       "      <td>M</td>\n",
       "      <td>ASY</td>\n",
       "      <td>144</td>\n",
       "      <td>193</td>\n",
       "      <td>1</td>\n",
       "      <td>Normal</td>\n",
       "      <td>141</td>\n",
       "      <td>N</td>\n",
       "      <td>3.4</td>\n",
       "      <td>Flat</td>\n",
       "      <td>1</td>\n",
       "    </tr>\n",
       "    <tr>\n",
       "      <th>915</th>\n",
       "      <td>57</td>\n",
       "      <td>M</td>\n",
       "      <td>ASY</td>\n",
       "      <td>130</td>\n",
       "      <td>131</td>\n",
       "      <td>0</td>\n",
       "      <td>Normal</td>\n",
       "      <td>115</td>\n",
       "      <td>Y</td>\n",
       "      <td>1.2</td>\n",
       "      <td>Flat</td>\n",
       "      <td>1</td>\n",
       "    </tr>\n",
       "  </tbody>\n",
       "</table>\n",
       "<p>494 rows × 12 columns</p>\n",
       "</div>"
      ],
      "text/plain": [
       "     Age Sex ChestPainType  RestingBP  Cholesterol  FastingBS RestingECG  \\\n",
       "3     48   F           ASY        138          214          0     Normal   \n",
       "8     37   M           ASY        140          207          0     Normal   \n",
       "13    49   M           ASY        140          234          0     Normal   \n",
       "16    38   M           ASY        110          196          0     Normal   \n",
       "18    60   M           ASY        100          248          0     Normal   \n",
       "..   ...  ..           ...        ...          ...        ...        ...   \n",
       "909   63   F           ASY        124          197          0     Normal   \n",
       "911   59   M           ASY        164          176          1        LVH   \n",
       "912   57   F           ASY        140          241          0     Normal   \n",
       "914   68   M           ASY        144          193          1     Normal   \n",
       "915   57   M           ASY        130          131          0     Normal   \n",
       "\n",
       "     MaxHR ExerciseAngina  Oldpeak ST_Slope  HeartDisease  \n",
       "3      108              Y      1.5     Flat             1  \n",
       "8      130              Y      1.5     Flat             1  \n",
       "13     140              Y      1.0     Flat             1  \n",
       "16     166              N      0.0     Flat             1  \n",
       "18     125              N      1.0     Flat             1  \n",
       "..     ...            ...      ...      ...           ...  \n",
       "909    136              Y      0.0     Flat             1  \n",
       "911     90              N      1.0     Flat             1  \n",
       "912    123              Y      0.2     Flat             1  \n",
       "914    141              N      3.4     Flat             1  \n",
       "915    115              Y      1.2     Flat             1  \n",
       "\n",
       "[494 rows x 12 columns]"
      ]
     },
     "execution_count": 112,
     "metadata": {},
     "output_type": "execute_result"
    }
   ],
   "source": [
    "df[df['ChestPainType'] == 'ASY']"
   ]
  },
  {
   "cell_type": "code",
   "execution_count": 113,
   "id": "5f7b4a8d",
   "metadata": {
    "execution": {
     "iopub.execute_input": "2025-01-30T01:16:26.694007Z",
     "iopub.status.busy": "2025-01-30T01:16:26.692807Z",
     "iopub.status.idle": "2025-01-30T01:16:26.702703Z",
     "shell.execute_reply": "2025-01-30T01:16:26.701709Z"
    },
    "papermill": {
     "duration": 0.058376,
     "end_time": "2025-01-30T01:16:26.704801",
     "exception": false,
     "start_time": "2025-01-30T01:16:26.646425",
     "status": "completed"
    },
    "tags": []
   },
   "outputs": [
    {
     "data": {
      "text/plain": [
       "HeartDisease\n",
       "1    72.850679\n",
       "0    27.149321\n",
       "Name: proportion, dtype: float64"
      ]
     },
     "execution_count": 113,
     "metadata": {},
     "output_type": "execute_result"
    }
   ],
   "source": [
    "df[df['Age'] > 60]['HeartDisease'].value_counts(normalize=True) * 100"
   ]
  },
  {
   "cell_type": "code",
   "execution_count": 114,
   "id": "09f17d55",
   "metadata": {
    "execution": {
     "iopub.execute_input": "2025-01-30T01:16:26.797667Z",
     "iopub.status.busy": "2025-01-30T01:16:26.796725Z",
     "iopub.status.idle": "2025-01-30T01:16:26.807728Z",
     "shell.execute_reply": "2025-01-30T01:16:26.806644Z"
    },
    "papermill": {
     "duration": 0.060106,
     "end_time": "2025-01-30T01:16:26.809906",
     "exception": false,
     "start_time": "2025-01-30T01:16:26.749800",
     "status": "completed"
    },
    "tags": []
   },
   "outputs": [
    {
     "data": {
      "text/plain": [
       "Sex  HeartDisease\n",
       "F    0               143\n",
       "     1                50\n",
       "M    1               456\n",
       "     0               267\n",
       "Name: count, dtype: int64"
      ]
     },
     "execution_count": 114,
     "metadata": {},
     "output_type": "execute_result"
    }
   ],
   "source": [
    "df.groupby(['Sex'])['HeartDisease'].value_counts()"
   ]
  },
  {
   "cell_type": "code",
   "execution_count": 115,
   "id": "9f40c3f9",
   "metadata": {
    "execution": {
     "iopub.execute_input": "2025-01-30T01:16:26.921146Z",
     "iopub.status.busy": "2025-01-30T01:16:26.919650Z",
     "iopub.status.idle": "2025-01-30T01:16:26.934362Z",
     "shell.execute_reply": "2025-01-30T01:16:26.933218Z"
    },
    "papermill": {
     "duration": 0.081708,
     "end_time": "2025-01-30T01:16:26.936818",
     "exception": false,
     "start_time": "2025-01-30T01:16:26.855110",
     "status": "completed"
    },
    "tags": []
   },
   "outputs": [
    {
     "data": {
      "text/plain": [
       "ChestPainType  HeartDisease\n",
       "ASY            1               390\n",
       "               0               104\n",
       "ATA            0               149\n",
       "               1                24\n",
       "NAP            0               131\n",
       "               1                72\n",
       "TA             0                26\n",
       "               1                20\n",
       "Name: count, dtype: int64"
      ]
     },
     "execution_count": 115,
     "metadata": {},
     "output_type": "execute_result"
    }
   ],
   "source": [
    "df.groupby(['ChestPainType'])['HeartDisease'].value_counts()"
   ]
  },
  {
   "cell_type": "code",
   "execution_count": 116,
   "id": "319e3a1c",
   "metadata": {
    "execution": {
     "iopub.execute_input": "2025-01-30T01:16:27.041107Z",
     "iopub.status.busy": "2025-01-30T01:16:27.040138Z",
     "iopub.status.idle": "2025-01-30T01:16:27.054864Z",
     "shell.execute_reply": "2025-01-30T01:16:27.053577Z"
    },
    "papermill": {
     "duration": 0.073299,
     "end_time": "2025-01-30T01:16:27.057158",
     "exception": false,
     "start_time": "2025-01-30T01:16:26.983859",
     "status": "completed"
    },
    "tags": []
   },
   "outputs": [
    {
     "data": {
      "text/plain": [
       "ExerciseAngina  HeartDisease\n",
       "N               0               355\n",
       "                1               191\n",
       "Y               1               315\n",
       "                0                55\n",
       "Name: count, dtype: int64"
      ]
     },
     "execution_count": 116,
     "metadata": {},
     "output_type": "execute_result"
    }
   ],
   "source": [
    "df.groupby(['ExerciseAngina'])['HeartDisease'].value_counts()"
   ]
  },
  {
   "cell_type": "code",
   "execution_count": 117,
   "id": "575bd5cf",
   "metadata": {
    "execution": {
     "iopub.execute_input": "2025-01-30T01:16:27.153201Z",
     "iopub.status.busy": "2025-01-30T01:16:27.152816Z",
     "iopub.status.idle": "2025-01-30T01:16:27.168801Z",
     "shell.execute_reply": "2025-01-30T01:16:27.167380Z"
    },
    "papermill": {
     "duration": 0.066388,
     "end_time": "2025-01-30T01:16:27.171016",
     "exception": false,
     "start_time": "2025-01-30T01:16:27.104628",
     "status": "completed"
    },
    "tags": []
   },
   "outputs": [
    {
     "data": {
      "text/plain": [
       "HeartDisease\n",
       "0    227.121951\n",
       "1    176.636364\n",
       "Name: Cholesterol, dtype: float64"
      ]
     },
     "execution_count": 117,
     "metadata": {},
     "output_type": "execute_result"
    }
   ],
   "source": [
    "df.groupby(['HeartDisease']).Cholesterol.mean()"
   ]
  },
  {
   "cell_type": "code",
   "execution_count": 118,
   "id": "63569d1d",
   "metadata": {
    "execution": {
     "iopub.execute_input": "2025-01-30T01:16:27.266949Z",
     "iopub.status.busy": "2025-01-30T01:16:27.266412Z",
     "iopub.status.idle": "2025-01-30T01:16:27.277892Z",
     "shell.execute_reply": "2025-01-30T01:16:27.276815Z"
    },
    "papermill": {
     "duration": 0.062659,
     "end_time": "2025-01-30T01:16:27.280387",
     "exception": false,
     "start_time": "2025-01-30T01:16:27.217728",
     "status": "completed"
    },
    "tags": []
   },
   "outputs": [
    {
     "data": {
      "text/plain": [
       "HeartDisease\n",
       "0    130.180488\n",
       "1    134.171937\n",
       "Name: RestingBP, dtype: float64"
      ]
     },
     "execution_count": 118,
     "metadata": {},
     "output_type": "execute_result"
    }
   ],
   "source": [
    "df.groupby(['HeartDisease']).RestingBP.mean()"
   ]
  },
  {
   "cell_type": "code",
   "execution_count": 119,
   "id": "9bf3a3ea",
   "metadata": {
    "execution": {
     "iopub.execute_input": "2025-01-30T01:16:27.397768Z",
     "iopub.status.busy": "2025-01-30T01:16:27.397317Z",
     "iopub.status.idle": "2025-01-30T01:16:27.406811Z",
     "shell.execute_reply": "2025-01-30T01:16:27.405631Z"
    },
    "papermill": {
     "duration": 0.082469,
     "end_time": "2025-01-30T01:16:27.409401",
     "exception": false,
     "start_time": "2025-01-30T01:16:27.326932",
     "status": "completed"
    },
    "tags": []
   },
   "outputs": [
    {
     "data": {
      "text/plain": [
       "HeartDisease\n",
       "0    148.151220\n",
       "1    127.916996\n",
       "Name: MaxHR, dtype: float64"
      ]
     },
     "execution_count": 119,
     "metadata": {},
     "output_type": "execute_result"
    }
   ],
   "source": [
    "df.groupby(['HeartDisease']).MaxHR.mean()"
   ]
  },
  {
   "cell_type": "code",
   "execution_count": 120,
   "id": "3229adfb",
   "metadata": {
    "execution": {
     "iopub.execute_input": "2025-01-30T01:16:27.519368Z",
     "iopub.status.busy": "2025-01-30T01:16:27.518830Z",
     "iopub.status.idle": "2025-01-30T01:16:27.539489Z",
     "shell.execute_reply": "2025-01-30T01:16:27.538360Z"
    },
    "papermill": {
     "duration": 0.080865,
     "end_time": "2025-01-30T01:16:27.541723",
     "exception": false,
     "start_time": "2025-01-30T01:16:27.460858",
     "status": "completed"
    },
    "tags": []
   },
   "outputs": [
    {
     "data": {
      "text/html": [
       "<div>\n",
       "<style scoped>\n",
       "    .dataframe tbody tr th:only-of-type {\n",
       "        vertical-align: middle;\n",
       "    }\n",
       "\n",
       "    .dataframe tbody tr th {\n",
       "        vertical-align: top;\n",
       "    }\n",
       "\n",
       "    .dataframe thead th {\n",
       "        text-align: right;\n",
       "    }\n",
       "</style>\n",
       "<table border=\"1\" class=\"dataframe\">\n",
       "  <thead>\n",
       "    <tr style=\"text-align: right;\">\n",
       "      <th></th>\n",
       "      <th>Age</th>\n",
       "      <th>Sex</th>\n",
       "      <th>ChestPainType</th>\n",
       "      <th>RestingBP</th>\n",
       "      <th>Cholesterol</th>\n",
       "      <th>FastingBS</th>\n",
       "      <th>RestingECG</th>\n",
       "      <th>MaxHR</th>\n",
       "      <th>ExerciseAngina</th>\n",
       "      <th>Oldpeak</th>\n",
       "      <th>ST_Slope</th>\n",
       "      <th>HeartDisease</th>\n",
       "    </tr>\n",
       "  </thead>\n",
       "  <tbody>\n",
       "    <tr>\n",
       "      <th>36</th>\n",
       "      <td>65</td>\n",
       "      <td>M</td>\n",
       "      <td>ASY</td>\n",
       "      <td>140</td>\n",
       "      <td>306</td>\n",
       "      <td>1</td>\n",
       "      <td>Normal</td>\n",
       "      <td>87</td>\n",
       "      <td>Y</td>\n",
       "      <td>1.5</td>\n",
       "      <td>Flat</td>\n",
       "      <td>1</td>\n",
       "    </tr>\n",
       "    <tr>\n",
       "      <th>41</th>\n",
       "      <td>54</td>\n",
       "      <td>F</td>\n",
       "      <td>NAP</td>\n",
       "      <td>130</td>\n",
       "      <td>294</td>\n",
       "      <td>0</td>\n",
       "      <td>ST</td>\n",
       "      <td>100</td>\n",
       "      <td>Y</td>\n",
       "      <td>0.0</td>\n",
       "      <td>Flat</td>\n",
       "      <td>1</td>\n",
       "    </tr>\n",
       "    <tr>\n",
       "      <th>59</th>\n",
       "      <td>52</td>\n",
       "      <td>M</td>\n",
       "      <td>ASY</td>\n",
       "      <td>112</td>\n",
       "      <td>342</td>\n",
       "      <td>0</td>\n",
       "      <td>ST</td>\n",
       "      <td>96</td>\n",
       "      <td>Y</td>\n",
       "      <td>1.0</td>\n",
       "      <td>Flat</td>\n",
       "      <td>1</td>\n",
       "    </tr>\n",
       "    <tr>\n",
       "      <th>68</th>\n",
       "      <td>52</td>\n",
       "      <td>M</td>\n",
       "      <td>ASY</td>\n",
       "      <td>160</td>\n",
       "      <td>246</td>\n",
       "      <td>0</td>\n",
       "      <td>ST</td>\n",
       "      <td>82</td>\n",
       "      <td>Y</td>\n",
       "      <td>4.0</td>\n",
       "      <td>Flat</td>\n",
       "      <td>1</td>\n",
       "    </tr>\n",
       "    <tr>\n",
       "      <th>70</th>\n",
       "      <td>57</td>\n",
       "      <td>M</td>\n",
       "      <td>ATA</td>\n",
       "      <td>140</td>\n",
       "      <td>265</td>\n",
       "      <td>0</td>\n",
       "      <td>ST</td>\n",
       "      <td>145</td>\n",
       "      <td>Y</td>\n",
       "      <td>1.0</td>\n",
       "      <td>Flat</td>\n",
       "      <td>1</td>\n",
       "    </tr>\n",
       "    <tr>\n",
       "      <th>...</th>\n",
       "      <td>...</td>\n",
       "      <td>...</td>\n",
       "      <td>...</td>\n",
       "      <td>...</td>\n",
       "      <td>...</td>\n",
       "      <td>...</td>\n",
       "      <td>...</td>\n",
       "      <td>...</td>\n",
       "      <td>...</td>\n",
       "      <td>...</td>\n",
       "      <td>...</td>\n",
       "      <td>...</td>\n",
       "    </tr>\n",
       "    <tr>\n",
       "      <th>888</th>\n",
       "      <td>52</td>\n",
       "      <td>M</td>\n",
       "      <td>ASY</td>\n",
       "      <td>128</td>\n",
       "      <td>204</td>\n",
       "      <td>1</td>\n",
       "      <td>Normal</td>\n",
       "      <td>156</td>\n",
       "      <td>Y</td>\n",
       "      <td>1.0</td>\n",
       "      <td>Flat</td>\n",
       "      <td>1</td>\n",
       "    </tr>\n",
       "    <tr>\n",
       "      <th>895</th>\n",
       "      <td>57</td>\n",
       "      <td>M</td>\n",
       "      <td>ASY</td>\n",
       "      <td>110</td>\n",
       "      <td>335</td>\n",
       "      <td>0</td>\n",
       "      <td>Normal</td>\n",
       "      <td>143</td>\n",
       "      <td>Y</td>\n",
       "      <td>3.0</td>\n",
       "      <td>Flat</td>\n",
       "      <td>1</td>\n",
       "    </tr>\n",
       "    <tr>\n",
       "      <th>897</th>\n",
       "      <td>55</td>\n",
       "      <td>F</td>\n",
       "      <td>ASY</td>\n",
       "      <td>128</td>\n",
       "      <td>205</td>\n",
       "      <td>0</td>\n",
       "      <td>ST</td>\n",
       "      <td>130</td>\n",
       "      <td>Y</td>\n",
       "      <td>2.0</td>\n",
       "      <td>Flat</td>\n",
       "      <td>1</td>\n",
       "    </tr>\n",
       "    <tr>\n",
       "      <th>901</th>\n",
       "      <td>58</td>\n",
       "      <td>F</td>\n",
       "      <td>ASY</td>\n",
       "      <td>170</td>\n",
       "      <td>225</td>\n",
       "      <td>1</td>\n",
       "      <td>LVH</td>\n",
       "      <td>146</td>\n",
       "      <td>Y</td>\n",
       "      <td>2.8</td>\n",
       "      <td>Flat</td>\n",
       "      <td>1</td>\n",
       "    </tr>\n",
       "    <tr>\n",
       "      <th>912</th>\n",
       "      <td>57</td>\n",
       "      <td>F</td>\n",
       "      <td>ASY</td>\n",
       "      <td>140</td>\n",
       "      <td>241</td>\n",
       "      <td>0</td>\n",
       "      <td>Normal</td>\n",
       "      <td>123</td>\n",
       "      <td>Y</td>\n",
       "      <td>0.2</td>\n",
       "      <td>Flat</td>\n",
       "      <td>1</td>\n",
       "    </tr>\n",
       "  </tbody>\n",
       "</table>\n",
       "<p>158 rows × 12 columns</p>\n",
       "</div>"
      ],
      "text/plain": [
       "     Age Sex ChestPainType  RestingBP  Cholesterol  FastingBS RestingECG  \\\n",
       "36    65   M           ASY        140          306          1     Normal   \n",
       "41    54   F           NAP        130          294          0         ST   \n",
       "59    52   M           ASY        112          342          0         ST   \n",
       "68    52   M           ASY        160          246          0         ST   \n",
       "70    57   M           ATA        140          265          0         ST   \n",
       "..   ...  ..           ...        ...          ...        ...        ...   \n",
       "888   52   M           ASY        128          204          1     Normal   \n",
       "895   57   M           ASY        110          335          0     Normal   \n",
       "897   55   F           ASY        128          205          0         ST   \n",
       "901   58   F           ASY        170          225          1        LVH   \n",
       "912   57   F           ASY        140          241          0     Normal   \n",
       "\n",
       "     MaxHR ExerciseAngina  Oldpeak ST_Slope  HeartDisease  \n",
       "36      87              Y      1.5     Flat             1  \n",
       "41     100              Y      0.0     Flat             1  \n",
       "59      96              Y      1.0     Flat             1  \n",
       "68      82              Y      4.0     Flat             1  \n",
       "70     145              Y      1.0     Flat             1  \n",
       "..     ...            ...      ...      ...           ...  \n",
       "888    156              Y      1.0     Flat             1  \n",
       "895    143              Y      3.0     Flat             1  \n",
       "897    130              Y      2.0     Flat             1  \n",
       "901    146              Y      2.8     Flat             1  \n",
       "912    123              Y      0.2     Flat             1  \n",
       "\n",
       "[158 rows x 12 columns]"
      ]
     },
     "execution_count": 120,
     "metadata": {},
     "output_type": "execute_result"
    }
   ],
   "source": [
    "df[(df['Cholesterol'] > 200) & (df['Age'] > 50) & (df['ExerciseAngina'] == \"Y\") & (df['HeartDisease'] == 1)] "
   ]
  },
  {
   "cell_type": "code",
   "execution_count": 121,
   "id": "ee4acdc1",
   "metadata": {
    "execution": {
     "iopub.execute_input": "2025-01-30T01:16:27.675987Z",
     "iopub.status.busy": "2025-01-30T01:16:27.674897Z",
     "iopub.status.idle": "2025-01-30T01:16:27.694245Z",
     "shell.execute_reply": "2025-01-30T01:16:27.693064Z"
    },
    "papermill": {
     "duration": 0.107728,
     "end_time": "2025-01-30T01:16:27.697643",
     "exception": false,
     "start_time": "2025-01-30T01:16:27.589915",
     "status": "completed"
    },
    "tags": []
   },
   "outputs": [
    {
     "data": {
      "text/html": [
       "<div>\n",
       "<style scoped>\n",
       "    .dataframe tbody tr th:only-of-type {\n",
       "        vertical-align: middle;\n",
       "    }\n",
       "\n",
       "    .dataframe tbody tr th {\n",
       "        vertical-align: top;\n",
       "    }\n",
       "\n",
       "    .dataframe thead th {\n",
       "        text-align: right;\n",
       "    }\n",
       "</style>\n",
       "<table border=\"1\" class=\"dataframe\">\n",
       "  <thead>\n",
       "    <tr style=\"text-align: right;\">\n",
       "      <th></th>\n",
       "      <th>RestingBP</th>\n",
       "      <th>FastingBS</th>\n",
       "    </tr>\n",
       "    <tr>\n",
       "      <th>ChestPainType</th>\n",
       "      <th></th>\n",
       "      <th></th>\n",
       "    </tr>\n",
       "  </thead>\n",
       "  <tbody>\n",
       "    <tr>\n",
       "      <th>ASY</th>\n",
       "      <td>133.212551</td>\n",
       "      <td>0.285425</td>\n",
       "    </tr>\n",
       "    <tr>\n",
       "      <th>ATA</th>\n",
       "      <td>130.624277</td>\n",
       "      <td>0.109827</td>\n",
       "    </tr>\n",
       "    <tr>\n",
       "      <th>NAP</th>\n",
       "      <td>130.960591</td>\n",
       "      <td>0.201970</td>\n",
       "    </tr>\n",
       "    <tr>\n",
       "      <th>TA</th>\n",
       "      <td>136.413043</td>\n",
       "      <td>0.282609</td>\n",
       "    </tr>\n",
       "  </tbody>\n",
       "</table>\n",
       "</div>"
      ],
      "text/plain": [
       "                RestingBP  FastingBS\n",
       "ChestPainType                       \n",
       "ASY            133.212551   0.285425\n",
       "ATA            130.624277   0.109827\n",
       "NAP            130.960591   0.201970\n",
       "TA             136.413043   0.282609"
      ]
     },
     "execution_count": 121,
     "metadata": {},
     "output_type": "execute_result"
    }
   ],
   "source": [
    "df.groupby('ChestPainType').agg({'RestingBP': 'mean', 'FastingBS': 'mean'})"
   ]
  },
  {
   "cell_type": "code",
   "execution_count": 122,
   "id": "b32f87e6",
   "metadata": {
    "execution": {
     "iopub.execute_input": "2025-01-30T01:16:27.795873Z",
     "iopub.status.busy": "2025-01-30T01:16:27.794929Z",
     "iopub.status.idle": "2025-01-30T01:16:27.828342Z",
     "shell.execute_reply": "2025-01-30T01:16:27.827236Z"
    },
    "papermill": {
     "duration": 0.08323,
     "end_time": "2025-01-30T01:16:27.831048",
     "exception": false,
     "start_time": "2025-01-30T01:16:27.747818",
     "status": "completed"
    },
    "tags": []
   },
   "outputs": [
    {
     "data": {
      "text/html": [
       "<div>\n",
       "<style scoped>\n",
       "    .dataframe tbody tr th:only-of-type {\n",
       "        vertical-align: middle;\n",
       "    }\n",
       "\n",
       "    .dataframe tbody tr th {\n",
       "        vertical-align: top;\n",
       "    }\n",
       "\n",
       "    .dataframe thead th {\n",
       "        text-align: right;\n",
       "    }\n",
       "</style>\n",
       "<table border=\"1\" class=\"dataframe\">\n",
       "  <thead>\n",
       "    <tr style=\"text-align: right;\">\n",
       "      <th></th>\n",
       "      <th>Age</th>\n",
       "      <th>Sex</th>\n",
       "      <th>ChestPainType</th>\n",
       "      <th>RestingBP</th>\n",
       "      <th>Cholesterol</th>\n",
       "      <th>FastingBS</th>\n",
       "      <th>RestingECG</th>\n",
       "      <th>MaxHR</th>\n",
       "      <th>ExerciseAngina</th>\n",
       "      <th>Oldpeak</th>\n",
       "      <th>ST_Slope</th>\n",
       "      <th>HeartDisease</th>\n",
       "    </tr>\n",
       "  </thead>\n",
       "  <tbody>\n",
       "    <tr>\n",
       "      <th>11</th>\n",
       "      <td>58</td>\n",
       "      <td>M</td>\n",
       "      <td>ATA</td>\n",
       "      <td>136</td>\n",
       "      <td>164</td>\n",
       "      <td>0</td>\n",
       "      <td>ST</td>\n",
       "      <td>99</td>\n",
       "      <td>Y</td>\n",
       "      <td>2.0</td>\n",
       "      <td>Flat</td>\n",
       "      <td>1</td>\n",
       "    </tr>\n",
       "    <tr>\n",
       "      <th>68</th>\n",
       "      <td>52</td>\n",
       "      <td>M</td>\n",
       "      <td>ASY</td>\n",
       "      <td>160</td>\n",
       "      <td>246</td>\n",
       "      <td>0</td>\n",
       "      <td>ST</td>\n",
       "      <td>82</td>\n",
       "      <td>Y</td>\n",
       "      <td>4.0</td>\n",
       "      <td>Flat</td>\n",
       "      <td>1</td>\n",
       "    </tr>\n",
       "    <tr>\n",
       "      <th>70</th>\n",
       "      <td>57</td>\n",
       "      <td>M</td>\n",
       "      <td>ATA</td>\n",
       "      <td>140</td>\n",
       "      <td>265</td>\n",
       "      <td>0</td>\n",
       "      <td>ST</td>\n",
       "      <td>145</td>\n",
       "      <td>Y</td>\n",
       "      <td>1.0</td>\n",
       "      <td>Flat</td>\n",
       "      <td>1</td>\n",
       "    </tr>\n",
       "    <tr>\n",
       "      <th>132</th>\n",
       "      <td>56</td>\n",
       "      <td>M</td>\n",
       "      <td>ASY</td>\n",
       "      <td>170</td>\n",
       "      <td>388</td>\n",
       "      <td>0</td>\n",
       "      <td>ST</td>\n",
       "      <td>122</td>\n",
       "      <td>Y</td>\n",
       "      <td>2.0</td>\n",
       "      <td>Flat</td>\n",
       "      <td>1</td>\n",
       "    </tr>\n",
       "    <tr>\n",
       "      <th>133</th>\n",
       "      <td>56</td>\n",
       "      <td>M</td>\n",
       "      <td>ASY</td>\n",
       "      <td>150</td>\n",
       "      <td>230</td>\n",
       "      <td>0</td>\n",
       "      <td>ST</td>\n",
       "      <td>124</td>\n",
       "      <td>Y</td>\n",
       "      <td>1.5</td>\n",
       "      <td>Flat</td>\n",
       "      <td>1</td>\n",
       "    </tr>\n",
       "    <tr>\n",
       "      <th>189</th>\n",
       "      <td>53</td>\n",
       "      <td>M</td>\n",
       "      <td>ASY</td>\n",
       "      <td>180</td>\n",
       "      <td>285</td>\n",
       "      <td>0</td>\n",
       "      <td>ST</td>\n",
       "      <td>120</td>\n",
       "      <td>Y</td>\n",
       "      <td>1.5</td>\n",
       "      <td>Flat</td>\n",
       "      <td>1</td>\n",
       "    </tr>\n",
       "    <tr>\n",
       "      <th>278</th>\n",
       "      <td>57</td>\n",
       "      <td>F</td>\n",
       "      <td>ASY</td>\n",
       "      <td>180</td>\n",
       "      <td>347</td>\n",
       "      <td>0</td>\n",
       "      <td>ST</td>\n",
       "      <td>126</td>\n",
       "      <td>Y</td>\n",
       "      <td>0.8</td>\n",
       "      <td>Flat</td>\n",
       "      <td>0</td>\n",
       "    </tr>\n",
       "    <tr>\n",
       "      <th>348</th>\n",
       "      <td>69</td>\n",
       "      <td>M</td>\n",
       "      <td>ASY</td>\n",
       "      <td>137</td>\n",
       "      <td>0</td>\n",
       "      <td>0</td>\n",
       "      <td>ST</td>\n",
       "      <td>104</td>\n",
       "      <td>Y</td>\n",
       "      <td>1.6</td>\n",
       "      <td>Flat</td>\n",
       "      <td>1</td>\n",
       "    </tr>\n",
       "    <tr>\n",
       "      <th>367</th>\n",
       "      <td>68</td>\n",
       "      <td>M</td>\n",
       "      <td>ASY</td>\n",
       "      <td>135</td>\n",
       "      <td>0</td>\n",
       "      <td>0</td>\n",
       "      <td>ST</td>\n",
       "      <td>120</td>\n",
       "      <td>Y</td>\n",
       "      <td>0.0</td>\n",
       "      <td>Up</td>\n",
       "      <td>1</td>\n",
       "    </tr>\n",
       "    <tr>\n",
       "      <th>380</th>\n",
       "      <td>60</td>\n",
       "      <td>M</td>\n",
       "      <td>ASY</td>\n",
       "      <td>160</td>\n",
       "      <td>0</td>\n",
       "      <td>0</td>\n",
       "      <td>ST</td>\n",
       "      <td>99</td>\n",
       "      <td>Y</td>\n",
       "      <td>0.5</td>\n",
       "      <td>Flat</td>\n",
       "      <td>1</td>\n",
       "    </tr>\n",
       "    <tr>\n",
       "      <th>397</th>\n",
       "      <td>58</td>\n",
       "      <td>M</td>\n",
       "      <td>ASY</td>\n",
       "      <td>170</td>\n",
       "      <td>0</td>\n",
       "      <td>1</td>\n",
       "      <td>ST</td>\n",
       "      <td>105</td>\n",
       "      <td>Y</td>\n",
       "      <td>0.0</td>\n",
       "      <td>Flat</td>\n",
       "      <td>1</td>\n",
       "    </tr>\n",
       "    <tr>\n",
       "      <th>416</th>\n",
       "      <td>63</td>\n",
       "      <td>M</td>\n",
       "      <td>ASY</td>\n",
       "      <td>140</td>\n",
       "      <td>260</td>\n",
       "      <td>0</td>\n",
       "      <td>ST</td>\n",
       "      <td>112</td>\n",
       "      <td>Y</td>\n",
       "      <td>3.0</td>\n",
       "      <td>Flat</td>\n",
       "      <td>1</td>\n",
       "    </tr>\n",
       "    <tr>\n",
       "      <th>418</th>\n",
       "      <td>60</td>\n",
       "      <td>M</td>\n",
       "      <td>ASY</td>\n",
       "      <td>132</td>\n",
       "      <td>218</td>\n",
       "      <td>0</td>\n",
       "      <td>ST</td>\n",
       "      <td>140</td>\n",
       "      <td>Y</td>\n",
       "      <td>1.5</td>\n",
       "      <td>Down</td>\n",
       "      <td>1</td>\n",
       "    </tr>\n",
       "    <tr>\n",
       "      <th>419</th>\n",
       "      <td>55</td>\n",
       "      <td>M</td>\n",
       "      <td>ASY</td>\n",
       "      <td>142</td>\n",
       "      <td>228</td>\n",
       "      <td>0</td>\n",
       "      <td>ST</td>\n",
       "      <td>149</td>\n",
       "      <td>Y</td>\n",
       "      <td>2.5</td>\n",
       "      <td>Up</td>\n",
       "      <td>1</td>\n",
       "    </tr>\n",
       "    <tr>\n",
       "      <th>422</th>\n",
       "      <td>65</td>\n",
       "      <td>M</td>\n",
       "      <td>ASY</td>\n",
       "      <td>150</td>\n",
       "      <td>236</td>\n",
       "      <td>1</td>\n",
       "      <td>ST</td>\n",
       "      <td>105</td>\n",
       "      <td>Y</td>\n",
       "      <td>0.0</td>\n",
       "      <td>Flat</td>\n",
       "      <td>1</td>\n",
       "    </tr>\n",
       "    <tr>\n",
       "      <th>423</th>\n",
       "      <td>60</td>\n",
       "      <td>M</td>\n",
       "      <td>NAP</td>\n",
       "      <td>180</td>\n",
       "      <td>0</td>\n",
       "      <td>0</td>\n",
       "      <td>ST</td>\n",
       "      <td>140</td>\n",
       "      <td>Y</td>\n",
       "      <td>1.5</td>\n",
       "      <td>Flat</td>\n",
       "      <td>0</td>\n",
       "    </tr>\n",
       "    <tr>\n",
       "      <th>427</th>\n",
       "      <td>59</td>\n",
       "      <td>M</td>\n",
       "      <td>ASY</td>\n",
       "      <td>140</td>\n",
       "      <td>0</td>\n",
       "      <td>0</td>\n",
       "      <td>ST</td>\n",
       "      <td>117</td>\n",
       "      <td>Y</td>\n",
       "      <td>1.0</td>\n",
       "      <td>Flat</td>\n",
       "      <td>1</td>\n",
       "    </tr>\n",
       "    <tr>\n",
       "      <th>435</th>\n",
       "      <td>60</td>\n",
       "      <td>M</td>\n",
       "      <td>ASY</td>\n",
       "      <td>152</td>\n",
       "      <td>0</td>\n",
       "      <td>0</td>\n",
       "      <td>ST</td>\n",
       "      <td>118</td>\n",
       "      <td>Y</td>\n",
       "      <td>0.0</td>\n",
       "      <td>Up</td>\n",
       "      <td>0</td>\n",
       "    </tr>\n",
       "    <tr>\n",
       "      <th>445</th>\n",
       "      <td>55</td>\n",
       "      <td>M</td>\n",
       "      <td>NAP</td>\n",
       "      <td>136</td>\n",
       "      <td>228</td>\n",
       "      <td>0</td>\n",
       "      <td>ST</td>\n",
       "      <td>124</td>\n",
       "      <td>Y</td>\n",
       "      <td>1.6</td>\n",
       "      <td>Flat</td>\n",
       "      <td>1</td>\n",
       "    </tr>\n",
       "    <tr>\n",
       "      <th>451</th>\n",
       "      <td>64</td>\n",
       "      <td>M</td>\n",
       "      <td>ASY</td>\n",
       "      <td>144</td>\n",
       "      <td>0</td>\n",
       "      <td>0</td>\n",
       "      <td>ST</td>\n",
       "      <td>122</td>\n",
       "      <td>Y</td>\n",
       "      <td>1.0</td>\n",
       "      <td>Flat</td>\n",
       "      <td>1</td>\n",
       "    </tr>\n",
       "    <tr>\n",
       "      <th>452</th>\n",
       "      <td>60</td>\n",
       "      <td>M</td>\n",
       "      <td>ASY</td>\n",
       "      <td>140</td>\n",
       "      <td>281</td>\n",
       "      <td>0</td>\n",
       "      <td>ST</td>\n",
       "      <td>118</td>\n",
       "      <td>Y</td>\n",
       "      <td>1.5</td>\n",
       "      <td>Flat</td>\n",
       "      <td>1</td>\n",
       "    </tr>\n",
       "    <tr>\n",
       "      <th>455</th>\n",
       "      <td>59</td>\n",
       "      <td>M</td>\n",
       "      <td>ASY</td>\n",
       "      <td>154</td>\n",
       "      <td>0</td>\n",
       "      <td>0</td>\n",
       "      <td>ST</td>\n",
       "      <td>131</td>\n",
       "      <td>Y</td>\n",
       "      <td>1.5</td>\n",
       "      <td>Up</td>\n",
       "      <td>0</td>\n",
       "    </tr>\n",
       "    <tr>\n",
       "      <th>460</th>\n",
       "      <td>57</td>\n",
       "      <td>M</td>\n",
       "      <td>ASY</td>\n",
       "      <td>139</td>\n",
       "      <td>277</td>\n",
       "      <td>1</td>\n",
       "      <td>ST</td>\n",
       "      <td>118</td>\n",
       "      <td>Y</td>\n",
       "      <td>1.9</td>\n",
       "      <td>Flat</td>\n",
       "      <td>1</td>\n",
       "    </tr>\n",
       "    <tr>\n",
       "      <th>468</th>\n",
       "      <td>62</td>\n",
       "      <td>M</td>\n",
       "      <td>ASY</td>\n",
       "      <td>152</td>\n",
       "      <td>153</td>\n",
       "      <td>0</td>\n",
       "      <td>ST</td>\n",
       "      <td>97</td>\n",
       "      <td>Y</td>\n",
       "      <td>1.6</td>\n",
       "      <td>Up</td>\n",
       "      <td>1</td>\n",
       "    </tr>\n",
       "    <tr>\n",
       "      <th>472</th>\n",
       "      <td>53</td>\n",
       "      <td>M</td>\n",
       "      <td>ASY</td>\n",
       "      <td>154</td>\n",
       "      <td>0</td>\n",
       "      <td>1</td>\n",
       "      <td>ST</td>\n",
       "      <td>140</td>\n",
       "      <td>Y</td>\n",
       "      <td>1.5</td>\n",
       "      <td>Flat</td>\n",
       "      <td>1</td>\n",
       "    </tr>\n",
       "    <tr>\n",
       "      <th>473</th>\n",
       "      <td>60</td>\n",
       "      <td>M</td>\n",
       "      <td>NAP</td>\n",
       "      <td>141</td>\n",
       "      <td>316</td>\n",
       "      <td>1</td>\n",
       "      <td>ST</td>\n",
       "      <td>122</td>\n",
       "      <td>Y</td>\n",
       "      <td>1.7</td>\n",
       "      <td>Flat</td>\n",
       "      <td>1</td>\n",
       "    </tr>\n",
       "    <tr>\n",
       "      <th>485</th>\n",
       "      <td>63</td>\n",
       "      <td>M</td>\n",
       "      <td>ATA</td>\n",
       "      <td>139</td>\n",
       "      <td>217</td>\n",
       "      <td>1</td>\n",
       "      <td>ST</td>\n",
       "      <td>128</td>\n",
       "      <td>Y</td>\n",
       "      <td>1.2</td>\n",
       "      <td>Flat</td>\n",
       "      <td>1</td>\n",
       "    </tr>\n",
       "    <tr>\n",
       "      <th>487</th>\n",
       "      <td>57</td>\n",
       "      <td>M</td>\n",
       "      <td>ASY</td>\n",
       "      <td>140</td>\n",
       "      <td>214</td>\n",
       "      <td>0</td>\n",
       "      <td>ST</td>\n",
       "      <td>144</td>\n",
       "      <td>Y</td>\n",
       "      <td>2.0</td>\n",
       "      <td>Flat</td>\n",
       "      <td>1</td>\n",
       "    </tr>\n",
       "    <tr>\n",
       "      <th>498</th>\n",
       "      <td>67</td>\n",
       "      <td>M</td>\n",
       "      <td>ASY</td>\n",
       "      <td>160</td>\n",
       "      <td>384</td>\n",
       "      <td>1</td>\n",
       "      <td>ST</td>\n",
       "      <td>130</td>\n",
       "      <td>Y</td>\n",
       "      <td>0.0</td>\n",
       "      <td>Flat</td>\n",
       "      <td>1</td>\n",
       "    </tr>\n",
       "    <tr>\n",
       "      <th>502</th>\n",
       "      <td>69</td>\n",
       "      <td>M</td>\n",
       "      <td>ASY</td>\n",
       "      <td>140</td>\n",
       "      <td>208</td>\n",
       "      <td>0</td>\n",
       "      <td>ST</td>\n",
       "      <td>140</td>\n",
       "      <td>Y</td>\n",
       "      <td>2.0</td>\n",
       "      <td>Flat</td>\n",
       "      <td>1</td>\n",
       "    </tr>\n",
       "    <tr>\n",
       "      <th>505</th>\n",
       "      <td>55</td>\n",
       "      <td>M</td>\n",
       "      <td>NAP</td>\n",
       "      <td>136</td>\n",
       "      <td>245</td>\n",
       "      <td>1</td>\n",
       "      <td>ST</td>\n",
       "      <td>131</td>\n",
       "      <td>Y</td>\n",
       "      <td>1.2</td>\n",
       "      <td>Flat</td>\n",
       "      <td>1</td>\n",
       "    </tr>\n",
       "    <tr>\n",
       "      <th>511</th>\n",
       "      <td>63</td>\n",
       "      <td>M</td>\n",
       "      <td>ASY</td>\n",
       "      <td>160</td>\n",
       "      <td>267</td>\n",
       "      <td>1</td>\n",
       "      <td>ST</td>\n",
       "      <td>88</td>\n",
       "      <td>Y</td>\n",
       "      <td>2.0</td>\n",
       "      <td>Flat</td>\n",
       "      <td>1</td>\n",
       "    </tr>\n",
       "    <tr>\n",
       "      <th>531</th>\n",
       "      <td>64</td>\n",
       "      <td>M</td>\n",
       "      <td>ASY</td>\n",
       "      <td>143</td>\n",
       "      <td>306</td>\n",
       "      <td>1</td>\n",
       "      <td>ST</td>\n",
       "      <td>115</td>\n",
       "      <td>Y</td>\n",
       "      <td>1.8</td>\n",
       "      <td>Flat</td>\n",
       "      <td>1</td>\n",
       "    </tr>\n",
       "    <tr>\n",
       "      <th>536</th>\n",
       "      <td>62</td>\n",
       "      <td>M</td>\n",
       "      <td>NAP</td>\n",
       "      <td>133</td>\n",
       "      <td>0</td>\n",
       "      <td>1</td>\n",
       "      <td>ST</td>\n",
       "      <td>119</td>\n",
       "      <td>Y</td>\n",
       "      <td>1.2</td>\n",
       "      <td>Flat</td>\n",
       "      <td>1</td>\n",
       "    </tr>\n",
       "    <tr>\n",
       "      <th>537</th>\n",
       "      <td>74</td>\n",
       "      <td>M</td>\n",
       "      <td>ASY</td>\n",
       "      <td>150</td>\n",
       "      <td>258</td>\n",
       "      <td>1</td>\n",
       "      <td>ST</td>\n",
       "      <td>130</td>\n",
       "      <td>Y</td>\n",
       "      <td>4.0</td>\n",
       "      <td>Down</td>\n",
       "      <td>1</td>\n",
       "    </tr>\n",
       "    <tr>\n",
       "      <th>540</th>\n",
       "      <td>62</td>\n",
       "      <td>M</td>\n",
       "      <td>NAP</td>\n",
       "      <td>138</td>\n",
       "      <td>204</td>\n",
       "      <td>0</td>\n",
       "      <td>ST</td>\n",
       "      <td>122</td>\n",
       "      <td>Y</td>\n",
       "      <td>1.2</td>\n",
       "      <td>Flat</td>\n",
       "      <td>1</td>\n",
       "    </tr>\n",
       "    <tr>\n",
       "      <th>543</th>\n",
       "      <td>70</td>\n",
       "      <td>M</td>\n",
       "      <td>ASY</td>\n",
       "      <td>170</td>\n",
       "      <td>192</td>\n",
       "      <td>0</td>\n",
       "      <td>ST</td>\n",
       "      <td>129</td>\n",
       "      <td>Y</td>\n",
       "      <td>3.0</td>\n",
       "      <td>Down</td>\n",
       "      <td>1</td>\n",
       "    </tr>\n",
       "    <tr>\n",
       "      <th>555</th>\n",
       "      <td>58</td>\n",
       "      <td>M</td>\n",
       "      <td>NAP</td>\n",
       "      <td>150</td>\n",
       "      <td>219</td>\n",
       "      <td>0</td>\n",
       "      <td>ST</td>\n",
       "      <td>118</td>\n",
       "      <td>Y</td>\n",
       "      <td>0.0</td>\n",
       "      <td>Flat</td>\n",
       "      <td>1</td>\n",
       "    </tr>\n",
       "    <tr>\n",
       "      <th>557</th>\n",
       "      <td>56</td>\n",
       "      <td>M</td>\n",
       "      <td>NAP</td>\n",
       "      <td>137</td>\n",
       "      <td>208</td>\n",
       "      <td>1</td>\n",
       "      <td>ST</td>\n",
       "      <td>122</td>\n",
       "      <td>Y</td>\n",
       "      <td>1.8</td>\n",
       "      <td>Flat</td>\n",
       "      <td>1</td>\n",
       "    </tr>\n",
       "    <tr>\n",
       "      <th>558</th>\n",
       "      <td>58</td>\n",
       "      <td>M</td>\n",
       "      <td>NAP</td>\n",
       "      <td>137</td>\n",
       "      <td>232</td>\n",
       "      <td>0</td>\n",
       "      <td>ST</td>\n",
       "      <td>124</td>\n",
       "      <td>Y</td>\n",
       "      <td>1.4</td>\n",
       "      <td>Flat</td>\n",
       "      <td>1</td>\n",
       "    </tr>\n",
       "    <tr>\n",
       "      <th>563</th>\n",
       "      <td>55</td>\n",
       "      <td>M</td>\n",
       "      <td>ASY</td>\n",
       "      <td>135</td>\n",
       "      <td>204</td>\n",
       "      <td>1</td>\n",
       "      <td>ST</td>\n",
       "      <td>126</td>\n",
       "      <td>Y</td>\n",
       "      <td>1.1</td>\n",
       "      <td>Flat</td>\n",
       "      <td>1</td>\n",
       "    </tr>\n",
       "    <tr>\n",
       "      <th>564</th>\n",
       "      <td>57</td>\n",
       "      <td>M</td>\n",
       "      <td>ASY</td>\n",
       "      <td>144</td>\n",
       "      <td>270</td>\n",
       "      <td>1</td>\n",
       "      <td>ST</td>\n",
       "      <td>160</td>\n",
       "      <td>Y</td>\n",
       "      <td>2.0</td>\n",
       "      <td>Flat</td>\n",
       "      <td>1</td>\n",
       "    </tr>\n",
       "    <tr>\n",
       "      <th>565</th>\n",
       "      <td>61</td>\n",
       "      <td>M</td>\n",
       "      <td>ASY</td>\n",
       "      <td>141</td>\n",
       "      <td>292</td>\n",
       "      <td>0</td>\n",
       "      <td>ST</td>\n",
       "      <td>115</td>\n",
       "      <td>Y</td>\n",
       "      <td>1.7</td>\n",
       "      <td>Flat</td>\n",
       "      <td>1</td>\n",
       "    </tr>\n",
       "    <tr>\n",
       "      <th>572</th>\n",
       "      <td>64</td>\n",
       "      <td>M</td>\n",
       "      <td>ASY</td>\n",
       "      <td>150</td>\n",
       "      <td>193</td>\n",
       "      <td>0</td>\n",
       "      <td>ST</td>\n",
       "      <td>135</td>\n",
       "      <td>Y</td>\n",
       "      <td>0.5</td>\n",
       "      <td>Flat</td>\n",
       "      <td>1</td>\n",
       "    </tr>\n",
       "    <tr>\n",
       "      <th>574</th>\n",
       "      <td>69</td>\n",
       "      <td>M</td>\n",
       "      <td>ASY</td>\n",
       "      <td>142</td>\n",
       "      <td>210</td>\n",
       "      <td>1</td>\n",
       "      <td>ST</td>\n",
       "      <td>112</td>\n",
       "      <td>Y</td>\n",
       "      <td>1.5</td>\n",
       "      <td>Flat</td>\n",
       "      <td>1</td>\n",
       "    </tr>\n",
       "    <tr>\n",
       "      <th>576</th>\n",
       "      <td>62</td>\n",
       "      <td>M</td>\n",
       "      <td>ASY</td>\n",
       "      <td>139</td>\n",
       "      <td>170</td>\n",
       "      <td>0</td>\n",
       "      <td>ST</td>\n",
       "      <td>120</td>\n",
       "      <td>Y</td>\n",
       "      <td>3.0</td>\n",
       "      <td>Flat</td>\n",
       "      <td>1</td>\n",
       "    </tr>\n",
       "    <tr>\n",
       "      <th>579</th>\n",
       "      <td>69</td>\n",
       "      <td>M</td>\n",
       "      <td>ASY</td>\n",
       "      <td>145</td>\n",
       "      <td>289</td>\n",
       "      <td>1</td>\n",
       "      <td>ST</td>\n",
       "      <td>110</td>\n",
       "      <td>Y</td>\n",
       "      <td>1.8</td>\n",
       "      <td>Flat</td>\n",
       "      <td>1</td>\n",
       "    </tr>\n",
       "    <tr>\n",
       "      <th>584</th>\n",
       "      <td>64</td>\n",
       "      <td>M</td>\n",
       "      <td>ASY</td>\n",
       "      <td>141</td>\n",
       "      <td>244</td>\n",
       "      <td>1</td>\n",
       "      <td>ST</td>\n",
       "      <td>116</td>\n",
       "      <td>Y</td>\n",
       "      <td>1.5</td>\n",
       "      <td>Flat</td>\n",
       "      <td>1</td>\n",
       "    </tr>\n",
       "    <tr>\n",
       "      <th>588</th>\n",
       "      <td>67</td>\n",
       "      <td>M</td>\n",
       "      <td>ASY</td>\n",
       "      <td>140</td>\n",
       "      <td>219</td>\n",
       "      <td>0</td>\n",
       "      <td>ST</td>\n",
       "      <td>122</td>\n",
       "      <td>Y</td>\n",
       "      <td>2.0</td>\n",
       "      <td>Flat</td>\n",
       "      <td>1</td>\n",
       "    </tr>\n",
       "    <tr>\n",
       "      <th>606</th>\n",
       "      <td>62</td>\n",
       "      <td>M</td>\n",
       "      <td>ASY</td>\n",
       "      <td>160</td>\n",
       "      <td>254</td>\n",
       "      <td>1</td>\n",
       "      <td>ST</td>\n",
       "      <td>108</td>\n",
       "      <td>Y</td>\n",
       "      <td>3.0</td>\n",
       "      <td>Flat</td>\n",
       "      <td>1</td>\n",
       "    </tr>\n",
       "    <tr>\n",
       "      <th>607</th>\n",
       "      <td>53</td>\n",
       "      <td>M</td>\n",
       "      <td>ASY</td>\n",
       "      <td>144</td>\n",
       "      <td>300</td>\n",
       "      <td>1</td>\n",
       "      <td>ST</td>\n",
       "      <td>128</td>\n",
       "      <td>Y</td>\n",
       "      <td>1.5</td>\n",
       "      <td>Flat</td>\n",
       "      <td>1</td>\n",
       "    </tr>\n",
       "    <tr>\n",
       "      <th>608</th>\n",
       "      <td>62</td>\n",
       "      <td>M</td>\n",
       "      <td>ASY</td>\n",
       "      <td>158</td>\n",
       "      <td>170</td>\n",
       "      <td>0</td>\n",
       "      <td>ST</td>\n",
       "      <td>138</td>\n",
       "      <td>Y</td>\n",
       "      <td>0.0</td>\n",
       "      <td>Flat</td>\n",
       "      <td>1</td>\n",
       "    </tr>\n",
       "    <tr>\n",
       "      <th>725</th>\n",
       "      <td>55</td>\n",
       "      <td>F</td>\n",
       "      <td>ASY</td>\n",
       "      <td>180</td>\n",
       "      <td>327</td>\n",
       "      <td>0</td>\n",
       "      <td>ST</td>\n",
       "      <td>117</td>\n",
       "      <td>Y</td>\n",
       "      <td>3.4</td>\n",
       "      <td>Flat</td>\n",
       "      <td>1</td>\n",
       "    </tr>\n",
       "  </tbody>\n",
       "</table>\n",
       "</div>"
      ],
      "text/plain": [
       "     Age Sex ChestPainType  RestingBP  Cholesterol  FastingBS RestingECG  \\\n",
       "11    58   M           ATA        136          164          0         ST   \n",
       "68    52   M           ASY        160          246          0         ST   \n",
       "70    57   M           ATA        140          265          0         ST   \n",
       "132   56   M           ASY        170          388          0         ST   \n",
       "133   56   M           ASY        150          230          0         ST   \n",
       "189   53   M           ASY        180          285          0         ST   \n",
       "278   57   F           ASY        180          347          0         ST   \n",
       "348   69   M           ASY        137            0          0         ST   \n",
       "367   68   M           ASY        135            0          0         ST   \n",
       "380   60   M           ASY        160            0          0         ST   \n",
       "397   58   M           ASY        170            0          1         ST   \n",
       "416   63   M           ASY        140          260          0         ST   \n",
       "418   60   M           ASY        132          218          0         ST   \n",
       "419   55   M           ASY        142          228          0         ST   \n",
       "422   65   M           ASY        150          236          1         ST   \n",
       "423   60   M           NAP        180            0          0         ST   \n",
       "427   59   M           ASY        140            0          0         ST   \n",
       "435   60   M           ASY        152            0          0         ST   \n",
       "445   55   M           NAP        136          228          0         ST   \n",
       "451   64   M           ASY        144            0          0         ST   \n",
       "452   60   M           ASY        140          281          0         ST   \n",
       "455   59   M           ASY        154            0          0         ST   \n",
       "460   57   M           ASY        139          277          1         ST   \n",
       "468   62   M           ASY        152          153          0         ST   \n",
       "472   53   M           ASY        154            0          1         ST   \n",
       "473   60   M           NAP        141          316          1         ST   \n",
       "485   63   M           ATA        139          217          1         ST   \n",
       "487   57   M           ASY        140          214          0         ST   \n",
       "498   67   M           ASY        160          384          1         ST   \n",
       "502   69   M           ASY        140          208          0         ST   \n",
       "505   55   M           NAP        136          245          1         ST   \n",
       "511   63   M           ASY        160          267          1         ST   \n",
       "531   64   M           ASY        143          306          1         ST   \n",
       "536   62   M           NAP        133            0          1         ST   \n",
       "537   74   M           ASY        150          258          1         ST   \n",
       "540   62   M           NAP        138          204          0         ST   \n",
       "543   70   M           ASY        170          192          0         ST   \n",
       "555   58   M           NAP        150          219          0         ST   \n",
       "557   56   M           NAP        137          208          1         ST   \n",
       "558   58   M           NAP        137          232          0         ST   \n",
       "563   55   M           ASY        135          204          1         ST   \n",
       "564   57   M           ASY        144          270          1         ST   \n",
       "565   61   M           ASY        141          292          0         ST   \n",
       "572   64   M           ASY        150          193          0         ST   \n",
       "574   69   M           ASY        142          210          1         ST   \n",
       "576   62   M           ASY        139          170          0         ST   \n",
       "579   69   M           ASY        145          289          1         ST   \n",
       "584   64   M           ASY        141          244          1         ST   \n",
       "588   67   M           ASY        140          219          0         ST   \n",
       "606   62   M           ASY        160          254          1         ST   \n",
       "607   53   M           ASY        144          300          1         ST   \n",
       "608   62   M           ASY        158          170          0         ST   \n",
       "725   55   F           ASY        180          327          0         ST   \n",
       "\n",
       "     MaxHR ExerciseAngina  Oldpeak ST_Slope  HeartDisease  \n",
       "11      99              Y      2.0     Flat             1  \n",
       "68      82              Y      4.0     Flat             1  \n",
       "70     145              Y      1.0     Flat             1  \n",
       "132    122              Y      2.0     Flat             1  \n",
       "133    124              Y      1.5     Flat             1  \n",
       "189    120              Y      1.5     Flat             1  \n",
       "278    126              Y      0.8     Flat             0  \n",
       "348    104              Y      1.6     Flat             1  \n",
       "367    120              Y      0.0       Up             1  \n",
       "380     99              Y      0.5     Flat             1  \n",
       "397    105              Y      0.0     Flat             1  \n",
       "416    112              Y      3.0     Flat             1  \n",
       "418    140              Y      1.5     Down             1  \n",
       "419    149              Y      2.5       Up             1  \n",
       "422    105              Y      0.0     Flat             1  \n",
       "423    140              Y      1.5     Flat             0  \n",
       "427    117              Y      1.0     Flat             1  \n",
       "435    118              Y      0.0       Up             0  \n",
       "445    124              Y      1.6     Flat             1  \n",
       "451    122              Y      1.0     Flat             1  \n",
       "452    118              Y      1.5     Flat             1  \n",
       "455    131              Y      1.5       Up             0  \n",
       "460    118              Y      1.9     Flat             1  \n",
       "468     97              Y      1.6       Up             1  \n",
       "472    140              Y      1.5     Flat             1  \n",
       "473    122              Y      1.7     Flat             1  \n",
       "485    128              Y      1.2     Flat             1  \n",
       "487    144              Y      2.0     Flat             1  \n",
       "498    130              Y      0.0     Flat             1  \n",
       "502    140              Y      2.0     Flat             1  \n",
       "505    131              Y      1.2     Flat             1  \n",
       "511     88              Y      2.0     Flat             1  \n",
       "531    115              Y      1.8     Flat             1  \n",
       "536    119              Y      1.2     Flat             1  \n",
       "537    130              Y      4.0     Down             1  \n",
       "540    122              Y      1.2     Flat             1  \n",
       "543    129              Y      3.0     Down             1  \n",
       "555    118              Y      0.0     Flat             1  \n",
       "557    122              Y      1.8     Flat             1  \n",
       "558    124              Y      1.4     Flat             1  \n",
       "563    126              Y      1.1     Flat             1  \n",
       "564    160              Y      2.0     Flat             1  \n",
       "565    115              Y      1.7     Flat             1  \n",
       "572    135              Y      0.5     Flat             1  \n",
       "574    112              Y      1.5     Flat             1  \n",
       "576    120              Y      3.0     Flat             1  \n",
       "579    110              Y      1.8     Flat             1  \n",
       "584    116              Y      1.5     Flat             1  \n",
       "588    122              Y      2.0     Flat             1  \n",
       "606    108              Y      3.0     Flat             1  \n",
       "607    128              Y      1.5     Flat             1  \n",
       "608    138              Y      0.0     Flat             1  \n",
       "725    117              Y      3.4     Flat             1  "
      ]
     },
     "execution_count": 122,
     "metadata": {},
     "output_type": "execute_result"
    }
   ],
   "source": [
    "df[(df['RestingBP'] > 130) & (df['Age'] > 50) & (df['ExerciseAngina'] == \"Y\") & (df['RestingECG'] == \"ST\" ) ] "
   ]
  },
  {
   "cell_type": "code",
   "execution_count": 123,
   "id": "5ef584e0",
   "metadata": {
    "execution": {
     "iopub.execute_input": "2025-01-30T01:16:27.931524Z",
     "iopub.status.busy": "2025-01-30T01:16:27.930157Z",
     "iopub.status.idle": "2025-01-30T01:16:27.941832Z",
     "shell.execute_reply": "2025-01-30T01:16:27.940807Z"
    },
    "papermill": {
     "duration": 0.063475,
     "end_time": "2025-01-30T01:16:27.944169",
     "exception": false,
     "start_time": "2025-01-30T01:16:27.880694",
     "status": "completed"
    },
    "tags": []
   },
   "outputs": [
    {
     "data": {
      "text/plain": [
       "68.0"
      ]
     },
     "execution_count": 123,
     "metadata": {},
     "output_type": "execute_result"
    }
   ],
   "source": [
    "(df[(df['Sex'] == 'M') & (df['Age'] > 50) & (df['ChestPainType'] == 'TA')]['Cholesterol'] > 200).mean() * 100"
   ]
  },
  {
   "cell_type": "code",
   "execution_count": 124,
   "id": "6cab2225",
   "metadata": {
    "execution": {
     "iopub.execute_input": "2025-01-30T01:16:28.043450Z",
     "iopub.status.busy": "2025-01-30T01:16:28.043034Z",
     "iopub.status.idle": "2025-01-30T01:16:28.054506Z",
     "shell.execute_reply": "2025-01-30T01:16:28.053351Z"
    },
    "papermill": {
     "duration": 0.063326,
     "end_time": "2025-01-30T01:16:28.056532",
     "exception": false,
     "start_time": "2025-01-30T01:16:27.993206",
     "status": "completed"
    },
    "tags": []
   },
   "outputs": [
    {
     "data": {
      "text/plain": [
       "36.92307692307693"
      ]
     },
     "execution_count": 124,
     "metadata": {},
     "output_type": "execute_result"
    }
   ],
   "source": [
    "# incidence of high resting blood pressure\n",
    "((df[(df['Sex'] == 'F') & (df['Cholesterol'] > 200) & (df['ExerciseAngina'] == \"Y\")]['RestingBP'] > 130).mean()) * 100\n",
    "\n",
    "\n",
    "# incidence of exercise-induced angina\n",
    "((df[(df['Sex'] == 'F') & (df['Cholesterol'] > 200) & (df['RestingBP'] > 130)]['ExerciseAngina'] == \"Y\").mean()) * 100"
   ]
  },
  {
   "cell_type": "markdown",
   "id": "feaadb3c",
   "metadata": {
    "papermill": {
     "duration": 0.047581,
     "end_time": "2025-01-30T01:16:28.153041",
     "exception": false,
     "start_time": "2025-01-30T01:16:28.105460",
     "status": "completed"
    },
    "tags": []
   },
   "source": [
    "# thank you 😊😊"
   ]
  }
 ],
 "metadata": {
  "kaggle": {
   "accelerator": "none",
   "dataSources": [
    {
     "datasetId": 1582403,
     "sourceId": 2603715,
     "sourceType": "datasetVersion"
    }
   ],
   "dockerImageVersionId": 30786,
   "isGpuEnabled": false,
   "isInternetEnabled": true,
   "language": "python",
   "sourceType": "notebook"
  },
  "kernelspec": {
   "display_name": "Python 3",
   "language": "python",
   "name": "python3"
  },
  "language_info": {
   "codemirror_mode": {
    "name": "ipython",
    "version": 3
   },
   "file_extension": ".py",
   "mimetype": "text/x-python",
   "name": "python",
   "nbconvert_exporter": "python",
   "pygments_lexer": "ipython3",
   "version": "3.10.14"
  },
  "papermill": {
   "default_parameters": {},
   "duration": 18.501606,
   "end_time": "2025-01-30T01:16:28.722626",
   "environment_variables": {},
   "exception": null,
   "input_path": "__notebook__.ipynb",
   "output_path": "__notebook__.ipynb",
   "parameters": {},
   "start_time": "2025-01-30T01:16:10.221020",
   "version": "2.6.0"
  }
 },
 "nbformat": 4,
 "nbformat_minor": 5
}
